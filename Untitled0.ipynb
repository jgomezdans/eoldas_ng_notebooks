{
 "metadata": {
  "name": ""
 },
 "nbformat": 3,
 "nbformat_minor": 0,
 "worksheets": [
  {
   "cells": [
    {
     "cell_type": "code",
     "collapsed": false,
     "input": [
      "from gp_emulator import MultivariateEmulator\n",
      "angles = [ [15, 15, 0] ]\n",
      "#emulator,  samples, validate = create_emulators ( state, [\"\"], angles=angles )   \n",
      "#for i,(s,v,r) in enumerate(angles):     \n",
      "#    fname = \"%02d_sza_%02d_vza_000_raa\" % (s,v)\n",
      "#    emulator[i].dump_emulator(fname)\n",
      "#emulators = {}\n",
      "#emulators[(s,v)] = emulator[0]\n",
      "emulators = {}\n",
      "for i,(s,v,r) in enumerate(angles):     \n",
      "    fname = \"%02d_sza_%02d_vza_000_raa.npz\" % (s,v)\n",
      "    emulators[(v,s)]= MultivariateEmulator ( dump=fname )"
     ],
     "language": "python",
     "metadata": {},
     "outputs": [
      {
       "output_type": "stream",
       "stream": "stdout",
       "text": [
        "Decomposing the input dataset into basis functions... "
       ]
      },
      {
       "output_type": "stream",
       "stream": "stdout",
       "text": [
        "Done!\n",
        " ====> Using 8 basis functions\n"
       ]
      }
     ],
     "prompt_number": 1
    },
    {
     "cell_type": "code",
     "collapsed": false,
     "input": [
      "emulators.keys()\n"
     ],
     "language": "python",
     "metadata": {},
     "outputs": [
      {
       "metadata": {},
       "output_type": "pyout",
       "prompt_number": 4,
       "text": [
        "[(15, 15)]"
       ]
      }
     ],
     "prompt_number": 4
    },
    {
     "cell_type": "code",
     "collapsed": false,
     "input": [
      "emulator = emulators[(15,15)]"
     ],
     "language": "python",
     "metadata": {},
     "outputs": [],
     "prompt_number": 5
    },
    {
     "cell_type": "code",
     "collapsed": false,
     "input": [
      "import prosail\n",
      "import scipy.stats as ss\n",
      "from gp_emulator import MultivariateEmulator, lhd\n",
      "\n",
      "def fixnan(x):\n",
      "  '''\n",
      "  the RT model sometimes fails so we interpolate over nan\n",
      "\n",
      "  This method replaces the nans in the vector x by their interpolated values\n",
      "  '''\n",
      "  for i in xrange(x.shape[0]):\n",
      "    sample = x[i]\n",
      "    ww = np.where(np.isnan(sample))\n",
      "    nww = np.where(~np.isnan(sample))\n",
      "    sample[ww] = np.interp(ww[0],nww[0],sample[nww])\n",
      "    x[i] = sample\n",
      "  return x\n",
      "\n",
      "def create_emulators ( state, fnames, random=False, v_size=300, n_size=175, angles=None, \\\n",
      "       vzax = np.arange ( 5, 60, 5 ), szax = np.arange ( 5, 60, 5 ), \\\n",
      "       raax = np.arange (-180, 180, 30 )  ):\n",
      "    \"\"\"\n",
      "    This function produces the sampling of parameter space based on the\n",
      "    state object that it receives. It then goes to generate the forward\n",
      "    models required, as well as a random sampling to validate against.\n",
      "    \n",
      "    TODO completeme!!!!!    \n",
      "    \"\"\"\n",
      "    distributions = []\n",
      "    for i, (param, minval ) in enumerate ( state.parameter_min.iteritems() ):\n",
      "        maxval = state.bounds[i][1]\n",
      "        minval = state.bounds[i][0]\n",
      "        distributions.append ( ss.uniform( loc=minval, \\\n",
      "                scale=(maxval-minval)) )\n",
      "    if random:\n",
      "        samples = []\n",
      "        for d in distributions:\n",
      "            samples.append ( d.rvs( n_size ) )\n",
      "        samples = np.array ( samples ).T\n",
      "    else:\n",
      "        samples = lhd ( dist=distributions, size=n_size )\n",
      "    if angles is None:\n",
      "        angles = np.array ( [angle \\\n",
      "            for angle in itertools.product ( szax, vzax, raax )] )\n",
      "    validate = []\n",
      "    for d in distributions:\n",
      "        validate.append ( d.rvs( v_size ) )\n",
      "    validate = np.array ( validate ).T\n",
      "    V = np.zeros ((v_size, 16))\n",
      "    V[:, 9:11] = validate[:, 8:]\n",
      "    V[:, 11] = 0.01\n",
      "    V[:, -1] = 2\n",
      "    S = np.zeros ((n_size, 16))\n",
      "    S[:, 9:11] = samples[:, 8:]\n",
      "    S[:, 11] = 0.01 # hotspot\n",
      "    S[:, -1] = 2\n",
      "    for i,k in enumerate ( state.parameter_max.keys()[:8]):\n",
      "        if state.invtransformation_dict.has_key(k):\n",
      "            S[:, i] = state.invtransformation_dict[k](samples[:, i] )\n",
      "            V[:, i] = state.invtransformation_dict[k](validate[:, i] )\n",
      "            \n",
      "        else:\n",
      "            S[:, i] = samples[:, i]\n",
      "            V[:, i] = validate[:, i]\n",
      "\n",
      "    gps = []\n",
      "    for i, angle in enumerate ( angles ):\n",
      "        S[:, 12:15] = angle \n",
      "        V[:, 12:15] = angle\n",
      "        \n",
      "        train_brf = np.array ( [ prosail.run_prosail ( *s ) for s in S ] )\n",
      "        validate_brf = np.array ( [ prosail.run_prosail ( *s ) for s in V ] )\n",
      "        train_brf = fixnan ( train_brf )\n",
      "        validate_brf = fixnan ( validate_brf )\n",
      "        emu, rmse = do_mv_emulation ( samples, validate, train_brf, validate_brf )\n",
      "        print \"(RMSE:%g)\" % ( rmse )\n",
      "        #emu.dump_emulator ( fnames[i] )\n",
      "        gps.append ( emu )\n",
      "        \n",
      "    return gps, samples, validate\n",
      "\n",
      "\n",
      "def do_mv_emulation ( xtrain, xvalidate, train_brf, validate_brf ):\n",
      "    wv = np.arange (400, 2501)\n",
      "    N = xvalidate.shape[0]\n",
      "    emu = MultivariateEmulator (y=xtrain, X=train_brf )\n",
      "    rmse = np.sqrt(np.mean([(validate_brf[i] - \\\n",
      "         emu.predict ( np.atleast_2d(xvalidate[i,:]))[0])**2 \\\n",
      "         for i in xrange(N)]))\n",
      "    for i in xrange(5):\n",
      "        plt.plot ( wv, validate_brf[i], '-', lw=2.1 )\n",
      "        plt.plot ( wv, emu.predict ( np.atleast_2d(xvalidate[i,:]))[0], '--k', lw=1)\n",
      "    plt.xlim(400,2500)\n",
      "    plt.ylabel(r'$\\rho(\\Omega_{i}, \\Omega_{s})\\;[-]$')\n",
      "    plt.xlabel(r'$\\lambda\\; [nm]$')\n",
      "    plt.title(\"RMSE: %g\" % rmse )\n",
      "        \n",
      "    return emu, rmse\n"
     ],
     "language": "python",
     "metadata": {},
     "outputs": [],
     "prompt_number": 38
    },
    {
     "cell_type": "code",
     "collapsed": false,
     "input": [
      "from collections import OrderedDict\n",
      "try:\n",
      "    from operators import *\n",
      "    from state import *\n",
      "except ImportError:\n",
      "    import sys\n",
      "    sys.path.append ( \"../eoldas_ng/\")\n",
      "    from operators import *\n",
      "    from state import *\n",
      "\n",
      "state_config = OrderedDict ()\n",
      "\n",
      "state_config['n'] = FIXED\n",
      "state_config['cab'] = VARIABLE\n",
      "state_config['car'] = FIXED\n",
      "state_config['cbrown'] = FIXED\n",
      "state_config['cw'] = FIXED\n",
      "state_config['cm'] = FIXED\n",
      "state_config['lai'] = VARIABLE\n",
      "state_config['ala'] = FIXED\n",
      "state_config['bsoil'] = FIXED\n",
      "state_config['psoil'] = FIXED\n",
      "\n",
      "    \n",
      "    \n",
      "    \n",
      "    \n",
      "# Now define the default values\n",
      "default_par = OrderedDict ()\n",
      "default_par['n'] = 1.5\n",
      "default_par['cab'] = 40.\n",
      "default_par['car'] = 10.\n",
      "default_par['cbrown'] = 0.01\n",
      "default_par['cw'] = 0.018 # Say?\n",
      "default_par['cm'] = 0.0065 # Say?\n",
      "default_par['lai'] = 2\n",
      "default_par['ala'] = 45.\n",
      "default_par['bsoil'] = 1.\n",
      "default_par['psoil'] = 0.1\n",
      "\n",
      "parameter_min = OrderedDict()\n",
      "parameter_max = OrderedDict()\n",
      "    \n",
      "min_vals = [ 0.8, 0.2, 0.0, 0.0, 0.0043, 0.0017,0.01, 40, 0., 0., 0.]\n",
      "max_vals = [2.5, 77., 5., 1., 0.0713, 0.0331, 8., 50., 2., 1.]\n",
      "\n",
      "for i, param in enumerate ( state_config.keys() ):\n",
      "    parameter_min[param] = min_vals[i]\n",
      "    parameter_max[param] = max_vals[i]\n",
      "    # Define parameter transformations\n",
      "transformations = {\n",
      "        'lai': lambda x: np.exp ( -x/2. ), \\\n",
      "        'cab': lambda x: np.exp ( -x/100. ), \\\n",
      "        'car': lambda x: np.exp ( -x/100. ), \\\n",
      "        'cw': lambda x: np.exp ( -50.*x ), \\\n",
      "        'cm': lambda x: np.exp ( -100.*x ), \\\n",
      "        'ala': lambda x: x/90. }\n",
      "inv_transformations = {\n",
      "        'lai': lambda x: -2*np.log ( x ), \\\n",
      "        'cab': lambda x: -100*np.log ( x ), \\\n",
      "        'car': lambda x: -100*np.log( x ), \\\n",
      "        'cw': lambda x: (-1/50.)*np.log ( x ), \\\n",
      "        'cm': lambda x: (-1/100.)*np.log ( x ), \\\n",
      "        'ala': lambda x: 90.*x }\n",
      "\n",
      "# Define the state grid. In time in this case\n",
      "state_grid = np.arange ( 1, 366 )\n",
      "    \n",
      "# Define the state\n",
      "# L'etat, c'est moi\n",
      "state = State ( state_config, state_grid, default_par, \\\n",
      "        parameter_min, parameter_max )\n",
      "# Set the transformations\n",
      "state.set_transformations ( transformations, inv_transformations )\n"
     ],
     "language": "python",
     "metadata": {},
     "outputs": [],
     "prompt_number": 35
    },
    {
     "cell_type": "code",
     "collapsed": false,
     "input": [
      "import json\n",
      "import matplotlib\n",
      "import urllib2\n",
      "url = \"http://github.com/CamDavidsonPilon/Probabilistic-Programming-and-Bayesian-Methods-for-Hackers/raw/master/styles/bmh_matplotlibrc.json\"\n",
      "s = json.load( urllib2.urlopen(url))\n",
      "matplotlib.rcParams.update(s)\n",
      "matplotlib.rcParams['text.usetex'] = True"
     ],
     "language": "python",
     "metadata": {},
     "outputs": [],
     "prompt_number": 36
    },
    {
     "cell_type": "code",
     "collapsed": false,
     "input": [
      "emulator,  samples, validate = create_emulators ( state, [\"\"], angles=angles )   \n",
      "plt.savefig(\"/tmp/emulator_perf.pdf\")"
     ],
     "language": "python",
     "metadata": {},
     "outputs": [
      {
       "output_type": "stream",
       "stream": "stdout",
       "text": [
        "Decomposing the input dataset into basis functions... "
       ]
      },
      {
       "output_type": "stream",
       "stream": "stdout",
       "text": [
        "Done!\n",
        " ====> Using 7 basis functions\n",
        "\tFitting GP for basis function 0\n",
        "\tFitting GP for basis function 1"
       ]
      },
      {
       "output_type": "stream",
       "stream": "stdout",
       "text": [
        "\n",
        "\tFitting GP for basis function 2"
       ]
      },
      {
       "output_type": "stream",
       "stream": "stdout",
       "text": [
        "\n",
        "\tFitting GP for basis function 3"
       ]
      },
      {
       "output_type": "stream",
       "stream": "stdout",
       "text": [
        "\n",
        "\tFitting GP for basis function 4"
       ]
      },
      {
       "output_type": "stream",
       "stream": "stdout",
       "text": [
        "\n",
        "\tFitting GP for basis function 5"
       ]
      },
      {
       "output_type": "stream",
       "stream": "stdout",
       "text": [
        "\n",
        "\tFitting GP for basis function 6"
       ]
      },
      {
       "output_type": "stream",
       "stream": "stdout",
       "text": [
        "\n",
        "(RMSE:0.0097422)"
       ]
      },
      {
       "output_type": "stream",
       "stream": "stdout",
       "text": [
        "\n"
       ]
      },
      {
       "metadata": {},
       "output_type": "display_data",
       "png": "[encoded data removed]",
       "text": [
        "<matplotlib.figure.Figure at 0x19591b90>"
       ]
      }
     ],
     "prompt_number": 39
    },
    {
     "cell_type": "code",
     "collapsed": false,
     "input": [],
     "language": "python",
     "metadata": {},
     "outputs": []
    }
   ],
   "metadata": {}
  }
 ]
}