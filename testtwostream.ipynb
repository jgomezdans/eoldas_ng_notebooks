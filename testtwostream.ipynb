{
 "metadata": {
  "name": ""
 },
 "nbformat": 3,
 "nbformat_minor": 0,
 "worksheets": [
  {
   "cells": [
    {
     "cell_type": "code",
     "collapsed": false,
     "input": [
      "from operators import *\n",
      "from two_stream import *\n",
      "from collections import OrderedDict\n"
     ],
     "language": "python",
     "metadata": {},
     "outputs": [],
     "prompt_number": 1
    },
    {
     "cell_type": "code",
     "collapsed": false,
     "input": [
      "obs = np.loadtxt(\"../notebooks/harvard_2003.txt\")\n"
     ],
     "language": "python",
     "metadata": {},
     "outputs": [],
     "prompt_number": 30
    },
    {
     "cell_type": "code",
     "collapsed": false,
     "input": [
      "passer = obs[:,1] == 1\n",
      "plt.plot ( obs[passer,0], obs[passer,3], 'o')\n",
      "plt.plot ( obs[passer,0], obs[passer,4], '+')"
     ],
     "language": "python",
     "metadata": {},
     "outputs": [
      {
       "metadata": {},
       "output_type": "pyout",
       "prompt_number": 31,
       "text": [
        "[<matplotlib.lines.Line2D at 0x14131950>]"
       ]
      },
      {
       "metadata": {},
       "output_type": "display_data",
       "png": "[encoded data removed]",
       "text": [
        "<matplotlib.figure.Figure at 0x141318d0>"
       ]
      }
     ],
     "prompt_number": 31
    },
    {
     "cell_type": "code",
     "collapsed": false,
     "input": [
      "state_config = OrderedDict ()\n",
      "    \n",
      "state_config['sigma_vis'] = CONSTANT\n",
      "state_config['d_vis'] = CONSTANT\n",
      "state_config['r_vis'] = CONSTANT\n",
      "state_config['sigma_nir'] = CONSTANT\n",
      "state_config['d_nir'] = CONSTANT\n",
      "state_config['r_nir'] = CONSTANT\n",
      "state_config['lai'] = VARIABLE\n",
      "\n",
      "default_par = OrderedDict ()\n",
      "default_par['sigma_vis'] = 0.17\n",
      "default_par['d_vis'] = 1\n",
      "default_par['r_vis'] = 0.1\n",
      "default_par['sigma_nir'] = 0.7\n",
      "default_par['d_nir'] = 2\n",
      "default_par['r_nir'] = 0.18\n",
      "default_par['lai'] = 1.5\n",
      "    \n",
      "    \n",
      "    \n",
      "    \n",
      "    \n",
      "# Define boundaries\n",
      "parameter_min = OrderedDict()\n",
      "parameter_max = OrderedDict()\n",
      "\n",
      "min_vals= np.array ( 7*[ 0.001,] )\n",
      "max_vals = np.array ( 7*[0.98, ] )\n",
      "max_vals[-1] = 10.\n",
      "min_vals[1] = 0.\n",
      "max_vals[1] = 5.\n",
      "min_vals[4] = 0.\n",
      "max_vals[4] = 5.\n",
      "\n",
      "        \n",
      "for i, param in enumerate ( state_config.keys() ):\n",
      "    parameter_min[param] = min_vals[i]\n",
      "    parameter_max[param] = max_vals[i]\n",
      "# Define the state grid. In time in this case\n",
      "state_grid = np.arange ( 1, 366 )\n",
      "state = State( state_config, state_grid, default_par, parameter_min, parameter_max)"
     ],
     "language": "python",
     "metadata": {},
     "outputs": [],
     "prompt_number": 4
    },
    {
     "cell_type": "code",
     "collapsed": false,
     "input": [
      "sun_angles = obs[passer,2]\n",
      "emulators =  create_emulators ( sun_angles, min_vals, max_vals, n_train=250, n_validate=1000)"
     ],
     "language": "python",
     "metadata": {},
     "outputs": [
      {
       "output_type": "stream",
       "stream": "stdout",
       "text": [
        "Sun Angle: 4, RMSE VIS: 0.0106109, RMSE NIR: 0.0121634\n",
        "Sun Angle: 16, RMSE VIS: 0.0105724, RMSE NIR: 0.0121463"
       ]
      },
      {
       "output_type": "stream",
       "stream": "stdout",
       "text": [
        "\n",
        "Sun Angle: 7, RMSE VIS: 0.0106057, RMSE NIR: 0.0120523"
       ]
      },
      {
       "output_type": "stream",
       "stream": "stdout",
       "text": [
        "\n",
        "Sun Angle: 13, RMSE VIS: 0.0105866, RMSE NIR: 0.0121524"
       ]
      },
      {
       "output_type": "stream",
       "stream": "stdout",
       "text": [
        "\n",
        "Sun Angle: 9, RMSE VIS: 0.0106007, RMSE NIR: 0.0121587"
       ]
      },
      {
       "output_type": "stream",
       "stream": "stdout",
       "text": [
        "\n",
        "Sun Angle: 14, RMSE VIS: 0.0105822, RMSE NIR: 0.0121505"
       ]
      },
      {
       "output_type": "stream",
       "stream": "stdout",
       "text": [
        "\n",
        "Sun Angle: 2, RMSE VIS: 0.0106128, RMSE NIR: 0.0121643"
       ]
      },
      {
       "output_type": "stream",
       "stream": "stdout",
       "text": [
        "\n",
        "Sun Angle: 12, RMSE VIS: 0.0105907, RMSE NIR: 0.0121542"
       ]
      },
      {
       "output_type": "stream",
       "stream": "stdout",
       "text": [
        "\n",
        "Sun Angle: 10, RMSE VIS: 0.0105977, RMSE NIR: 0.0121573"
       ]
      },
      {
       "output_type": "stream",
       "stream": "stdout",
       "text": [
        "\n",
        "Sun Angle: 3, RMSE VIS: 0.010612, RMSE NIR: 0.012164"
       ]
      },
      {
       "output_type": "stream",
       "stream": "stdout",
       "text": [
        "\n",
        "Sun Angle: 17, RMSE VIS: 0.0105669, RMSE NIR: 0.012035"
       ]
      },
      {
       "output_type": "stream",
       "stream": "stdout",
       "text": [
        "\n",
        "Sun Angle: 5, RMSE VIS: 0.0106095, RMSE NIR: 0.0121628"
       ]
      },
      {
       "output_type": "stream",
       "stream": "stdout",
       "text": [
        "\n",
        "Sun Angle: 29, RMSE VIS: 0.0104664, RMSE NIR: 0.0121062"
       ]
      },
      {
       "output_type": "stream",
       "stream": "stdout",
       "text": [
        "\n",
        "Sun Angle: 19, RMSE VIS: 0.0105547, RMSE NIR: 0.0121391"
       ]
      },
      {
       "output_type": "stream",
       "stream": "stdout",
       "text": [
        "\n",
        "Sun Angle: 15, RMSE VIS: 0.0105775, RMSE NIR: 0.0120395"
       ]
      },
      {
       "output_type": "stream",
       "stream": "stdout",
       "text": [
        "\n"
       ]
      }
     ],
     "prompt_number": 91
    },
    {
     "cell_type": "code",
     "collapsed": false,
     "input": [
      "observations = np.zeros((365, 2))\n",
      "mask = np.zeros((365,2))\n",
      "bu = np.zeros((365,2))\n",
      "doys = obs[:,0]\n",
      "\n",
      "for i in state_grid:\n",
      "    if i in doys:\n",
      "        iloc = obs[:,0] == i\n",
      "        \n",
      "        if passer[iloc]:\n",
      "            observations[i-1,:] = obs[iloc, 3:5]\n",
      "            mask[i-1, :] = [ 1, obs[iloc,2] ]\n",
      "            bu[i-1,:]  = [ obs[iloc, 5], obs[iloc, 6] ]\n",
      "        else:\n",
      "            mask[i-1,:] = [0, 0]\n",
      "    else:\n",
      "        mask[i-1,:] = [0,0]\n",
      "        \n",
      "\n"
     ],
     "language": "python",
     "metadata": {},
     "outputs": [],
     "prompt_number": 92
    },
    {
     "cell_type": "code",
     "collapsed": false,
     "input": [
      "def select_emulator ( itime, mask, emulators):\n",
      "    \n",
      "    sun_angle = mask[itime,1]\n",
      "    vis = emulators[sun_angle][0].predict\n",
      "    nir = emulators[sun_angle][1].predict\n",
      "    return vis, nir\n",
      "\n",
      "class ObservationOperatorTwoStream ( object ):\n",
      "    \"\"\"A GP-based observation operator\"\"\"\n",
      "    def __init__ ( self, state_grid, state, observations, mask, emulators, bu ):\n",
      "        \"\"\"\n",
      "         observations is an array with n_bands, nt observations. nt has to be the \n",
      "         same size as state_grid (can have dummny numbers in). mask is nt*4 \n",
      "         (mask, vza, sza, raa) array.\n",
      "         \n",
      "         \n",
      "        \"\"\"\n",
      "        self.state = state\n",
      "        self.nt, self.n_bands = observations.shape\n",
      "        self.observations = observations\n",
      "        \n",
      "        self.mask = mask\n",
      "    \n",
      "        self.state_grid = state_grid\n",
      "        self.emulators = emulators\n",
      "        self.bu = bu\n",
      "        \n",
      "    def der_cost ( self, x_dict, state_config ):\n",
      "\n",
      "        \"\"\"The cost function and its partial derivatives. One important thing\n",
      "        to note is that GPs have been parameterised in transformed space, \n",
      "        whereas `x_dict` is in \"real space\". So when we go over the parameter\n",
      "        dictionary, we need to transform back to linear units. TODO Clearly, it\n",
      "        might be better to have cost functions that report whether they need\n",
      "        a dictionary in true or transformed units!\n",
      "        \n",
      "        \"\"\"\n",
      "        i = 0\n",
      "        cost = 0.\n",
      "        n = 0\n",
      "        n = 0\n",
      "        for param, typo in state_config.iteritems():\n",
      "            if typo == CONSTANT:\n",
      "                n += 1\n",
      "            elif typo == VARIABLE:\n",
      "                n_elems = len ( x_dict[param] )\n",
      "                n += n_elems\n",
      "        der_cost = np.zeros ( n )\n",
      "        x_params = np.empty ( ( len( x_dict.keys()), self.nt ) )\n",
      "        j = 0\n",
      "        ii = 0\n",
      "        the_derivatives = np.zeros ( ( len( x_dict.keys()), self.nt ) )\n",
      "        for param, typo in state_config.iteritems():\n",
      "        \n",
      "            if typo == FIXED or  typo == CONSTANT:\n",
      "                x_params[ j, : ] = x_dict[param]\n",
      "                \n",
      "            elif typo == VARIABLE:\n",
      "                x_params[ j, : ] = x_dict[param]\n",
      "\n",
      "            j += 1\n",
      "        \n",
      "\n",
      "        for itime, tstep in enumerate ( self.state_grid ):\n",
      "            if self.mask[itime, 0] == 0:\n",
      "                # No obs here\n",
      "                continue\n",
      "            albedo_vis, albedo_nir = self.observations[ itime, :]\n",
      "            # We use the `get_emulator` method to select the required\n",
      "            # emulator for this geometry, spectral setting etc\n",
      "            \n",
      "            obs_ops = self.get_emulator ( itime, self.mask, self.emulators )\n",
      "            sigma_obs_vis, sigma_obs_nir = self.bu [ itime, : ]\n",
      "            # forward model the proposal\n",
      "            x = x_params[:, itime]\n",
      "            model_albedo_vis, vis_var, vis_der = \\\n",
      "                obs_ops[0] ( np.atleast_2d(x) )\n",
      "            model_albedo_nir, nir_var, nir_der = \\\n",
      "                obs_ops[1] ( np.atleast_2d(x) )\n",
      "            # Calculate the actual cost\n",
      "            this_cost = 0.5*( model_albedo_vis - albedo_vis )**2/sigma_obs_vis**2 + \\\n",
      "              0.5*( model_albedo_nir - albedo_nir  )**2/sigma_obs_nir**2\n",
      "    \n",
      "            # The partial derivatives of the cost function are then\n",
      "            this_der= (1./sigma_obs_vis**2)*( model_albedo_vis - \\\n",
      "                albedo_vis )*vis_der + \\\n",
      "                (1./sigma_obs_nir**2)*( model_albedo_nir - albedo_nir )*nir_der \n",
      "            \n",
      "\n",
      "            cost += this_cost\n",
      "            the_derivatives[ :, itime] = this_der\n",
      "            \n",
      "            \n",
      "        j = 0\n",
      "        for  i, (param, typo) in enumerate ( state_config.iteritems()) :\n",
      "            if typo == CONSTANT:\n",
      "                der_cost[j] = the_derivatives[i, 0]\n",
      "                j += 1\n",
      "            elif typo == VARIABLE:\n",
      "                n_elems = len ( x_dict[param] )\n",
      "                der_cost[j:(j+n_elems) ] = the_derivatives[i, :]\n",
      "                j += n_elems\n",
      "        \n",
      "        return cost, der_cost\n",
      "\n",
      "    def der_der_cost ( self, x, state_config, epsilon=1.0e-9 ):\n",
      "        \"\"\"Numerical approximation to the Hessian\"\"\"\n",
      "            \n",
      "        N = x.size\n",
      "        h = np.zeros((N,N))\n",
      "        df_0 = self.der_cost ( x, state_config )[1]\n",
      "        for i in xrange(N):\n",
      "            xx0 = 1.*x[i]\n",
      "            x[i] = xx0 + epsilon\n",
      "            df_1 = self.der_cost ( x, state_config )[1]\n",
      "            h[i,:] = (df_1 - df_0)/epsilon\n",
      "            x[i] = xx0\n",
      "        post_cov = np.linalg.inv (h)\n",
      "        post_sigma = np.sqrt ( post_cov.diagonal() )\n",
      "        return h, post_cov, post_sigma\n",
      "\n",
      "        "
     ],
     "language": "python",
     "metadata": {},
     "outputs": [],
     "prompt_number": 126
    },
    {
     "cell_type": "code",
     "collapsed": false,
     "input": [
      "obsop = ObservationOperatorTwoStream( state_grid, state, observations, mask, emulators, bu )\n",
      "obsop.get_emulator = select_emulator"
     ],
     "language": "python",
     "metadata": {},
     "outputs": [],
     "prompt_number": 127
    },
    {
     "cell_type": "code",
     "collapsed": false,
     "input": [
      "x_dict = {}\n",
      "for k in default_par.iterkeys():\n",
      "    if state_config[k] == VARIABLE:\n",
      "        x_dict[k] = np.ones_like ( state_grid )  * default_par[k]\n",
      "    else:\n",
      "        x_dict[k] = 1.0* default_par[k]\n",
      "        \n"
     ],
     "language": "python",
     "metadata": {},
     "outputs": [],
     "prompt_number": 128
    },
    {
     "cell_type": "code",
     "collapsed": false,
     "input": [
      "\n",
      "obsop.der_cost(x_dict, state_config )"
     ],
     "language": "python",
     "metadata": {},
     "outputs": [
      {
       "metadata": {},
       "output_type": "pyout",
       "prompt_number": 129,
       "text": [
        "(array([ 163.12817725]),\n",
        " array([  0.        ,   0.        ,   0.        ,   0.        ,\n",
        "         0.        ,   0.        ,   0.        ,   0.        ,\n",
        "         0.        ,   0.        ,   0.        ,   0.        ,\n",
        "         0.        ,   0.        ,   0.        ,   0.        ,\n",
        "         0.        ,   0.        ,   0.        ,   0.        ,\n",
        "         0.        ,   0.        ,   0.        ,   0.        ,\n",
        "         0.        ,   0.        ,   0.        ,   0.        ,\n",
        "         0.        ,   0.        ,   0.        ,   0.        ,\n",
        "         0.        ,   0.        ,   0.        ,   0.        ,\n",
        "         0.        ,   0.        ,   0.        ,   0.        ,\n",
        "         0.        ,   0.        ,   0.        ,   0.        ,\n",
        "         0.        ,   0.        ,   0.        ,   0.        ,\n",
        "         0.        ,   0.        ,   0.        ,   0.        ,\n",
        "         0.        ,   0.        ,   0.        ,   0.        ,\n",
        "         0.        ,   0.        ,   0.        ,   0.        ,\n",
        "         0.        ,   0.        ,   0.        ,   0.        ,\n",
        "         0.        ,   0.        ,   0.        ,   0.        ,\n",
        "         0.        ,   0.        ,   0.        ,   0.        ,\n",
        "         0.        ,   0.        ,   0.        ,   0.        ,\n",
        "         0.        ,   0.        ,   0.        ,   0.        ,\n",
        "         0.        ,   0.        ,   0.        ,   0.        ,\n",
        "         0.        ,   0.        ,   0.        ,   0.        ,\n",
        "         0.        ,   0.        ,   0.        ,   0.        ,\n",
        "         0.        ,   0.        ,   0.        ,   0.        ,\n",
        "         0.        ,   0.        ,   0.        ,   0.        ,\n",
        "         0.        ,   0.        ,  -3.10142721,   0.        ,\n",
        "         0.        ,   0.        ,   0.        ,   0.        ,\n",
        "         0.        ,   0.        ,  -2.63084657,   0.        ,\n",
        "         0.        ,   0.        ,   0.        ,   0.        ,\n",
        "         0.        ,   0.        ,  -6.22436175,   0.        ,\n",
        "         0.        ,   0.        ,   0.        ,   0.        ,\n",
        "         0.        ,   0.        ,  -6.86283869,   0.        ,\n",
        "         0.        ,   0.        ,   0.        ,   0.        ,\n",
        "         0.        ,   0.        ,  -6.49362948,   0.        ,\n",
        "         0.        ,   0.        ,   0.        ,   0.        ,\n",
        "         0.        ,   0.        ,  -5.64769798,   0.        ,\n",
        "         0.        ,   0.        ,   0.        ,   0.        ,\n",
        "         0.        ,   0.        ,   0.        ,   0.        ,\n",
        "         0.        ,   0.        ,   0.        ,   0.        ,\n",
        "         0.        ,   0.        ,  -9.0103221 ,   0.        ,\n",
        "         0.        ,   0.        ,   0.        ,   0.        ,\n",
        "         0.        ,   0.        ,   0.        ,   0.        ,\n",
        "         0.        ,   0.        ,   0.        ,   0.        ,\n",
        "         0.        ,   0.        ,   0.        ,   0.        ,\n",
        "         0.        ,   0.        ,   0.        ,   0.        ,\n",
        "         0.        ,   0.        ,   0.        ,   0.        ,\n",
        "         0.        ,   0.        ,   0.        ,   0.        ,\n",
        "         0.        ,   0.        ,  -3.36118683,   0.        ,\n",
        "         0.        ,   0.        ,   0.        ,   0.        ,\n",
        "         0.        ,   0.        ,  -1.02033672,   0.        ,\n",
        "         0.        ,   0.        ,   0.        ,   0.        ,\n",
        "         0.        ,   0.        ,  -9.13474413,   0.        ,\n",
        "         0.        ,   0.        ,   0.        ,   0.        ,\n",
        "         0.        ,   0.        , -42.43140977,   0.        ,\n",
        "         0.        ,   0.        ,   0.        ,   0.        ,\n",
        "         0.        ,   0.        ,   0.        ,   0.        ,\n",
        "         0.        ,   0.        ,   0.        ,   0.        ,\n",
        "         0.        ,   0.        ,  -6.54981309,   0.        ,\n",
        "         0.        ,   0.        ,   0.        ,   0.        ,\n",
        "         0.        ,   0.        ,  -6.87540542,   0.        ,\n",
        "         0.        ,   0.        ,   0.        ,   0.        ,\n",
        "         0.        ,   0.        , -16.89544926,   0.        ,\n",
        "         0.        ,   0.        ,   0.        ,   0.        ,\n",
        "         0.        ,   0.        , -19.96711154,   0.        ,\n",
        "         0.        ,   0.        ,   0.        ,   0.        ,\n",
        "         0.        ,   0.        ,   0.        ,   0.        ,\n",
        "         0.        ,   0.        ,   0.        ,   0.        ,\n",
        "         0.        ,   0.        ,   0.        ,   0.        ,\n",
        "         0.        ,   0.        ,   0.        ,   0.        ,\n",
        "         0.        ,   0.        ,   0.        ,   0.        ,\n",
        "         0.        ,   0.        ,   0.        ,   0.        ,\n",
        "         0.        ,   0.        , -10.09365919,   0.        ,\n",
        "         0.        ,   0.        ,   0.        ,   0.        ,\n",
        "         0.        ,   0.        ,  -4.53754717,   0.        ,\n",
        "         0.        ,   0.        ,   0.        ,   0.        ,\n",
        "         0.        ,   0.        ,  -7.93075338,   0.        ,\n",
        "         0.        ,   0.        ,   0.        ,   0.        ,\n",
        "         0.        ,   0.        , -12.50833706,   0.        ,\n",
        "         0.        ,   0.        ,   0.        ,   0.        ,\n",
        "         0.        ,   0.        , -16.05150156,   0.        ,\n",
        "         0.        ,   0.        ,   0.        ,   0.        ,\n",
        "         0.        ,   0.        , -15.70835989,   0.        ,\n",
        "         0.        ,   0.        ,   0.        ,   0.        ,\n",
        "         0.        ,   0.        ,   0.        ,   0.        ,\n",
        "         0.        ,   0.        ,   0.        ,   0.        ,\n",
        "         0.        ,   0.        ,   0.        ,   0.        ,\n",
        "         0.        ,   0.        ,   0.        ,   0.        ,\n",
        "         0.        ,   0.        ,   0.        ,   0.        ,\n",
        "         0.        ,   0.        ,   0.        ,   0.        ,\n",
        "         0.        ,   0.        ,   0.        ,   0.        ,\n",
        "         0.        ,   0.        ,   0.        ,   0.        ,\n",
        "         0.        ,   0.        ,   0.        ,   0.        ,\n",
        "         0.        ,   0.        ,   0.        ]))"
       ]
      }
     ],
     "prompt_number": 129
    },
    {
     "cell_type": "code",
     "collapsed": false,
     "input": [
      "mu_prior = OrderedDict()\n",
      "inv_cov_prior = OrderedDict()\n",
      "\n",
      "for k in state_config.iterkeys():\n",
      "    mu_prior[k]=np.array([default_par[k]])\n",
      "    print k\n",
      "inv_cov_prior['sigma_vis'] = np.array([1./(0.12**2)])\n",
      "inv_cov_prior['d_vis'] = np.array([1./(0.7**2)])\n",
      "inv_cov_prior['r_vis'] = np.array([1./(0.01**2)])\n",
      "inv_cov_prior['sigma_nir'] = np.array([1./(0.15**2)])\n",
      "inv_cov_prior['d_nir'] = np.array([1./(1.5**2)])\n",
      "inv_cov_prior['r_nir'] = np.array([1./(.2**2)])\n",
      "inv_cov_prior['lai'] = np.array([1./(5**2)])\n",
      "\n",
      "the_prior = Prior( mu_prior, inv_cov_prior )\n",
      "print mu_prior.keys()\n",
      "print inv_cov_prior.keys()"
     ],
     "language": "python",
     "metadata": {},
     "outputs": [
      {
       "output_type": "stream",
       "stream": "stdout",
       "text": [
        "sigma_vis\n",
        "d_vis\n",
        "r_vis\n",
        "sigma_nir\n",
        "d_nir\n",
        "r_nir\n",
        "lai\n",
        "['sigma_vis', 'd_vis', 'r_vis', 'sigma_nir', 'd_nir', 'r_nir', 'lai']\n",
        "['sigma_vis', 'd_vis', 'r_vis', 'sigma_nir', 'd_nir', 'r_nir', 'lai']\n"
       ]
      }
     ],
     "prompt_number": 130
    },
    {
     "cell_type": "code",
     "collapsed": false,
     "input": [
      "state.add_operator(\"Obs\", obsop)\n",
      "state.add_operator(\"Prior\", the_prior )"
     ],
     "language": "python",
     "metadata": {},
     "outputs": [],
     "prompt_number": 131
    },
    {
     "cell_type": "code",
     "collapsed": false,
     "input": [
      "retval = state.optimize(x_dict)"
     ],
     "language": "python",
     "metadata": {},
     "outputs": [],
     "prompt_number": 135
    },
    {
     "cell_type": "code",
     "collapsed": false,
     "input": [
      "print retval[0][:6]\n",
      "print default_par"
     ],
     "language": "python",
     "metadata": {},
     "outputs": [
      {
       "output_type": "stream",
       "stream": "stdout",
       "text": [
        "[ 0.17  1.    0.1   0.7   2.    0.18]\n",
        "OrderedDict([('sigma_vis', 0.17), ('d_vis', 1), ('r_vis', 0.1), ('sigma_nir', 0.7), ('d_nir', 2), ('r_nir', 0.18), ('lai', 1.5)])\n"
       ]
      }
     ],
     "prompt_number": 139
    },
    {
     "cell_type": "code",
     "collapsed": false,
     "input": [
      "plt.plot(retval[0][6:])"
     ],
     "language": "python",
     "metadata": {},
     "outputs": [
      {
       "metadata": {},
       "output_type": "pyout",
       "prompt_number": 134,
       "text": [
        "[<matplotlib.lines.Line2D at 0x2b9e2ca01190>]"
       ]
      },
      {
       "metadata": {},
       "output_type": "display_data",
       "png": "[encoded data removed]",
       "text": [
        "<matplotlib.figure.Figure at 0x169b1910>"
       ]
      }
     ],
     "prompt_number": 134
    },
    {
     "cell_type": "code",
     "collapsed": false,
     "input": [],
     "language": "python",
     "metadata": {},
     "outputs": []
    }
   ],
   "metadata": {}
  }
 ]
}