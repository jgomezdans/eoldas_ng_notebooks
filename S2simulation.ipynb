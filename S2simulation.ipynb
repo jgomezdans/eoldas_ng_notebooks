{
 "metadata": {
  "name": ""
 },
 "nbformat": 3,
 "nbformat_minor": 0,
 "worksheets": [
  {
   "cells": [
    {
     "cell_type": "code",
     "collapsed": false,
     "input": [
      "import prettyplotlib as ppl\n",
      "\n",
      "# prettyplotlib imports \n",
      "import matplotlib.pyplot as plt\n",
      "from prettyplotlib import brewer2mpl"
     ],
     "language": "python",
     "metadata": {},
     "outputs": []
    },
    {
     "cell_type": "code",
     "collapsed": false,
     "input": [
      "from collections import OrderedDict\n",
      "try:\n",
      "    from operators import *\n",
      "except ImportError:\n",
      "    import sys\n",
      "    sys.path.append ( \"../eoldas_ng/\")\n",
      "    from operators import *\n",
      "\n",
      "state_config = OrderedDict ()\n",
      "\n",
      "state_config['n'] = FIXED\n",
      "state_config['cab'] = VARIABLE\n",
      "state_config['car'] = FIXED\n",
      "state_config['cbrown'] = FIXED\n",
      "state_config['cw'] = FIXED\n",
      "state_config['cm'] = FIXED\n",
      "state_config['lai'] = VARIABLE\n",
      "state_config['ala'] = FIXED\n",
      "state_config['bsoil'] = FIXED\n",
      "state_config['psoil'] = FIXED\n",
      "\n",
      "    \n",
      "    \n",
      "    \n",
      "    \n",
      "# Now define the default values\n",
      "default_par = OrderedDict ()\n",
      "default_par['n'] = 1.5\n",
      "default_par['cab'] = 40.\n",
      "default_par['car'] = 10.\n",
      "default_par['cbrown'] = 0.01\n",
      "default_par['cw'] = 0.018 # Say?\n",
      "default_par['cm'] = 0.0065 # Say?\n",
      "default_par['lai'] = 2\n",
      "default_par['ala'] = 45.\n",
      "default_par['bsoil'] = 1.\n",
      "default_par['psoil'] = 0.1\n",
      "\n",
      "parameter_min = OrderedDict()\n",
      "parameter_max = OrderedDict()\n",
      "    \n",
      "min_vals = [ 0.8, 0.2, 0.0, 0.0, 0.0043, 0.0017,0.01, 40, 0., 0., 0.]\n",
      "max_vals = [2.5, 77., 5., 1., 0.0713, 0.0331, 8., 50., 2., 1.]\n",
      "\n",
      "for i, param in enumerate ( state_config.keys() ):\n",
      "    parameter_min[param] = min_vals[i]\n",
      "    parameter_max[param] = max_vals[i]\n",
      "    # Define parameter transformations\n",
      "transformations = {\n",
      "        'lai': lambda x: np.exp ( -x/2. ), \\\n",
      "        'cab': lambda x: np.exp ( -x/100. ), \\\n",
      "        'car': lambda x: np.exp ( -x/100. ), \\\n",
      "        'cw': lambda x: np.exp ( -50.*x ), \\\n",
      "        'cm': lambda x: np.exp ( -100.*x ), \\\n",
      "        'ala': lambda x: x/90. }\n",
      "inv_transformations = {\n",
      "        'lai': lambda x: -2*np.log ( x ), \\\n",
      "        'cab': lambda x: -100*np.log ( x ), \\\n",
      "        'car': lambda x: -100*np.log( x ), \\\n",
      "        'cw': lambda x: (-1/50.)*np.log ( x ), \\\n",
      "        'cm': lambda x: (-1/100.)*np.log ( x ), \\\n",
      "        'ala': lambda x: 90.*x }\n",
      "\n",
      "# Define the state grid. In time in this case\n",
      "state_grid = np.arange ( 1, 366 )\n",
      "    \n",
      "# Define the state\n",
      "# L'etat, c'est moi\n",
      "state = State ( state_config, state_grid, default_par, \\\n",
      "        parameter_min, parameter_max )\n",
      "# Set the transformations\n",
      "state.set_transformations ( transformations, inv_transformations )\n"
     ],
     "language": "python",
     "metadata": {},
     "outputs": [],
     "prompt_number": 55
    },
    {
     "cell_type": "code",
     "collapsed": false,
     "input": [
      "from gp_emulator import MultivariateEmulator\n",
      "angles = [ [15, 15, 0] ]\n",
      "#emulator,  samples, validate = create_emulators ( state, [\"\"], angles=angles )   \n",
      "#for i,(s,v,r) in enumerate(angles):     \n",
      "#    fname = \"%02d_sza_%02d_vza_000_raa\" % (s,v)\n",
      "#    emulator[i].dump_emulator(fname)\n",
      "#emulators = {}\n",
      "#emulators[(s,v)] = emulator[0]\n",
      "emulators = {}\n",
      "for i,(s,v,r) in enumerate(angles):     \n",
      "    fname = \"%02d_sza_%02d_vza_000_raa.npz\" % (s,v)\n",
      "    emulators[(v,s)]= MultivariateEmulator ( dump=fname )\n"
     ],
     "language": "python",
     "metadata": {},
     "outputs": [
      {
       "output_type": "stream",
       "stream": "stdout",
       "text": [
        "Decomposing the input dataset into basis functions... "
       ]
      },
      {
       "output_type": "stream",
       "stream": "stdout",
       "text": [
        "Done!\n",
        " ====> Using 8 basis functions\n"
       ]
      }
     ],
     "prompt_number": 56
    },
    {
     "cell_type": "code",
     "collapsed": false,
     "input": [
      "b_min = np.array([433.0, 457.5, 542.5, 650.0, 697.5, 732.5, 773.0, 784.5, 855.0, 935.0, 1565.0, 2100.0])\n",
      "b_max = np.array([453.0, 522.5, 577.5, 680.0, 712.5, 747.5, 793.0, 899.5, 875.0, 955.0, 1655.0, 2280.0])\n",
      "from create_emulators import *\n",
      "def cab_traj ( t ):\n",
      "    out = t*0.\n",
      "    w = np.where( t <= 0.5 )[0]\n",
      "    out[w] = 10.5 + 70*t[w]\n",
      "    w = np.where(t > 0.5)[0]\n",
      "    out[w] = 80.5 - 70.*t[w]\n",
      "    return out\n",
      "\n",
      "\n",
      "trajectories = {\n",
      "    'lai': lambda t: (0.21 + 3.51 * (np.sin(np.pi*t)**5)), \n",
      "    'cab': cab_traj}\n",
      "#    'cw': lambda t: (0.068/5 + 0.01*np.sin(np.pi * t+0.1) *  \\\n",
      "#                 np.sin(6*np.pi*t + 0.1) ),\n",
      "#    'bsoil': lambda t: (2.5*(0.2 + 0.18*np.sin(np.pi*t) * \\\n",
      "#                  np.sin(6*np.pi*t)) )\n",
      "#}\n",
      "    \n",
      "# Now, create some simulated data...\n",
      "parameter_grid = create_parameter_trajectories ( state, trajectories )\n",
      "plt.plot ( np.arange(1, 366), parameter_grid[6, :], label=\"LAI\" )\n",
      "plt.xlabel( \"DoY\" )\n",
      "plt.ylabel (\"LAI [$m^{2}m^{-2}$]\")\n",
      "# Now forward model the observations...\n",
      "doys, vza, sza, raa, rho = create_observations ( state, parameter_grid, \\\n",
      "            42, -8., b_min=b_min, b_max=b_max)"
     ],
     "language": "python",
     "metadata": {},
     "outputs": [
      {
       "metadata": {},
       "output_type": "display_data",
       "png": "[encoded data removed]",
       "text": [
        "<matplotlib.figure.Figure at 0x2b1e5e518dd0>"
       ]
      }
     ],
     "prompt_number": 57
    },
    {
     "cell_type": "code",
     "collapsed": false,
     "input": [
      "[plt.plot ( doys, rho[i,:]) for i in xrange(12)]\n"
     ],
     "language": "python",
     "metadata": {},
     "outputs": [
      {
       "metadata": {},
       "output_type": "pyout",
       "prompt_number": 58,
       "text": [
        "[[<matplotlib.lines.Line2D at 0x2b1e60c046d0>],\n",
        " [<matplotlib.lines.Line2D at 0x2b1e60c04950>],\n",
        " [<matplotlib.lines.Line2D at 0x2b1e60c0b050>],\n",
        " [<matplotlib.lines.Line2D at 0x2b1e60c0b690>],\n",
        " [<matplotlib.lines.Line2D at 0x2b1e60c0bcd0>],\n",
        " [<matplotlib.lines.Line2D at 0x2b1e60c24790>],\n",
        " [<matplotlib.lines.Line2D at 0x2b1e60c24c10>],\n",
        " [<matplotlib.lines.Line2D at 0x2b1e60c24590>],\n",
        " [<matplotlib.lines.Line2D at 0x2b1e60c2b650>],\n",
        " [<matplotlib.lines.Line2D at 0x2b1e60c2bc90>],\n",
        " [<matplotlib.lines.Line2D at 0x2b1e60c2e310>],\n",
        " [<matplotlib.lines.Line2D at 0x2b1e60c2e950>]]"
       ]
      },
      {
       "metadata": {},
       "output_type": "display_data",
       "png": "[encoded data removed]",
       "text": [
        "<matplotlib.figure.Figure at 0x132c2850>"
       ]
      }
     ],
     "prompt_number": 58
    },
    {
     "cell_type": "code",
     "collapsed": false,
     "input": [
      "mu_prior = OrderedDict ()\n",
      "prior_inv_cov = OrderedDict ()\n",
      "\n",
      "for param in state.parameter_min.iterkeys():\n",
      "    mu_prior[param] = np.array([default_par[param]])\n",
      "\n",
      "prior_inv_cov['n'] = 0.5\n",
      "prior_inv_cov['cab'] = 60.\n",
      "prior_inv_cov['car'] = 20.\n",
      "prior_inv_cov['cbrown'] = 1.\n",
      "prior_inv_cov['cw'] = 0.1\n",
      "prior_inv_cov['dm'] = 0.1\n",
      "prior_inv_cov['lai'] = 5.\n",
      "prior_inv_cov['ala'] = 90.\n",
      "prior_inv_cov['bsoil'] = 3\n",
      "prior_inv_cov['bsoil'] = 2.\n",
      "for k in prior_inv_cov.iterkeys():\n",
      "    prior_inv_cov[k]  = np.array([1./( prior_inv_cov[k]**2 )])\n",
      "    \n",
      "prior = Prior ( mu_prior, prior_inv_cov )"
     ],
     "language": "python",
     "metadata": {},
     "outputs": [],
     "prompt_number": 59
    },
    {
     "cell_type": "code",
     "collapsed": false,
     "input": [
      "temporal = TemporalSmoother ( state_grid, 5500, required_params=[\"cab\"] )"
     ],
     "language": "python",
     "metadata": {},
     "outputs": [],
     "prompt_number": 60
    },
    {
     "cell_type": "code",
     "collapsed": false,
     "input": [
      "rho_big = np.zeros(( 12,365))\n",
      "mask = np.zeros(( 365, 4))\n",
      "band_pass = np.zeros((12,2101), dtype=np.bool)\n",
      "n_bands = b_min.shape[0]\n",
      "bw = np.zeros( n_bands )\n",
      "bh = np.zeros( n_bands )\n",
      "wv = np.arange ( 400, 2501 )\n",
      "for i in xrange( n_bands ):\n",
      "    band_pass[i,:] = np.logical_and ( wv >= b_min[i], \\\n",
      "                wv <= b_max[i] )\n",
      "    bw[i] = b_max[i] - b_min[i]\n",
      "    bh[i] = ( b_max[i] + b_min[i] )/2.\n",
      "\n",
      "for i in state_grid:\n",
      "    if i in doys:\n",
      "        rho_big[:, i] = rho[:, doys==i].squeeze()\n",
      "        mask[ i, :] = [ 1, vza[doys==i], sza[doys==i],  raa[doys==i] ]\n",
      "\n",
      "bu = np.array( [0.004, 0.00416142, 0.00440183, 0.00476245, 0.00489983, 0.00502003, 0.00516772, 0.00537035, \\\n",
      "                0.00544934, 0.0057241, 0.00800801, 0.01] )   \n",
      "obs = ObservationOperatorTimeSeriesGP( state_grid, state, rho_big, mask, emulators, bu, band_pass, bw )\n"
     ],
     "language": "python",
     "metadata": {},
     "outputs": [],
     "prompt_number": 61
    },
    {
     "cell_type": "code",
     "collapsed": false,
     "input": [
      "x_dict = {}\n",
      "for i,k in enumerate(state.parameter_max.keys()):\n",
      "    if state.state_config[k] == VARIABLE:\n",
      "        x_dict[k] =  ( parameter_grid[i, :] )*0 + np.random.rand(365)*mu_prior[k]\n",
      "    else:\n",
      "        x_dict[k] = parameter_grid[i, 0]\n"
     ],
     "language": "python",
     "metadata": {},
     "outputs": [],
     "prompt_number": 62
    },
    {
     "cell_type": "code",
     "collapsed": false,
     "input": [
      "state.add_operator ( \"Prior\", prior )\n",
      "state.add_operator ( \"Model\", temporal )\n",
      "state.add_operator ( \"Obs\", obs )"
     ],
     "language": "python",
     "metadata": {},
     "outputs": [],
     "prompt_number": 63
    },
    {
     "cell_type": "code",
     "collapsed": false,
     "input": [
      "retval = state.optimize ( x_dict )"
     ],
     "language": "python",
     "metadata": {},
     "outputs": [
      {
       "output_type": "stream",
       "stream": "stdout",
       "text": [
        "\tPrior 34.388291\n",
        "\tModel 253953790.135043\n",
        "\tObs 151018.880161"
       ]
      },
      {
       "output_type": "stream",
       "stream": "stdout",
       "text": [
        "\n",
        "\tPrior 98.440074\n",
        "\tModel 4306701988.632087\n",
        "\tObs 283520.610381"
       ]
      },
      {
       "output_type": "stream",
       "stream": "stdout",
       "text": [
        "\n",
        "\tPrior 34.313814\n",
        "\tModel 251210064.657731\n",
        "\tObs 150329.148138"
       ]
      },
      {
       "output_type": "stream",
       "stream": "stdout",
       "text": [
        "\n",
        "\tPrior 27.716354\n",
        "\tModel 542402053.070929\n",
        "\tObs 49369.855305"
       ]
      },
      {
       "output_type": "stream",
       "stream": "stdout",
       "text": [
        "\n",
        "\tPrior 34.063198\n",
        "\tModel 242039518.007158\n",
        "\tObs 148011.019357"
       ]
      },
      {
       "output_type": "stream",
       "stream": "stdout",
       "text": [
        "\n",
        "\tPrior 34.062468\n",
        "\tModel 242012953.446160\n",
        "\tObs 148004.274535"
       ]
      },
      {
       "output_type": "stream",
       "stream": "stdout",
       "text": [
        "\n",
        "\tPrior 25.641685\n",
        "\tModel 67123854.101267\n",
        "\tObs 65708.562152"
       ]
      },
      {
       "output_type": "stream",
       "stream": "stdout",
       "text": [
        "\n",
        "\tPrior 24.346738\n",
        "\tModel 16396811.353727\n",
        "\tObs 2365.883318"
       ]
      },
      {
       "output_type": "stream",
       "stream": "stdout",
       "text": [
        "\n",
        "\tPrior 24.318678\n",
        "\tModel 9584941.755332\n",
        "\tObs 1193.492620"
       ]
      },
      {
       "output_type": "stream",
       "stream": "stdout",
       "text": [
        "\n",
        "\tPrior 23.965484\n",
        "\tModel 6834313.108830\n",
        "\tObs 1141.998172"
       ]
      },
      {
       "output_type": "stream",
       "stream": "stdout",
       "text": [
        "\n",
        "\tPrior 23.403001\n",
        "\tModel 5389150.810424\n",
        "\tObs 951.241437"
       ]
      },
      {
       "output_type": "stream",
       "stream": "stdout",
       "text": [
        "\n",
        "\tPrior 22.814278\n",
        "\tModel 4878414.636236\n",
        "\tObs 863.691079"
       ]
      },
      {
       "output_type": "stream",
       "stream": "stdout",
       "text": [
        "\n",
        "\tPrior 22.436716\n",
        "\tModel 4518867.028823\n",
        "\tObs 777.896820"
       ]
      },
      {
       "output_type": "stream",
       "stream": "stdout",
       "text": [
        "\n",
        "\tPrior 22.015272\n",
        "\tModel 4238629.088858\n",
        "\tObs 716.853037"
       ]
      },
      {
       "output_type": "stream",
       "stream": "stdout",
       "text": [
        "\n",
        "\tPrior 21.388278\n",
        "\tModel 3958598.851796\n",
        "\tObs 655.527832"
       ]
      },
      {
       "output_type": "stream",
       "stream": "stdout",
       "text": [
        "\n",
        "\tPrior 20.581198\n",
        "\tModel 4075275.502109\n",
        "\tObs 561.562138"
       ]
      },
      {
       "output_type": "stream",
       "stream": "stdout",
       "text": [
        "\n",
        "\tPrior 21.375675\n",
        "\tModel 3953012.369933\n",
        "\tObs 653.408569"
       ]
      },
      {
       "output_type": "stream",
       "stream": "stdout",
       "text": [
        "\n",
        "\tPrior 21.375631\n",
        "\tModel 3952993.077837\n",
        "\tObs 653.401177"
       ]
      },
      {
       "output_type": "stream",
       "stream": "stdout",
       "text": [
        "\n",
        "\tPrior 20.933823\n",
        "\tModel 3875231.990581\n",
        "\tObs 590.408801"
       ]
      },
      {
       "output_type": "stream",
       "stream": "stdout",
       "text": [
        "\n",
        "\tPrior 20.477374\n",
        "\tModel 3717400.908197\n",
        "\tObs 547.761128"
       ]
      },
      {
       "output_type": "stream",
       "stream": "stdout",
       "text": [
        "\n",
        "\tPrior 20.078893\n",
        "\tModel 3653242.105959\n",
        "\tObs 521.425882"
       ]
      },
      {
       "output_type": "stream",
       "stream": "stdout",
       "text": [
        "\n",
        "\tPrior 19.871682\n",
        "\tModel 3547468.502300\n",
        "\tObs 515.432234"
       ]
      },
      {
       "output_type": "stream",
       "stream": "stdout",
       "text": [
        "\n",
        "\tPrior 19.835581\n",
        "\tModel 3456407.204033\n",
        "\tObs 515.242346"
       ]
      },
      {
       "output_type": "stream",
       "stream": "stdout",
       "text": [
        "\n",
        "\tPrior 19.748019\n",
        "\tModel 3355763.303753\n",
        "\tObs 515.742748"
       ]
      },
      {
       "output_type": "stream",
       "stream": "stdout",
       "text": [
        "\n",
        "\tPrior 19.647366\n",
        "\tModel 3287339.598323\n",
        "\tObs 521.340586"
       ]
      },
      {
       "output_type": "stream",
       "stream": "stdout",
       "text": [
        "\n",
        "\tPrior 19.570894\n",
        "\tModel 3209689.710215\n",
        "\tObs 526.525324"
       ]
      },
      {
       "output_type": "stream",
       "stream": "stdout",
       "text": [
        "\n",
        "\tPrior 19.552688\n",
        "\tModel 3153756.321974\n",
        "\tObs 527.501634"
       ]
      },
      {
       "output_type": "stream",
       "stream": "stdout",
       "text": [
        "\n",
        "\tPrior 19.548551\n",
        "\tModel 3108302.519369\n",
        "\tObs 528.588526"
       ]
      },
      {
       "output_type": "stream",
       "stream": "stdout",
       "text": [
        "\n",
        "\tPrior 19.566622\n",
        "\tModel 3075494.662234\n",
        "\tObs 527.004016"
       ]
      },
      {
       "output_type": "stream",
       "stream": "stdout",
       "text": [
        "\n",
        "\tPrior 19.602937\n",
        "\tModel 3058228.188128\n",
        "\tObs 527.159792"
       ]
      },
      {
       "output_type": "stream",
       "stream": "stdout",
       "text": [
        "\n",
        "\tPrior 19.622994\n",
        "\tModel 3036346.180748\n",
        "\tObs 528.609773"
       ]
      },
      {
       "output_type": "stream",
       "stream": "stdout",
       "text": [
        "\n",
        "\tPrior 19.650278\n",
        "\tModel 3021213.869491\n",
        "\tObs 527.669951"
       ]
      },
      {
       "output_type": "stream",
       "stream": "stdout",
       "text": [
        "\n",
        "\tPrior 19.700302\n",
        "\tModel 3009817.520463\n",
        "\tObs 526.765928"
       ]
      },
      {
       "output_type": "stream",
       "stream": "stdout",
       "text": [
        "\n",
        "\tPrior 19.778643\n",
        "\tModel 3001868.713711\n",
        "\tObs 522.989051"
       ]
      },
      {
       "output_type": "stream",
       "stream": "stdout",
       "text": [
        "\n",
        "\tPrior 19.800045\n",
        "\tModel 2993156.871528\n",
        "\tObs 522.731571"
       ]
      },
      {
       "output_type": "stream",
       "stream": "stdout",
       "text": [
        "\n",
        "\tPrior 19.839704\n",
        "\tModel 2986167.994181\n",
        "\tObs 522.499726"
       ]
      },
      {
       "output_type": "stream",
       "stream": "stdout",
       "text": [
        "\n",
        "\tPrior 19.900622\n",
        "\tModel 2982068.805796\n",
        "\tObs 521.209655"
       ]
      },
      {
       "output_type": "stream",
       "stream": "stdout",
       "text": [
        "\n",
        "\tPrior 20.030140\n",
        "\tModel 2983031.983360\n",
        "\tObs 522.240969"
       ]
      },
      {
       "output_type": "stream",
       "stream": "stdout",
       "text": [
        "\n",
        "\tPrior 19.903676\n",
        "\tModel 2981744.032173\n",
        "\tObs 521.222599"
       ]
      },
      {
       "output_type": "stream",
       "stream": "stdout",
       "text": [
        "\n",
        "\tPrior 19.903682\n",
        "\tModel 2981743.458148\n",
        "\tObs 521.222623"
       ]
      },
      {
       "output_type": "stream",
       "stream": "stdout",
       "text": [
        "\n",
        "\tPrior 19.965687\n",
        "\tModel 2978922.396102\n",
        "\tObs 521.608996"
       ]
      },
      {
       "output_type": "stream",
       "stream": "stdout",
       "text": [
        "\n",
        "\tPrior 20.032521\n",
        "\tModel 2976631.460448\n",
        "\tObs 520.346127"
       ]
      },
      {
       "output_type": "stream",
       "stream": "stdout",
       "text": [
        "\n",
        "\tPrior 20.096541\n",
        "\tModel 2974566.064961\n",
        "\tObs 520.142418"
       ]
      },
      {
       "output_type": "stream",
       "stream": "stdout",
       "text": [
        "\n",
        "\tPrior 20.201609\n",
        "\tModel 2972102.653695\n",
        "\tObs 518.558242"
       ]
      },
      {
       "output_type": "stream",
       "stream": "stdout",
       "text": [
        "\n",
        "\tPrior 20.270727\n",
        "\tModel 2969826.034588\n",
        "\tObs 517.753245"
       ]
      },
      {
       "output_type": "stream",
       "stream": "stdout",
       "text": [
        "\n",
        "\tPrior 20.358387\n",
        "\tModel 2967891.207870\n",
        "\tObs 517.480146"
       ]
      },
      {
       "output_type": "stream",
       "stream": "stdout",
       "text": [
        "\n",
        "\tPrior 20.457041\n",
        "\tModel 2967067.709157\n",
        "\tObs 516.320862"
       ]
      },
      {
       "output_type": "stream",
       "stream": "stdout",
       "text": [
        "\n",
        "\tPrior 20.608786\n",
        "\tModel 2966659.876957\n",
        "\tObs 515.244996"
       ]
      },
      {
       "output_type": "stream",
       "stream": "stdout",
       "text": [
        "\n",
        "\tPrior 20.759657\n",
        "\tModel 2966056.156105\n",
        "\tObs 514.916767"
       ]
      },
      {
       "output_type": "stream",
       "stream": "stdout",
       "text": [
        "\n",
        "\tPrior 20.841424\n",
        "\tModel 2964914.249978\n",
        "\tObs 514.175081"
       ]
      },
      {
       "output_type": "stream",
       "stream": "stdout",
       "text": [
        "\n",
        "\tPrior 20.972898\n",
        "\tModel 2963676.243198\n",
        "\tObs 512.801716"
       ]
      },
      {
       "output_type": "stream",
       "stream": "stdout",
       "text": [
        "\n",
        "\tPrior 21.172752\n",
        "\tModel 2963453.476666\n",
        "\tObs 511.281883"
       ]
      },
      {
       "output_type": "stream",
       "stream": "stdout",
       "text": [
        "\n",
        "\tPrior 21.349479\n",
        "\tModel 2962909.927865\n",
        "\tObs 509.141937"
       ]
      },
      {
       "output_type": "stream",
       "stream": "stdout",
       "text": [
        "\n",
        "\tPrior 21.478560\n",
        "\tModel 2962258.778576\n",
        "\tObs 507.703803"
       ]
      },
      {
       "output_type": "stream",
       "stream": "stdout",
       "text": [
        "\n",
        "\tPrior 21.583386\n",
        "\tModel 2962147.237019\n",
        "\tObs 506.830370"
       ]
      },
      {
       "output_type": "stream",
       "stream": "stdout",
       "text": [
        "\n",
        "\tPrior 21.751338\n",
        "\tModel 2962436.943191\n",
        "\tObs 505.502782"
       ]
      },
      {
       "output_type": "stream",
       "stream": "stdout",
       "text": [
        "\n",
        "\tPrior 21.587033\n",
        "\tModel 2962105.711996\n",
        "\tObs 506.799212"
       ]
      },
      {
       "output_type": "stream",
       "stream": "stdout",
       "text": [
        "\n",
        "\tPrior 21.587046\n",
        "\tModel 2962105.568117\n",
        "\tObs 506.799101"
       ]
      },
      {
       "output_type": "stream",
       "stream": "stdout",
       "text": [
        "\n",
        "\tPrior 21.668908\n",
        "\tModel 2961736.405310\n",
        "\tObs 506.126942"
       ]
      },
      {
       "output_type": "stream",
       "stream": "stdout",
       "text": [
        "\n",
        "\tPrior 21.896860\n",
        "\tModel 2962324.049658\n",
        "\tObs 504.726856"
       ]
      },
      {
       "output_type": "stream",
       "stream": "stdout",
       "text": [
        "\n",
        "\tPrior 21.671776\n",
        "\tModel 2961718.290792\n",
        "\tObs 506.107599"
       ]
      },
      {
       "output_type": "stream",
       "stream": "stdout",
       "text": [
        "\n",
        "\tPrior 21.671792\n",
        "\tModel 2961718.192229\n",
        "\tObs 506.107492"
       ]
      },
      {
       "output_type": "stream",
       "stream": "stdout",
       "text": [
        "\n",
        "\tPrior 21.783856\n",
        "\tModel 2961524.303205\n",
        "\tObs 505.385856"
       ]
      },
      {
       "output_type": "stream",
       "stream": "stdout",
       "text": [
        "\n",
        "\tPrior 22.098184\n",
        "\tModel 2963807.678592\n",
        "\tObs 504.227176"
       ]
      },
      {
       "output_type": "stream",
       "stream": "stdout",
       "text": [
        "\n",
        "\tPrior 21.785256\n",
        "\tModel 2961515.723509\n",
        "\tObs 505.379414"
       ]
      },
      {
       "output_type": "stream",
       "stream": "stdout",
       "text": [
        "\n",
        "\tPrior 21.785264\n",
        "\tModel 2961515.676027\n",
        "\tObs 505.379378"
       ]
      },
      {
       "output_type": "stream",
       "stream": "stdout",
       "text": [
        "\n",
        "\tPrior 21.940813\n",
        "\tModel 2961621.154741\n",
        "\tObs 504.734612"
       ]
      },
      {
       "output_type": "stream",
       "stream": "stdout",
       "text": [
        "\n",
        "\tPrior 21.791673\n",
        "\tModel 2961478.618914\n",
        "\tObs 505.350048"
       ]
      },
      {
       "output_type": "stream",
       "stream": "stdout",
       "text": [
        "\n",
        "\tPrior 21.791710\n",
        "\tModel 2961478.415234\n",
        "\tObs 505.349880"
       ]
      },
      {
       "output_type": "stream",
       "stream": "stdout",
       "text": [
        "\n",
        "\tPrior 21.866052\n",
        "\tModel 2961310.471365\n",
        "\tObs 505.026973"
       ]
      },
      {
       "output_type": "stream",
       "stream": "stdout",
       "text": [
        "\n",
        "\tPrior 22.214019\n",
        "\tModel 2963065.888730\n",
        "\tObs 502.839459"
       ]
      },
      {
       "output_type": "stream",
       "stream": "stdout",
       "text": [
        "\n",
        "\tPrior 21.868225\n",
        "\tModel 2961299.025030\n",
        "\tObs 505.011211"
       ]
      },
      {
       "output_type": "stream",
       "stream": "stdout",
       "text": [
        "\n",
        "\tPrior 21.868239\n",
        "\tModel 2961298.952640\n",
        "\tObs 505.011110"
       ]
      },
      {
       "output_type": "stream",
       "stream": "stdout",
       "text": [
        "\n",
        "\tPrior 22.039995\n",
        "\tModel 2961299.075445\n",
        "\tObs 503.847986"
       ]
      },
      {
       "output_type": "stream",
       "stream": "stdout",
       "text": [
        "\n",
        "\tPrior 22.322294\n",
        "\tModel 2964755.392917\n",
        "\tObs 501.912628"
       ]
      },
      {
       "output_type": "stream",
       "stream": "stdout",
       "text": [
        "\n",
        "\tPrior 22.040655\n",
        "\tModel 2961297.790631\n",
        "\tObs 503.842781"
       ]
      },
      {
       "output_type": "stream",
       "stream": "stdout",
       "text": [
        "\n",
        "\tPrior 22.040666\n",
        "\tModel 2961297.770136\n",
        "\tObs 503.842697"
       ]
      },
      {
       "output_type": "stream",
       "stream": "stdout",
       "text": [
        "\n",
        "\tPrior 22.180712\n",
        "\tModel 2962030.114130\n",
        "\tObs 502.810403"
       ]
      },
      {
       "output_type": "stream",
       "stream": "stdout",
       "text": [
        "\n",
        "\tPrior 22.041428\n",
        "\tModel 2961296.344316\n",
        "\tObs 503.836694"
       ]
      },
      {
       "output_type": "stream",
       "stream": "stdout",
       "text": [
        "\n",
        "\tPrior 22.041441\n",
        "\tModel 2961296.320786\n",
        "\tObs 503.836593"
       ]
      },
      {
       "output_type": "stream",
       "stream": "stdout",
       "text": [
        "\n",
        "\tPrior 22.110886\n",
        "\tModel 2961416.523331\n",
        "\tObs 503.307328"
       ]
      },
      {
       "output_type": "stream",
       "stream": "stdout",
       "text": [
        "\n",
        "\tPrior 22.042532\n",
        "\tModel 2961294.386257\n",
        "\tObs 503.828011"
       ]
      },
      {
       "output_type": "stream",
       "stream": "stdout",
       "text": [
        "\n",
        "\tPrior 22.042551\n",
        "\tModel 2961294.353028\n",
        "\tObs 503.827859"
       ]
      },
      {
       "output_type": "stream",
       "stream": "stdout",
       "text": [
        "\n",
        "\tPrior 22.076672\n",
        "\tModel 2961295.684729\n",
        "\tObs 503.563732"
       ]
      },
      {
       "output_type": "stream",
       "stream": "stdout",
       "text": [
        "\n",
        "\tPrior 22.359948\n",
        "\tModel 2962673.305637\n",
        "\tObs 501.761010"
       ]
      },
      {
       "output_type": "stream",
       "stream": "stdout",
       "text": [
        "\n",
        "\tPrior 22.078313\n",
        "\tModel 2961291.157997\n",
        "\tObs 503.552023"
       ]
      },
      {
       "output_type": "stream",
       "stream": "stdout",
       "text": [
        "\n",
        "\tPrior 22.078331\n",
        "\tModel 2961291.108430\n",
        "\tObs 503.551893"
       ]
      },
      {
       "output_type": "stream",
       "stream": "stdout",
       "text": [
        "\n",
        "\tPrior 22.218353\n",
        "\tModel 2961448.836481\n",
        "\tObs 502.606416"
       ]
      },
      {
       "output_type": "stream",
       "stream": "stdout",
       "text": [
        "\n",
        "\tPrior 22.081589\n",
        "\tModel 2961282.563617\n",
        "\tObs 503.528679"
       ]
      },
      {
       "output_type": "stream",
       "stream": "stdout",
       "text": [
        "\n",
        "\tPrior 22.081627\n",
        "\tModel 2961282.467792\n",
        "\tObs 503.528410"
       ]
      },
      {
       "output_type": "stream",
       "stream": "stdout",
       "text": [
        "\n",
        "\tPrior 22.149802\n",
        "\tModel 2961238.185591\n",
        "\tObs 503.055909"
       ]
      },
      {
       "output_type": "stream",
       "stream": "stdout",
       "text": [
        "\n",
        "\tPrior 22.536133\n",
        "\tModel 2967507.469675\n",
        "\tObs 500.026084"
       ]
      },
      {
       "output_type": "stream",
       "stream": "stdout",
       "text": [
        "\n",
        "\tPrior 22.150471\n",
        "\tModel 2961237.362886\n",
        "\tObs 503.049841"
       ]
      },
      {
       "output_type": "stream",
       "stream": "stdout",
       "text": [
        "\n",
        "\tPrior 22.150488\n",
        "\tModel 2961237.341742\n",
        "\tObs 503.049681"
       ]
      },
      {
       "output_type": "stream",
       "stream": "stdout",
       "text": [
        "\n",
        "\tPrior 22.341905\n",
        "\tModel 2962693.956472\n",
        "\tObs 501.428425"
       ]
      },
      {
       "output_type": "stream",
       "stream": "stdout",
       "text": [
        "\n",
        "\tPrior 22.151196\n",
        "\tModel 2961236.517185\n",
        "\tObs 503.043257"
       ]
      },
      {
       "output_type": "stream",
       "stream": "stdout",
       "text": [
        "\n",
        "\tPrior 22.151216\n",
        "\tModel 2961236.494795\n",
        "\tObs 503.043078"
       ]
      },
      {
       "output_type": "stream",
       "stream": "stdout",
       "text": [
        "\n",
        "\tPrior 22.246210\n",
        "\tModel 2961547.744245\n",
        "\tObs 502.209689"
       ]
      },
      {
       "output_type": "stream",
       "stream": "stdout",
       "text": [
        "\n",
        "\tPrior 22.152017\n",
        "\tModel 2961235.619472\n",
        "\tObs 503.035811"
       ]
      },
      {
       "output_type": "stream",
       "stream": "stdout",
       "text": [
        "\n",
        "\tPrior 22.152041\n",
        "\tModel 2961235.594181\n",
        "\tObs 503.035593"
       ]
      },
      {
       "output_type": "stream",
       "stream": "stdout",
       "text": [
        "\n",
        "\tPrior 22.199039\n",
        "\tModel 2961288.978305\n",
        "\tObs 502.616364"
       ]
      },
      {
       "output_type": "stream",
       "stream": "stdout",
       "text": [
        "\n",
        "\tPrior 22.153108\n",
        "\tModel 2961234.524075\n",
        "\tObs 503.025922"
       ]
      },
      {
       "output_type": "stream",
       "stream": "stdout",
       "text": [
        "\n",
        "\tPrior 22.153143\n",
        "\tModel 2961234.490733\n",
        "\tObs 503.025604"
       ]
      },
      {
       "output_type": "stream",
       "stream": "stdout",
       "text": [
        "\n",
        "\tPrior 22.176070\n",
        "\tModel 2961237.238115\n",
        "\tObs 502.819502"
       ]
      },
      {
       "output_type": "stream",
       "stream": "stdout",
       "text": [
        "\n",
        "\tPrior 22.555972\n",
        "\tModel 2963568.565014\n",
        "\tObs 499.881910"
       ]
      },
      {
       "output_type": "stream",
       "stream": "stdout",
       "text": [
        "\n",
        "\tPrior 22.177835\n",
        "\tModel 2961233.144237\n",
        "\tObs 502.804073"
       ]
      },
      {
       "output_type": "stream",
       "stream": "stdout",
       "text": [
        "\n",
        "\tPrior 22.177859\n",
        "\tModel 2961233.089626\n",
        "\tObs 502.803864"
       ]
      },
      {
       "output_type": "stream",
       "stream": "stdout",
       "text": [
        "\n",
        "\tPrior 22.365540\n",
        "\tModel 2961606.774963\n",
        "\tObs 501.256476"
       ]
      },
      {
       "output_type": "stream",
       "stream": "stdout",
       "text": [
        "\n",
        "\tPrior 22.180464\n",
        "\tModel 2961227.312033\n",
        "\tObs 502.781117"
       ]
      },
      {
       "output_type": "stream",
       "stream": "stdout",
       "text": [
        "\n",
        "\tPrior 22.180501\n",
        "\tModel 2961227.232583\n",
        "\tObs 502.780795"
       ]
      },
      {
       "output_type": "stream",
       "stream": "stdout",
       "text": [
        "\n",
        "\tPrior 22.272685\n",
        "\tModel 2961223.362284\n",
        "\tObs 501.998722"
       ]
      },
      {
       "output_type": "stream",
       "stream": "stdout",
       "text": [
        "\n",
        "\tPrior 22.644878\n",
        "\tModel 2969741.574346\n",
        "\tObs 500.980315"
       ]
      },
      {
       "output_type": "stream",
       "stream": "stdout",
       "text": [
        "\n",
        "\tPrior 22.273163\n",
        "\tModel 2961222.491538\n",
        "\tObs 501.996770"
       ]
      },
      {
       "output_type": "stream",
       "stream": "stdout",
       "text": [
        "\n",
        "\tPrior 22.273172\n",
        "\tModel 2961222.476048\n",
        "\tObs 501.996734"
       ]
      },
      {
       "output_type": "stream",
       "stream": "stdout",
       "text": [
        "\n",
        "\tPrior 22.457539\n",
        "\tModel 2963192.742304\n",
        "\tObs 501.366568"
       ]
      },
      {
       "output_type": "stream",
       "stream": "stdout",
       "text": [
        "\n",
        "\tPrior 22.273682\n",
        "\tModel 2961221.582176\n",
        "\tObs 501.994652"
       ]
      },
      {
       "output_type": "stream",
       "stream": "stdout",
       "text": [
        "\n",
        "\tPrior 22.273692\n",
        "\tModel 2961221.565684\n",
        "\tObs 501.994613"
       ]
      },
      {
       "output_type": "stream",
       "stream": "stdout",
       "text": [
        "\n",
        "\tPrior 22.365245\n",
        "\tModel 2961636.669392\n",
        "\tObs 501.651383"
       ]
      },
      {
       "output_type": "stream",
       "stream": "stdout",
       "text": [
        "\n",
        "\tPrior 22.274282\n",
        "\tModel 2961220.578037\n",
        "\tObs 501.992208"
       ]
      },
      {
       "output_type": "stream",
       "stream": "stdout",
       "text": [
        "\n",
        "\tPrior 22.274294\n",
        "\tModel 2961220.559061\n",
        "\tObs 501.992161"
       ]
      },
      {
       "output_type": "stream",
       "stream": "stdout",
       "text": [
        "\n",
        "\tPrior 22.319677\n",
        "\tModel 2961287.694019\n",
        "\tObs 501.814693"
       ]
      },
      {
       "output_type": "stream",
       "stream": "stdout",
       "text": [
        "\n",
        "\tPrior 22.275139\n",
        "\tModel 2961219.229404\n",
        "\tObs 501.988722"
       ]
      },
      {
       "output_type": "stream",
       "stream": "stdout",
       "text": [
        "\n",
        "\tPrior 22.275156\n",
        "\tModel 2961219.202590\n",
        "\tObs 501.988650"
       ]
      },
      {
       "output_type": "stream",
       "stream": "stdout",
       "text": [
        "\n",
        "\tPrior 22.297395\n",
        "\tModel 2961219.526830\n",
        "\tObs 501.899983"
       ]
      },
      {
       "output_type": "stream",
       "stream": "stdout",
       "text": [
        "\n",
        "\tPrior 22.629764\n",
        "\tModel 2963718.811120\n",
        "\tObs 499.495518"
       ]
      },
      {
       "output_type": "stream",
       "stream": "stdout",
       "text": [
        "\n",
        "\tPrior 22.298626\n",
        "\tModel 2961218.712558\n",
        "\tObs 501.889943"
       ]
      },
      {
       "output_type": "stream",
       "stream": "stdout",
       "text": [
        "\n",
        "\tPrior 22.298694\n",
        "\tModel 2961218.669830\n",
        "\tObs 501.889389"
       ]
      },
      {
       "output_type": "stream",
       "stream": "stdout",
       "text": [
        "\n",
        "\tPrior 22.463071\n",
        "\tModel 2961794.073036\n",
        "\tObs 500.623889"
       ]
      },
      {
       "output_type": "stream",
       "stream": "stdout",
       "text": [
        "\n",
        "\tPrior 22.299990\n",
        "\tModel 2961217.901225\n",
        "\tObs 501.878836"
       ]
      },
      {
       "output_type": "stream",
       "stream": "stdout",
       "text": [
        "\n",
        "\tPrior 22.300072\n",
        "\tModel 2961217.855536\n",
        "\tObs 501.878170"
       ]
      },
      {
       "output_type": "stream",
       "stream": "stdout",
       "text": [
        "\n",
        "\tPrior 22.381286\n",
        "\tModel 2961339.593901\n",
        "\tObs 501.234947"
       ]
      },
      {
       "output_type": "stream",
       "stream": "stdout",
       "text": [
        "\n",
        "\tPrior 22.301501\n",
        "\tModel 2961217.112941\n",
        "\tObs 501.866539"
       ]
      },
      {
       "output_type": "stream",
       "stream": "stdout",
       "text": [
        "\n",
        "\tPrior 22.301608\n",
        "\tModel 2961217.061458\n",
        "\tObs 501.865667"
       ]
      },
      {
       "output_type": "stream",
       "stream": "stdout",
       "text": [
        "\n",
        "\tPrior 22.341378\n",
        "\tModel 2961238.235181\n",
        "\tObs 501.546523"
       ]
      },
      {
       "output_type": "stream",
       "stream": "stdout",
       "text": [
        "\n",
        "\tPrior 22.303325\n",
        "\tModel 2961216.316681\n",
        "\tObs 501.851714"
       ]
      },
      {
       "output_type": "stream",
       "stream": "stdout",
       "text": [
        "\n",
        "\tPrior 22.303490\n",
        "\tModel 2961216.253035\n",
        "\tObs 501.850375"
       ]
      },
      {
       "output_type": "stream",
       "stream": "stdout",
       "text": [
        "\n",
        "\tPrior 22.322419\n",
        "\tModel 2961218.141501\n",
        "\tObs 501.697600"
       ]
      },
      {
       "output_type": "stream",
       "stream": "stdout",
       "text": [
        "\n",
        "\tPrior 22.305850\n",
        "\tModel 2961215.494134\n",
        "\tObs 501.831220"
       ]
      },
      {
       "output_type": "stream",
       "stream": "stdout",
       "text": [
        "\n",
        "\tPrior 22.306213\n",
        "\tModel 2961215.402574\n",
        "\tObs 501.828276"
       ]
      },
      {
       "output_type": "stream",
       "stream": "stdout",
       "text": [
        "\n",
        "\tPrior 22.314313\n",
        "\tModel 2961215.103905\n",
        "\tObs 501.762783"
       ]
      },
      {
       "output_type": "stream",
       "stream": "stdout",
       "text": [
        "\n",
        "\tPrior 22.319662\n",
        "\tModel 2961216.734457\n",
        "\tObs 501.719727"
       ]
      },
      {
       "output_type": "stream",
       "stream": "stdout",
       "text": [
        "\n",
        "\tPrior 22.314653\n",
        "\tModel 2961215.164234\n",
        "\tObs 501.760045"
       ]
      },
      {
       "output_type": "stream",
       "stream": "stdout",
       "text": [
        "\n",
        "\tPrior 22.314313\n",
        "\tModel 2961215.103905\n",
        "\tObs 501.762783"
       ]
      },
      {
       "output_type": "stream",
       "stream": "stdout",
       "text": [
        "\n",
        "\tPrior 22.790910\n",
        "\tModel 2968499.632860\n",
        "\tObs 497.553174"
       ]
      },
      {
       "output_type": "stream",
       "stream": "stdout",
       "text": [
        "\n",
        "\tPrior 22.315181\n",
        "\tModel 2961213.418969\n",
        "\tObs 501.753682"
       ]
      },
      {
       "output_type": "stream",
       "stream": "stdout",
       "text": [
        "\n",
        "\tPrior 22.315195\n",
        "\tModel 2961213.392496\n",
        "\tObs 501.753536"
       ]
      },
      {
       "output_type": "stream",
       "stream": "stdout",
       "text": [
        "\n",
        "\tPrior 22.550814\n",
        "\tModel 2962817.365435\n",
        "\tObs 499.475126"
       ]
      },
      {
       "output_type": "stream",
       "stream": "stdout",
       "text": [
        "\n",
        "\tPrior 22.316164\n",
        "\tModel 2961211.580757\n",
        "\tObs 501.743387"
       ]
      },
      {
       "output_type": "stream",
       "stream": "stdout",
       "text": [
        "\n",
        "\tPrior 22.316180\n",
        "\tModel 2961211.551353\n",
        "\tObs 501.743219"
       ]
      },
      {
       "output_type": "stream",
       "stream": "stdout",
       "text": [
        "\n",
        "\tPrior 22.432939\n",
        "\tModel 2961507.156854\n",
        "\tObs 500.567089"
       ]
      },
      {
       "output_type": "stream",
       "stream": "stdout",
       "text": [
        "\n",
        "\tPrior 22.317440\n",
        "\tModel 2961209.302526\n",
        "\tObs 501.730029"
       ]
      },
      {
       "output_type": "stream",
       "stream": "stdout",
       "text": [
        "\n",
        "\tPrior 22.317462\n",
        "\tModel 2961209.264649\n",
        "\tObs 501.729801"
       ]
      },
      {
       "output_type": "stream",
       "stream": "stdout",
       "text": [
        "\n",
        "\tPrior 22.375063\n",
        "\tModel 2961233.946581\n",
        "\tObs 501.138391"
       ]
      },
      {
       "output_type": "stream",
       "stream": "stdout",
       "text": [
        "\n",
        "\tPrior 22.320459\n",
        "\tModel 2961204.401366\n",
        "\tObs 501.698463"
       ]
      },
      {
       "output_type": "stream",
       "stream": "stdout",
       "text": [
        "\n",
        "\tPrior 22.320516\n",
        "\tModel 2961204.315835\n",
        "\tObs 501.697870"
       ]
      },
      {
       "output_type": "stream",
       "stream": "stdout",
       "text": [
        "\n",
        "\tPrior 22.347759\n",
        "\tModel 2961191.255950\n",
        "\tObs 501.415901"
       ]
      },
      {
       "output_type": "stream",
       "stream": "stdout",
       "text": [
        "\n",
        "\tPrior 22.815168\n",
        "\tModel 2964763.338512\n",
        "\tObs 498.185126"
       ]
      },
      {
       "output_type": "stream",
       "stream": "stdout",
       "text": [
        "\n",
        "\tPrior 22.349494\n",
        "\tModel 2961189.258655\n",
        "\tObs 501.401717"
       ]
      },
      {
       "output_type": "stream",
       "stream": "stdout",
       "text": [
        "\n",
        "\tPrior 22.349545\n",
        "\tModel 2961189.201731\n",
        "\tObs 501.401300"
       ]
      },
      {
       "output_type": "stream",
       "stream": "stdout",
       "text": [
        "\n",
        "\tPrior 22.580101\n",
        "\tModel 2961958.644912\n",
        "\tObs 499.659146"
       ]
      },
      {
       "output_type": "stream",
       "stream": "stdout",
       "text": [
        "\n",
        "\tPrior 22.351491\n",
        "\tModel 2961187.106600\n",
        "\tObs 501.385407"
       ]
      },
      {
       "output_type": "stream",
       "stream": "stdout",
       "text": [
        "\n",
        "\tPrior 22.351553\n",
        "\tModel 2961187.042879\n",
        "\tObs 501.384905"
       ]
      },
      {
       "output_type": "stream",
       "stream": "stdout",
       "text": [
        "\n",
        "\tPrior 22.465270\n",
        "\tModel 2961321.738753\n",
        "\tObs 500.491121"
       ]
      },
      {
       "output_type": "stream",
       "stream": "stdout",
       "text": [
        "\n",
        "\tPrior 22.354094\n",
        "\tModel 2961184.538696\n",
        "\tObs 501.364185"
       ]
      },
      {
       "output_type": "stream",
       "stream": "stdout",
       "text": [
        "\n",
        "\tPrior 22.354182\n",
        "\tModel 2961184.456314\n",
        "\tObs 501.363466"
       ]
      },
      {
       "output_type": "stream",
       "stream": "stdout",
       "text": [
        "\n",
        "\tPrior 22.409593\n",
        "\tModel 2961193.068208\n",
        "\tObs 500.920141"
       ]
      },
      {
       "output_type": "stream",
       "stream": "stdout",
       "text": [
        "\n",
        "\tPrior 22.359878\n",
        "\tModel 2961179.788232\n",
        "\tObs 501.317144"
       ]
      },
      {
       "output_type": "stream",
       "stream": "stdout",
       "text": [
        "\n",
        "\tPrior 22.360120\n",
        "\tModel 2961179.618113\n",
        "\tObs 501.315179"
       ]
      },
      {
       "output_type": "stream",
       "stream": "stdout",
       "text": [
        "\n",
        "\tPrior 22.384830\n",
        "\tModel 2961174.374184\n",
        "\tObs 501.116254"
       ]
      },
      {
       "output_type": "stream",
       "stream": "stdout",
       "text": [
        "\n",
        "\tPrior 22.394089\n",
        "\tModel 2961178.567379\n",
        "\tObs 501.042544"
       ]
      },
      {
       "output_type": "stream",
       "stream": "stdout",
       "text": [
        "\n",
        "\tPrior 22.894315\n",
        "\tModel 2969332.809262\n",
        "\tObs 497.632449"
       ]
      },
      {
       "output_type": "stream",
       "stream": "stdout",
       "text": [
        "\n",
        "\tPrior 22.394926\n",
        "\tModel 2961177.271952\n",
        "\tObs 501.035315"
       ]
      },
      {
       "output_type": "stream",
       "stream": "stdout",
       "text": [
        "\n",
        "\tPrior 22.394942\n",
        "\tModel 2961177.246502\n",
        "\tObs 501.035170"
       ]
      },
      {
       "output_type": "stream",
       "stream": "stdout",
       "text": [
        "\n",
        "\tPrior 22.642014\n",
        "\tModel 2963036.842196\n",
        "\tObs 499.122000"
       ]
      },
      {
       "output_type": "stream",
       "stream": "stdout",
       "text": [
        "\n",
        "\tPrior 22.395845\n",
        "\tModel 2961175.908969\n",
        "\tObs 501.027376"
       ]
      },
      {
       "output_type": "stream",
       "stream": "stdout",
       "text": [
        "\n",
        "\tPrior 22.395864\n",
        "\tModel 2961175.881593\n",
        "\tObs 501.027213"
       ]
      },
      {
       "output_type": "stream",
       "stream": "stdout",
       "text": [
        "\n",
        "\tPrior 22.518286\n",
        "\tModel 2961553.774725\n",
        "\tObs 500.024531"
       ]
      },
      {
       "output_type": "stream",
       "stream": "stdout",
       "text": [
        "\n",
        "\tPrior 22.396936\n",
        "\tModel 2961174.373065\n",
        "\tObs 501.017959"
       ]
      },
      {
       "output_type": "stream",
       "stream": "stdout",
       "text": [
        "\n",
        "\tPrior 22.396960\n",
        "\tModel 2961174.340729\n",
        "\tObs 501.017755"
       ]
      },
      {
       "output_type": "stream",
       "stream": "stdout",
       "text": [
        "\n",
        "\tPrior 22.457462\n",
        "\tModel 2961228.113695\n",
        "\tObs 500.509128"
       ]
      },
      {
       "output_type": "stream",
       "stream": "stdout",
       "text": [
        "\n",
        "\tPrior 22.398641\n",
        "\tModel 2961172.151995\n",
        "\tObs 501.003263"
       ]
      },
      {
       "output_type": "stream",
       "stream": "stdout",
       "text": [
        "\n",
        "\tPrior 22.398681\n",
        "\tModel 2961172.102353\n",
        "\tObs 501.002918"
       ]
      },
      {
       "output_type": "stream",
       "stream": "stdout",
       "text": [
        "\n",
        "\tPrior 22.428034\n",
        "\tModel 2961168.001842\n",
        "\tObs 500.753219"
       ]
      },
      {
       "output_type": "stream",
       "stream": "stdout",
       "text": [
        "\n",
        "\tPrior 22.913361\n",
        "\tModel 2965210.125658\n",
        "\tObs 497.231029"
       ]
      },
      {
       "output_type": "stream",
       "stream": "stdout",
       "text": [
        "\n",
        "\tPrior 22.429598\n",
        "\tModel 2961167.731436\n",
        "\tObs 500.739758"
       ]
      },
      {
       "output_type": "stream",
       "stream": "stdout",
       "text": [
        "\n",
        "\tPrior 22.431386\n",
        "\tModel 2961167.532986\n",
        "\tObs 500.724392"
       ]
      },
      {
       "output_type": "stream",
       "stream": "stdout",
       "text": [
        "\n",
        "\tPrior 22.669892\n",
        "\tModel 2962172.379134\n",
        "\tObs 498.831443"
       ]
      },
      {
       "output_type": "stream",
       "stream": "stdout",
       "text": [
        "\n",
        "\tPrior 22.432902\n",
        "\tModel 2961167.457061\n",
        "\tObs 500.711377"
       ]
      },
      {
       "output_type": "stream",
       "stream": "stdout",
       "text": [
        "\n",
        "\tPrior 22.588763\n",
        "\tModel 2961604.535081\n",
        "\tObs 499.440021"
       ]
      },
      {
       "output_type": "stream",
       "stream": "stdout",
       "text": [
        "\n",
        "\tPrior 22.434372\n",
        "\tModel 2961167.464333\n",
        "\tObs 500.698762"
       ]
      },
      {
       "output_type": "stream",
       "stream": "stdout",
       "text": [
        "\n",
        "\tPrior 22.536033\n",
        "\tModel 2961359.094965\n",
        "\tObs 499.855215"
       ]
      },
      {
       "output_type": "stream",
       "stream": "stdout",
       "text": [
        "\n",
        "\tPrior 22.435770\n",
        "\tModel 2961167.545114\n",
        "\tObs 500.686781"
       ]
      },
      {
       "output_type": "stream",
       "stream": "stdout",
       "text": [
        "\n",
        "\tPrior 22.434583\n",
        "\tModel 2961167.471915\n",
        "\tObs 500.696953"
       ]
      },
      {
       "output_type": "stream",
       "stream": "stdout",
       "text": [
        "\n",
        "\tPrior 22.434372\n",
        "\tModel 2961167.464333\n",
        "\tObs 500.698762"
       ]
      },
      {
       "output_type": "stream",
       "stream": "stdout",
       "text": [
        "\n",
        "\tPrior 23.005192\n",
        "\tModel 2971540.866720\n",
        "\tObs 497.803108"
       ]
      },
      {
       "output_type": "stream",
       "stream": "stdout",
       "text": [
        "\n",
        "\tPrior 22.435210\n",
        "\tModel 2961166.812613\n",
        "\tObs 500.693094"
       ]
      },
      {
       "output_type": "stream",
       "stream": "stdout",
       "text": [
        "\n",
        "\tPrior 22.435247\n",
        "\tModel 2961166.785389\n",
        "\tObs 500.692848"
       ]
      },
      {
       "output_type": "stream",
       "stream": "stdout",
       "text": [
        "\n",
        "\tPrior 22.716812\n",
        "\tModel 2963664.440728\n",
        "\tObs 499.021406"
       ]
      },
      {
       "output_type": "stream",
       "stream": "stdout",
       "text": [
        "\n",
        "\tPrior 22.436105\n",
        "\tModel 2961166.171426\n",
        "\tObs 500.687049"
       ]
      },
      {
       "output_type": "stream",
       "stream": "stdout",
       "text": [
        "\n",
        "\tPrior 22.436146\n",
        "\tModel 2961166.143292\n",
        "\tObs 500.686771"
       ]
      },
      {
       "output_type": "stream",
       "stream": "stdout",
       "text": [
        "\n",
        "\tPrior 22.575626\n",
        "\tModel 2961744.393247\n",
        "\tObs 499.801200"
       ]
      },
      {
       "output_type": "stream",
       "stream": "stdout",
       "text": [
        "\n",
        "\tPrior 22.437049\n",
        "\tModel 2961165.555894\n",
        "\tObs 500.680677"
       ]
      },
      {
       "output_type": "stream",
       "stream": "stdout",
       "text": [
        "\n",
        "\tPrior 22.437097\n",
        "\tModel 2961165.525968\n",
        "\tObs 500.680350"
       ]
      },
      {
       "output_type": "stream",
       "stream": "stdout",
       "text": [
        "\n",
        "\tPrior 22.506151\n",
        "\tModel 2961289.168939\n",
        "\tObs 500.228118"
       ]
      },
      {
       "output_type": "stream",
       "stream": "stdout",
       "text": [
        "\n",
        "\tPrior 22.438094\n",
        "\tModel 2961164.946768\n",
        "\tObs 500.673621"
       ]
      },
      {
       "output_type": "stream",
       "stream": "stdout",
       "text": [
        "\n",
        "\tPrior 22.438156\n",
        "\tModel 2961164.913254\n",
        "\tObs 500.673205"
       ]
      },
      {
       "output_type": "stream",
       "stream": "stdout",
       "text": [
        "\n",
        "\tPrior 22.472102\n",
        "\tModel 2961186.815529\n",
        "\tObs 500.447638"
       ]
      },
      {
       "output_type": "stream",
       "stream": "stdout",
       "text": [
        "\n",
        "\tPrior 22.439371\n",
        "\tModel 2961164.307270\n",
        "\tObs 500.665018"
       ]
      },
      {
       "output_type": "stream",
       "stream": "stdout",
       "text": [
        "\n",
        "\tPrior 22.439462\n",
        "\tModel 2961164.265866\n",
        "\tObs 500.664402"
       ]
      },
      {
       "output_type": "stream",
       "stream": "stdout",
       "text": [
        "\n",
        "\tPrior 22.455770\n",
        "\tModel 2961166.239583\n",
        "\tObs 500.555326"
       ]
      },
      {
       "output_type": "stream",
       "stream": "stdout",
       "text": [
        "\n",
        "\tPrior 22.441282\n",
        "\tModel 2961163.563342\n",
        "\tObs 500.652154"
       ]
      },
      {
       "output_type": "stream",
       "stream": "stdout",
       "text": [
        "\n",
        "\tPrior 22.441479\n",
        "\tModel 2961163.501390\n",
        "\tObs 500.650833"
       ]
      },
      {
       "output_type": "stream",
       "stream": "stdout",
       "text": [
        "\n",
        "\tPrior 22.448622\n",
        "\tModel 2961163.084554\n",
        "\tObs 500.602947"
       ]
      },
      {
       "output_type": "stream",
       "stream": "stdout",
       "text": [
        "\n",
        "\tPrior 22.453340\n",
        "\tModel 2961164.766160\n",
        "\tObs 500.571487"
       ]
      },
      {
       "output_type": "stream",
       "stream": "stdout",
       "text": [
        "\n",
        "\tPrior 96.556446\n",
        "\tModel 1834638453.174765\n",
        "\tObs 543246.565062"
       ]
      },
      {
       "output_type": "stream",
       "stream": "stdout",
       "text": [
        "\n",
        "\tPrior 22.434361\n",
        "\tModel 2961167.117577\n",
        "\tObs 500.698715"
       ]
      },
      {
       "output_type": "stream",
       "stream": "stdout",
       "text": [
        "\n",
        "\tPrior 33.468459\n",
        "\tModel 442124937.870459\n",
        "\tObs 125869.641201"
       ]
      },
      {
       "output_type": "stream",
       "stream": "stdout",
       "text": [
        "\n",
        "\tPrior 22.434350\n",
        "\tModel 2961166.761175\n",
        "\tObs 500.698667"
       ]
      },
      {
       "output_type": "stream",
       "stream": "stdout",
       "text": [
        "\n",
        "\tPrior 22.434349\n",
        "\tModel 2961166.759449\n",
        "\tObs 500.698667"
       ]
      },
      {
       "output_type": "stream",
       "stream": "stdout",
       "text": [
        "\n",
        "\tPrior 23.743011\n",
        "\tModel 112994513.409347\n",
        "\tObs 29676.070993"
       ]
      },
      {
       "output_type": "stream",
       "stream": "stdout",
       "text": [
        "\n",
        "\tPrior 22.434338\n",
        "\tModel 2961166.409513\n",
        "\tObs 500.698620"
       ]
      },
      {
       "output_type": "stream",
       "stream": "stdout",
       "text": [
        "\n",
        "\tPrior 22.434338\n",
        "\tModel 2961166.407810\n",
        "\tObs 500.698620"
       ]
      },
      {
       "output_type": "stream",
       "stream": "stdout",
       "text": [
        "\n",
        "\tPrior 22.056699\n",
        "\tModel 30637771.289138\n",
        "\tObs 7505.807003"
       ]
      },
      {
       "output_type": "stream",
       "stream": "stdout",
       "text": [
        "\n",
        "\tPrior 22.434326\n",
        "\tModel 2961166.065500\n",
        "\tObs 500.698574"
       ]
      },
      {
       "output_type": "stream",
       "stream": "stdout",
       "text": [
        "\n",
        "\tPrior 22.434326\n",
        "\tModel 2961166.063827\n",
        "\tObs 500.698574"
       ]
      },
      {
       "output_type": "stream",
       "stream": "stdout",
       "text": [
        "\n",
        "\tPrior 21.979840\n",
        "\tModel 9903166.635646\n",
        "\tObs 2215.104634"
       ]
      },
      {
       "output_type": "stream",
       "stream": "stdout",
       "text": [
        "\n",
        "\tPrior 22.434315\n",
        "\tModel 2961165.727969\n",
        "\tObs 500.698530"
       ]
      },
      {
       "output_type": "stream",
       "stream": "stdout",
       "text": [
        "\n",
        "\tPrior 22.434315\n",
        "\tModel 2961165.726320\n",
        "\tObs 500.698530"
       ]
      },
      {
       "output_type": "stream",
       "stream": "stdout",
       "text": [
        "\n",
        "\tPrior 22.138480\n",
        "\tModel 4696111.071749\n",
        "\tObs 924.235322"
       ]
      },
      {
       "output_type": "stream",
       "stream": "stdout",
       "text": [
        "\n",
        "\tPrior 22.434304\n",
        "\tModel 2961165.395577\n",
        "\tObs 500.698486"
       ]
      },
      {
       "output_type": "stream",
       "stream": "stdout",
       "text": [
        "\n",
        "\tPrior 22.434304\n",
        "\tModel 2961165.393945\n",
        "\tObs 500.698486"
       ]
      },
      {
       "output_type": "stream",
       "stream": "stdout",
       "text": [
        "\n",
        "\tPrior 22.268838\n",
        "\tModel 3392865.003326\n",
        "\tObs 605.696170"
       ]
      },
      {
       "output_type": "stream",
       "stream": "stdout",
       "text": [
        "\n",
        "\tPrior 22.434293\n",
        "\tModel 2961165.066836\n",
        "\tObs 500.698444"
       ]
      },
      {
       "output_type": "stream",
       "stream": "stdout",
       "text": [
        "\n",
        "\tPrior 22.434293\n",
        "\tModel 2961165.065215\n",
        "\tObs 500.698444"
       ]
      },
      {
       "output_type": "stream",
       "stream": "stdout",
       "text": [
        "\n",
        "(array([ 0.7415589 ,  0.98745986,  0.97492963,  0.96235328,  0.94986593,\n",
        "        0.93752974,  0.9253465 ,  0.91328095,  0.91149261,  0.9094416 ,\n",
        "        0.90716701,  0.90468708,  0.90208008,  0.89942214,  0.89669186,\n",
        "        0.89379071,  0.89082345,  0.88776697,  0.88463263,  0.88143172,\n",
        "        0.8780561 ,  0.87449732,  0.87259034,  0.87048833,  0.86841286,\n",
        "        0.86632545,  0.86426664,  0.86225527,  0.86025765,  0.85739794,\n",
        "        0.85448335,  0.85143074,  0.84808899,  0.8445164 ,  0.84074441,\n",
        "        0.83698852,  0.8332875 ,  0.82979316,  0.82662239,  0.82371808,\n",
        "        0.82118963,  0.81906294,  0.81738581,  0.8161769 ,  0.81531589,\n",
        "        0.81478796,  0.81447318,  0.8143183 ,  0.81431863,  0.81439764,\n",
        "        0.81488281,  0.8153756 ,  0.81590655,  0.81643738,  0.81700986,\n",
        "        0.81770487,  0.81842193,  0.8172906 ,  0.8161012 ,  0.81489356,\n",
        "        0.81378748,  0.81287585,  0.81217827,  0.81159376,  0.81099351,\n",
        "        0.81029242,  0.80947167,  0.80863195,  0.80780158,  0.80703344,\n",
        "        0.80634915,  0.80562048,  0.80493377,  0.8042554 ,  0.80355624,\n",
        "        0.80283083,  0.80205628,  0.80117685,  0.79984138,  0.79837306,\n",
        "        0.79680872,  0.79522572,  0.79367287,  0.79223427,  0.79087522,\n",
        "        0.78851484,  0.78612028,  0.78369269,  0.78126978,  0.77890897,\n",
        "        0.77663954,  0.77450778,  0.77257183,  0.77086686,  0.76941311,\n",
        "        0.76807419,  0.76672036,  0.76527293,  0.7637065 ,  0.76300272,\n",
        "        0.76226589,  0.76148388,  0.76061583,  0.75961358,  0.75857599,\n",
        "        0.7575143 ,  0.75656668,  0.75563591,  0.7547719 ,  0.75373692,\n",
        "        0.75273498,  0.7515427 ,  0.7506015 ,  0.74733278,  0.74440488,\n",
        "        0.7413739 ,  0.73849558,  0.73557101,  0.73267426,  0.72976157,\n",
        "        0.72689278,  0.72401136,  0.72095739,  0.71790419,  0.71484921,\n",
        "        0.71178218,  0.70873206,  0.70738033,  0.70589792,  0.70420138,\n",
        "        0.70228718,  0.70027358,  0.69820297,  0.69616362,  0.69229103,\n",
        "        0.68846917,  0.68470252,  0.68093611,  0.67722387,  0.67346142,\n",
        "        0.66973023,  0.66900214,  0.66833232,  0.6675804 ,  0.66699916,\n",
        "        0.66635467,  0.66581673,  0.66530505,  0.6642225 ,  0.66315386,\n",
        "        0.66203451,  0.66079389,  0.65950392,  0.65798087,  0.65657088,\n",
        "        0.65656768,  0.656589  ,  0.65629941,  0.65586382,  0.65516954,\n",
        "        0.65452756,  0.65371669,  0.65308842,  0.65226023,  0.65140603,\n",
        "        0.65031228,  0.64906168,  0.64782238,  0.64637621,  0.64578752,\n",
        "        0.64493175,  0.64445157,  0.64370929,  0.64318017,  0.64238014,\n",
        "        0.64185394,  0.64041544,  0.6392261 ,  0.63808249,  0.63691455,\n",
        "        0.63597969,  0.63483568,  0.63417769,  0.63487051,  0.63622939,\n",
        "        0.63749898,  0.63929527,  0.64089832,  0.64296607,  0.64474655,\n",
        "        0.64589624,  0.64677815,  0.64819888,  0.6494051 ,  0.65071323,\n",
        "        0.65184977,  0.65298475,  0.65398293,  0.65490528,  0.65571843,\n",
        "        0.65618799,  0.65656367,  0.65674184,  0.65701218,  0.65697904,\n",
        "        0.65713576,  0.65737267,  0.65764353,  0.6580639 ,  0.65858044,\n",
        "        0.65960766,  0.66089793,  0.6626793 ,  0.66449226,  0.66647539,\n",
        "        0.66823917,  0.67021987,  0.67204269,  0.67299894,  0.67378506,\n",
        "        0.67438846,  0.67476351,  0.67488765,  0.67506072,  0.67538831,\n",
        "        0.67655883,  0.67795205,  0.67959838,  0.68125539,  0.6831899 ,\n",
        "        0.68511738,  0.6873032 ,  0.68946574,  0.69160397,  0.69359644,\n",
        "        0.6953598 ,  0.69714996,  0.69881127,  0.70073499,  0.70184392,\n",
        "        0.70311254,  0.70430118,  0.70545146,  0.70648528,  0.70741911,\n",
        "        0.70828235,  0.71040072,  0.71257066,  0.71470045,  0.71693794,\n",
        "        0.71918548,  0.72157874,  0.72404495,  0.72674138,  0.72950992,\n",
        "        0.73235827,  0.73527075,  0.73812995,  0.74110161,  0.74405541,\n",
        "        0.74621806,  0.74840499,  0.75077081,  0.75318434,  0.75571371,\n",
        "        0.75815797,  0.76052805,  0.76174984,  0.76281491,  0.76380254,\n",
        "        0.76476717,  0.76573392,  0.76675466,  0.76778402,  0.76886977,\n",
        "        0.77003725,  0.77123346,  0.77248434,  0.77375398,  0.77509861,\n",
        "        0.77656219,  0.7795438 ,  0.78255695,  0.78552135,  0.78831904,\n",
        "        0.79091071,  0.79330805,  0.79550503,  0.7970764 ,  0.79850317,\n",
        "        0.79985181,  0.80124712,  0.80280335,  0.80456423,  0.80651503,\n",
        "        0.8071723 ,  0.80799735,  0.80902626,  0.81018222,  0.81136087,\n",
        "        0.81236873,  0.81321091,  0.81517979,  0.81705183,  0.81901808,\n",
        "        0.82099095,  0.82306117,  0.82525796,  0.82754174,  0.82932486,\n",
        "        0.83127046,  0.83334789,  0.83558963,  0.83792639,  0.84040573,\n",
        "        0.84300344,  0.8422728 ,  0.84165085,  0.84118245,  0.84086707,\n",
        "        0.84066168,  0.84068575,  0.84093747,  0.84145629,  0.84222017,\n",
        "        0.84317456,  0.84423774,  0.84531275,  0.84650579,  0.84770234,\n",
        "        0.84948982,  0.8512758 ,  0.853091  ,  0.85498807,  0.85699626,\n",
        "        0.85925678,  0.86152812,  0.85931456,  0.85696647,  0.85456204,\n",
        "        0.85233995,  0.8503253 ,  0.84870435,  0.84731106,  0.84253246,\n",
        "        0.83787272,  0.83341058,  0.82914399,  0.82505911,  0.82110393,\n",
        "        0.81727021,  0.81017192,  0.80336086,  0.79686925,  0.79067276,\n",
        "        0.78471129,  0.77886507,  0.77312774,  0.7657883 ,  0.75864957,\n",
        "        0.75181279,  0.74509252,  0.73844422,  0.73178698,  0.72508762,\n",
        "        0.75406081,  0.90334453,  0.38670269,  0.71499412,  0.69411203,\n",
        "        0.70739626,  0.38680238,  0.90363947,  0.79970995,  0.69040801,\n",
        "        0.66740986,  0.92406059,  0.66440166,  0.45497728,  0.85864326,\n",
        "        0.54340151,  0.36927059,  0.50169673,  0.53425572,  0.95084218,\n",
        "        0.72944065,  0.89962247,  0.4579546 ,  0.72203748,  0.84470879,\n",
        "        0.73577899,  0.6282411 ,  0.50985675,  0.89335037,  0.69376138,\n",
        "        0.71214584,  0.89759366,  0.51162436,  0.92412681,  0.69958855,\n",
        "        0.89306145,  0.52307662,  0.57008363,  0.52729289,  0.39016684,\n",
        "        0.80948787,  0.40002207,  0.96469116,  0.58390077,  0.78472908,\n",
        "        0.46378416,  0.38391526,  0.4437144 ,  0.38203114,  0.883869  ,\n",
        "        0.94260777,  0.68613196,  0.49657395,  0.91686352,  0.76726042,\n",
        "        0.61402577,  0.86477099,  0.64215071,  0.66873724,  0.38360955,\n",
        "        0.85545872,  0.45887248,  0.87579577,  0.45477164,  0.52323932,\n",
        "        0.4318696 ,  0.46739273,  0.76360854,  0.52164856,  0.48801514,\n",
        "        0.82226006,  0.53120402,  0.84194248,  0.56110039,  0.75886889,\n",
        "        0.63809138,  0.52879363,  0.77978057,  0.6280702 ,  0.47555642,\n",
        "        0.41319002,  0.39040691,  0.8206391 ,  0.95956876,  0.72708634,\n",
        "        0.65888579,  0.54274562,  0.37189868,  0.88504118,  0.50857388,\n",
        "        0.65245408,  0.71836013,  0.88267509,  0.73556387,  0.77297716,\n",
        "        0.39721361,  0.39738219,  0.73180137,  0.60832045,  0.58546676,\n",
        "        0.76375227,  0.39421887,  0.65910755,  0.46569673,  0.84474626,\n",
        "        0.53823909,  0.43988399,  0.89521797,  0.87963821,  0.59112151,\n",
        "        0.89051391,  0.88339582,  0.47636746,  0.87306335,  0.66217432,\n",
        "        0.66550783,  0.41328565,  0.47561641,  0.91891436,  0.42257331,\n",
        "        0.60827392,  0.37427859,  0.47950326,  0.5176816 ,  0.42118657,\n",
        "        0.82355519,  0.36223097,  0.68861396,  0.57140376,  0.64499886,\n",
        "        0.6387247 ,  0.39357383,  0.40663345,  0.30972628,  0.44327934,\n",
        "        0.57386047,  0.43670705,  0.8455927 ,  0.76280697,  0.61248675,\n",
        "        0.26955965,  0.42443492,  0.62540781,  0.73314459,  0.37455121,\n",
        "        0.50972059,  0.40380238,  0.23570943,  0.39792981,  0.64028914,\n",
        "        0.96191377,  0.40295827,  0.39261282,  0.38003654,  0.19798304,\n",
        "        0.47168722,  0.91393503,  0.60262324,  0.58325888,  0.46475904,\n",
        "        0.72155303,  0.78343079,  0.59770746,  0.73502401,  0.9192164 ,\n",
        "        0.63147389,  0.42879468,  0.84008501,  0.16093176,  0.38004182,\n",
        "        0.87790993,  0.46593814,  0.431054  ,  0.68712231,  0.97002702,\n",
        "        0.14820539,  0.41864207,  0.5894861 ,  0.86705159,  0.37739375,\n",
        "        0.53670967,  0.60784179,  0.14250192,  0.61507823,  0.5045035 ,\n",
        "        0.54988512,  0.40098596,  0.94470739,  0.77081598,  0.15928689,\n",
        "        0.7196224 ,  0.72990024,  0.54371153,  0.8868193 ,  0.62572015,\n",
        "        0.9120143 ,  0.70796572,  0.78588202,  0.37923822,  0.3678839 ,\n",
        "        0.62040118,  0.64832644,  0.390393  ,  0.18282304,  0.70240393,\n",
        "        0.71907117,  0.55619132,  0.44396249,  0.50774123,  0.80980453,\n",
        "        0.72836759,  0.64338605,  0.54670651,  0.42011533,  0.5752207 ,\n",
        "        0.65966014,  0.55819474,  0.22496575,  0.73256294,  0.70959285,\n",
        "        0.46918469,  0.45618834,  0.40411989,  0.40015515,  0.25232024,\n",
        "        0.67382597,  0.38058804,  0.67926596,  0.61952713,  0.53742073,\n",
        "        0.57631789,  0.42660085,  0.40621683,  0.81127829,  0.88488475,\n",
        "        0.63467901,  0.74324742,  0.67495492,  0.35139222,  0.63299168,\n",
        "        0.74483107,  0.37269363,  0.55864972,  0.59831788,  0.45194397,\n",
        "        0.39409491,  0.42048224,  0.56503609,  0.52600342,  0.38596024,\n",
        "        0.46403683,  0.62591452,  0.75185161,  0.83305073,  0.50861161,\n",
        "        0.37076471,  0.71592475,  0.47412462,  0.6591171 ,  0.52280938,\n",
        "        0.4962181 ,  0.73345885,  0.44406978,  0.40677904,  0.50279945,\n",
        "        0.41353601,  0.58829349,  0.90113961,  0.43448983,  0.51663617,\n",
        "        0.60131264,  0.90293194,  0.70225333,  0.53733176,  0.39674718,\n",
        "        0.76562581,  0.72899112,  0.81928224,  0.49206713,  0.69643654,\n",
        "        0.71476339,  0.95209083,  0.43297294,  0.6026251 ,  0.42495874,\n",
        "        0.37230014,  0.7695788 ,  0.76528172,  0.60098992,  0.89846448,\n",
        "        0.48347133,  0.87647945,  0.72347436,  0.84775222,  0.81439926,\n",
        "        0.41165465,  0.6048449 ,  0.68060469,  0.89245565,  0.70934778,\n",
        "        0.40385447,  0.83205699,  0.84268509,  0.42574724,  0.80847585,\n",
        "        0.39427286,  0.61700705,  0.48927621,  0.87209006,  0.69965683,\n",
        "        0.88515267,  0.38325658,  0.64293346,  0.80114218,  0.72002057,\n",
        "        0.87680645,  0.47134859,  0.3692398 ,  0.52090908,  0.69232072,\n",
        "        0.51924374,  0.47958243,  0.61746682,  0.57414075,  0.42620687,\n",
        "        0.41151535,  0.49748118,  0.62952254,  0.70813516,  0.88980277,\n",
        "        0.4875311 ,  0.44563119,  0.55839151,  0.50284613,  0.6123374 ,\n",
        "        0.90051634,  0.90500051,  0.45543436,  0.73157013,  0.43744008,\n",
        "        0.53290571,  0.45329161,  0.85493816,  0.90113298,  0.50417288,\n",
        "        0.46154052,  0.51073177,  0.88308788,  0.7456463 ,  0.49870642,\n",
        "        0.90114781,  0.44176047,  0.63817711,  0.7817426 ,  0.83758293,\n",
        "        0.90630708,  0.70328536,  0.89327193,  0.92676413,  0.86131594,\n",
        "        0.62263193,  0.57926808,  0.49635115,  0.64254387,  0.63010219]), matrix([[ 2961690.5974675]]), {'warnflag': 2, 'task': 'ABNORMAL_TERMINATION_IN_LNSRCH', 'grad': array([  2.80553654e-03,   8.31337776e+01,   1.17224276e+02,\n",
        "         4.24083517e+01,   6.39541395e+00,   4.32065235e+00,\n",
        "         2.44817125e+01,   8.23390801e+01,   1.60962968e+02,\n",
        "         1.38336233e+02,   1.28285983e+02,   8.16155143e+01,\n",
        "         3.57516880e+01,   4.91733262e+01,   1.10248261e+02,\n",
        "         4.66167254e+01,   6.13840749e+01,   5.49329808e+01,\n",
        "         4.84471313e+01,   1.16685862e+02,   1.23319273e+02,\n",
        "         1.78510139e+02,   1.25850244e+02,  -1.35929914e+01,\n",
        "         1.07275961e+01,  -1.50008039e+01,  -2.71381213e+01,\n",
        "        -5.78356036e+00,   8.81592307e+01,   4.14538968e+01,\n",
        "         9.55565375e+01,   1.94553145e+02,   1.58864893e+02,\n",
        "         1.40274369e+02,   5.02547778e-01,  -6.34511474e+01,\n",
        "        -1.26154157e+02,  -2.05570890e+02,  -1.69847400e+02,\n",
        "        -2.44950902e+02,  -2.64628204e+02,  -2.98871675e+02,\n",
        "        -3.13287915e+02,  -2.33525727e+02,  -2.24261519e+02,\n",
        "        -1.43721379e+02,  -1.07915847e+02,  -1.04820190e+02,\n",
        "        -5.31348586e+01,  -7.48884395e+01,  -4.93900301e+00,\n",
        "        -2.55128732e+01,   3.12522018e-01,  -2.77969968e+01,\n",
        "        -8.21497428e+01,  -1.44165871e+01,  -2.21935462e+01,\n",
        "         4.01920596e+01,   1.34876393e+01,  -6.74343234e+01,\n",
        "        -1.30560799e+02,  -1.44276424e+02,  -7.62158915e+01,\n",
        "         1.09604483e+01,   6.87568082e+01,   8.17051802e+01,\n",
        "         1.34785758e+01,  -5.76857297e+00,  -4.18258012e+01,\n",
        "        -5.66894929e+01,  -3.47109612e+00,  -2.82179461e+01,\n",
        "        -5.29773845e+00,   1.46280865e+01,   1.84018243e+01,\n",
        "         3.41505061e+01,   7.25130547e+01,   5.16468519e+01,\n",
        "         9.30545205e+01,   6.81305208e+01,   1.50360365e+01,\n",
        "        -1.87078733e+01,  -7.72157405e+01,  -5.35062443e+01,\n",
        "        -3.70052272e+00,   2.88419771e+01,   2.82943467e+01,\n",
        "         1.98152996e+00,  -3.85588531e+01,  -5.96559402e+01,\n",
        "        -9.30745248e+01,  -1.35244564e+02,  -1.61367970e+02,\n",
        "        -1.76916739e+02,  -8.02630134e+01,   1.23667719e+01,\n",
        "         6.89926058e+01,   8.76607520e+01,   4.69941769e+01,\n",
        "         2.43247999e+01,   3.31483462e+01,   6.27891667e+01,\n",
        "         9.78888256e+01,   2.65747910e+01,   1.85324363e+01,\n",
        "        -8.18432766e+01,  -1.14016709e+01,  -4.78102512e+01,\n",
        "         1.25460974e+02,  -2.30960542e+01,   1.40254753e+02,\n",
        "        -1.82624044e+02,   1.27657659e+02,  -2.41350615e+02,\n",
        "         8.49813439e+01,  -1.04513306e+02,   4.29439820e+01,\n",
        "        -1.21911502e+01,   2.06108722e+01,   7.51092214e+01,\n",
        "         1.81627274e+01,   1.40325247e+02,   9.29209208e+00,\n",
        "         1.13094749e+01,   1.93629320e+01,  -2.90238103e+00,\n",
        "         7.43540873e+01,   1.03827697e+02,   1.69646030e+02,\n",
        "         1.73626183e+02,   8.21487774e+01,   4.94573405e+01,\n",
        "        -1.98593156e+01,  -6.16106249e+01,  -2.33208062e+01,\n",
        "        -2.73961751e+01,   1.64496706e+01,  -2.71611078e+01,\n",
        "         5.75240906e+01,  -8.50416368e+00,   2.87900541e+01,\n",
        "        -4.72940037e+01,   6.81758582e+01,  -1.40049296e+02,\n",
        "         5.26153868e+01,  -8.75072644e+01,  -2.13547562e+01,\n",
        "        -6.63962246e+00,  -1.00786070e+01,   4.35521378e+01,\n",
        "         1.02497040e+02,   4.30988431e+01,   1.96895389e+02,\n",
        "        -9.17686691e+01,   2.59631140e+02,  -2.05433368e+01,\n",
        "         2.60484396e+02,   1.22530704e+02,   2.17365310e+02,\n",
        "        -4.33328491e+01,   1.42612016e+02,  -1.52961082e+02,\n",
        "         1.69060631e+02,   2.28399880e+01,   2.03517700e+02,\n",
        "         1.34443286e+02,  -7.55009161e+00,   1.78003790e+02,\n",
        "        -3.93223821e+02,   2.28171770e+02,  -3.19661685e+02,\n",
        "         2.24198359e+02,  -1.81579157e+02,   2.32273961e+02,\n",
        "        -2.33840039e+02,   1.71961372e+02,  -2.11641070e+02,\n",
        "        -3.75196062e+01,   2.27711860e+01,  -1.99755502e+02,\n",
        "         1.82364201e+02,  -4.19892638e+02,   2.28127614e+02,\n",
        "        -5.75435176e+02,   7.95313855e+01,  -4.51128384e+02,\n",
        "         1.70135132e+02,  -3.94204750e+02,   2.50688013e+02,\n",
        "        -6.20571020e+02,   2.29403232e+02,  -4.56353371e+02,\n",
        "         1.84280593e+02,  -8.42490063e+01,   1.46985970e+02,\n",
        "         2.98392301e+00,   1.16699203e+02,   6.49631891e+01,\n",
        "         9.26721315e+01,   2.88756010e+02,   7.89231276e+01,\n",
        "         1.65556420e+02,  -7.71205419e+01,  -5.98777533e+01,\n",
        "        -1.58939179e+02,  -6.70567806e+01,  -2.83299285e+01,\n",
        "        -1.24872782e+02,  -8.01048367e+01,  -4.25641855e+02,\n",
        "        -2.17616550e+02,  -4.05653343e+02,  -2.21807474e+01,\n",
        "        -1.36344535e+02,   1.85375422e+02,  -1.74213016e+02,\n",
        "         1.33999253e+02,  -1.67985853e+02,   1.39959021e+02,\n",
        "         1.49747127e+02,   1.86544721e+02,   2.04608102e+02,\n",
        "        -3.98516709e+01,  -1.25810914e+02,  -2.17115940e+02,\n",
        "        -1.79048937e+02,  -2.02567990e+02,  -5.38408076e+00,\n",
        "        -2.20194709e+02,   1.00551570e+01,  -2.02417927e+02,\n",
        "         2.41356924e+01,   2.47438442e+01,   1.20827090e+02,\n",
        "         1.85726242e+02,  -1.76063330e+01,   1.05033062e+02,\n",
        "        -2.02890970e+02,   3.91807449e+01,  -1.23561893e+02,\n",
        "         6.42490125e+01,   3.14806575e+01,   9.21181403e+01,\n",
        "         7.89061244e+01,   5.57808265e+01,  -6.36668804e+00,\n",
        "        -3.49164406e+01,   3.60048452e+01,  -7.77456996e+01,\n",
        "        -2.32426866e+00,  -1.05709261e+02,  -4.93712946e+01,\n",
        "        -1.67871622e+02,  -4.67893517e+01,  -5.20244087e+01,\n",
        "        -3.96424033e+01,   4.83279942e+01,  -7.52141835e+01,\n",
        "         2.20485227e+01,  -1.25115721e+02,  -1.32134469e+01,\n",
        "        -1.26369329e+02,  -2.93800810e+01,  -7.86598747e+01,\n",
        "         6.79057268e+01,   5.93566632e+01,   1.29532148e+02,\n",
        "         1.14409691e+02,   5.68281565e+01,   1.74654960e+01,\n",
        "        -6.42560137e-01,  -3.78480844e+01,  -5.20074484e+00,\n",
        "        -3.93419783e+01,  -5.72822175e+01,  -1.92175336e+01,\n",
        "        -3.75981302e+01,  -1.18911701e+01,  -5.17300783e+01,\n",
        "        -8.25931025e+01,  -6.38132781e+01,  -1.41150549e+01,\n",
        "         4.22955777e+01,   1.24125831e+02,   1.50187958e+02,\n",
        "         1.40617750e+02,   1.43539243e+02,   1.16348721e+02,\n",
        "         1.01739068e+02,   5.54859503e+01,  -3.04760212e+01,\n",
        "        -1.08578818e+02,  -1.37843635e+02,  -1.26894230e+02,\n",
        "        -1.09686635e+02,  -1.13844405e+02,  -1.38033229e+02,\n",
        "        -8.53624090e+01,  -1.42539093e+01,   1.16785300e+02,\n",
        "         1.12896293e+02,   1.12533146e+02,   6.84009261e+01,\n",
        "        -6.03725949e+01,  -1.26335156e+00,  -6.18767419e+01,\n",
        "        -8.08762604e+01,  -5.39078314e+01,  -1.31710781e+02,\n",
        "        -1.04957693e+02,  -8.40007602e+01,  -1.04733806e+02,\n",
        "        -5.84058106e+01,  -8.90402368e+01,  -7.24407135e+01,\n",
        "        -1.09582009e+02,  -7.06181262e+01,  -1.00092949e+02,\n",
        "        -9.99292132e+01,  -7.18756486e+01,  -1.50098464e+02,\n",
        "        -1.48912047e+02,  -1.74549469e+02,  -1.59843721e+02,\n",
        "        -1.23818936e+02,  -7.01716647e+01,  -6.82404308e+00,\n",
        "        -7.57880806e+01,  -1.18559624e+00,  -3.75441369e+01,\n",
        "         3.40315209e+00,  -1.64044879e+01,  -5.01795501e+01,\n",
        "        -6.85985085e+01,  -1.58509542e+02,  -3.09447680e+00,\n",
        "        -5.09588051e+00,   8.99958754e+01,   4.03932019e+01,\n",
        "        -1.13313116e+02,  -1.30444275e+02,  -2.52100362e+02,\n",
        "        -1.45786080e+02,  -1.24295660e+02,  -6.03247903e+01,\n",
        "        -1.13396995e+02,  -1.13962385e+02,  -1.06574742e+02,\n",
        "        -7.33998707e+01,  -6.89744161e+01,  -4.92305509e+01,\n",
        "        -1.54453887e+02,  -1.80986343e+02,  -1.68829224e+02,\n",
        "        -1.30957710e+02,  -4.96370476e+01,  -4.64836863e+01,\n",
        "        -7.93537742e+01,  -9.49987807e+01,  -1.72237153e+02,\n",
        "        -4.05162998e+01,  -8.86982467e+00,   5.13105343e+01,\n",
        "         7.74715763e+01,   2.18158955e-03,   5.74174189e-02,\n",
        "         7.18678994e-02,   3.99207032e-03,   5.31615233e-02,\n",
        "         5.07902476e-02,   5.23068566e-02,   4.01269118e-03,\n",
        "         2.05190648e+01,   6.21195053e-02,   5.03621967e-02,\n",
        "         4.76519245e-02,   7.36817895e-02,   4.72905277e-02,\n",
        "         1.69993768e-02,   6.78078610e-02,   3.12074565e-02,\n",
        "         3.01951470e-04,   2.48192428e-02,   2.98495453e-02,\n",
        "         7.59674256e-02,   5.47618183e-02,   1.29098036e+01,\n",
        "         1.75211824e-02,   5.39457413e-02,   6.64989328e-02,\n",
        "         5.54539606e-02,   4.28134980e-02,   2.61099613e-02,\n",
        "        -1.09468523e+01,   5.07498233e-02,   5.28421957e-02,\n",
        "         7.13569758e-02,   2.63868317e-02,   7.36875220e-02,\n",
        "         5.14189681e-02,  -1.17527045e+01,   2.81578134e-02,\n",
        "         3.50422236e-02,   2.88000708e-02,   4.70553262e-03,\n",
        "         6.30917211e-02,   6.70115604e-03,   7.71242185e-02,\n",
        "         3.69580617e-02,   6.06066603e-02,   1.85331197e-02,\n",
        "         3.41332585e-03,   1.49940664e-02,   3.01974857e-03,\n",
        "        -4.40524107e+01,   7.52715985e-02,   4.98651755e-02,\n",
        "         2.39981713e-02,   7.30562678e-02,   5.88056801e-02,\n",
        "         4.09825291e-02,  -6.30456141e+00,   4.45654204e-02,\n",
        "         4.78108749e-02,   3.34959636e-03,   6.75106046e-02,\n",
        "         1.76813648e-02,   6.93902117e-02,   1.69632099e-02,\n",
        "         2.81826941e-02,   1.28294739e-02,   1.91531668e-02,\n",
        "         5.84239996e-02,   2.79391054e-02,   2.26072917e-02,\n",
        "         6.91736461e+00,   2.93912705e-02,   6.62365134e-02,\n",
        "         3.37715651e-02,   5.79258990e-02,   4.40580982e-02,\n",
        "         2.90274370e-02,   3.79440501e-01,   4.27917337e-02,\n",
        "         2.05384192e-02,   9.29218448e-03,   4.75474194e-03,\n",
        "         6.41862514e-02,   7.66982961e-02,   1.20198577e+00,\n",
        "         4.66235945e-02,   3.11108369e-02,   8.69293968e-04,\n",
        "         7.02303117e-02,   2.59084180e-02,   4.58388380e-02,\n",
        "         5.35372586e-02,   7.00161518e-02,   5.54305679e-02,\n",
        "         5.93995383e-02,   6.13751343e-03,   6.17145874e-03,\n",
        "         5.50203082e-02,  -2.27277875e+00,   3.71723302e-02,\n",
        "         5.84390563e-02,   5.53207890e-03,   4.66505158e-02,\n",
        "         1.88623486e-02,   6.65024817e-02,   3.04438065e-02,\n",
        "         1.43004597e-02,   7.11449563e-02,   6.97404334e-02,\n",
        "         3.79413053e-02,   7.07234759e-02,   7.00814469e-02,\n",
        "        -1.27504121e+02,   6.91402276e-02,   4.70218848e-02,\n",
        "         4.74236099e-02,   9.31069698e-03,   2.05485113e-02,\n",
        "         7.32350119e-02,  -7.36753924e+01,   4.02296020e-02,\n",
        "         1.37961175e-03,   2.11996326e-02,   2.73284080e-02,\n",
        "         1.08256484e-02,   6.44700230e-02,  -2.22243532e+02,\n",
        "         5.01540438e-02,   3.52272639e-02,   4.49194610e-02,\n",
        "         4.41374604e-02,   5.40107225e-03,   8.01255125e-03,\n",
        "        -1.15590673e+00,   1.49155881e-02,   3.55704799e-02,\n",
        "         1.37205853e-02,   6.65826021e-02,   5.83399788e-02,\n",
        "         4.07817620e-02,   1.80603114e+01,   1.14402732e-02,\n",
        "         4.24518927e-02,   5.51670127e-02,   1.43786024e-03,\n",
        "         2.60885943e-02,   7.45362577e-03,  -5.54990782e+01,\n",
        "         6.28162819e-03,   4.43331666e-02,   7.68935629e-02,\n",
        "         7.28621805e-03,   5.20549274e-03,   2.60096991e-03,\n",
        "        -3.04722882e+01,   1.98848647e-02,   7.28003361e-02,\n",
        "         3.94829529e-02,   3.68700685e-02,   1.87011048e-02,\n",
        "         5.38920477e-02,   6.04741951e-02,   3.88276930e-02,\n",
        "         5.53718313e-02,   7.32613032e-02,   4.32241052e-02,\n",
        "         1.22578333e-02,   6.60598248e-02,   9.28999992e+01,\n",
        "         2.60208104e-03,   6.95830981e-02,   1.89038073e-02,\n",
        "         1.26782472e-02,   4.99805625e-02,   7.75654922e-02,\n",
        "         2.96553503e+01,   1.03408824e-02,   3.77196683e-02,\n",
        "         6.85874561e-02,   2.04270247e-03,   3.02161617e-02,\n",
        "         4.01727487e-02,  -1.32417726e+02,   4.11195349e-02,\n",
        "         2.52655592e-02,   3.21563278e-02,   6.89369043e-03,\n",
        "         7.54495967e-02,   5.91755513e-02,   8.95972666e+01,\n",
        "         5.36777085e-02,   5.48122072e-02,   3.12530841e-02,\n",
        "         7.03908769e-02,   4.24918354e-02,   7.26320310e-02,\n",
        "         5.23712317e-02,   6.07241119e-02,   2.43274182e-03,\n",
        "         9.69647057e-07,   4.18088849e-02,   4.53311248e-02,\n",
        "         4.75189186e-03,  -1.16624250e+02,   5.17402692e-02,\n",
        "         5.36164051e-02,   3.30685643e-02,   1.50387843e-02,\n",
        "         2.57773313e-02,   6.31230093e-02,   5.46440460e-02,\n",
        "         4.47191729e-02,   3.16925461e-02,   1.06219198e-02,\n",
        "         3.57598817e-02,   4.67175586e-02,   3.33562088e-02,\n",
        "         1.26948992e+01,   5.51035188e-02,   5.25548862e-02,\n",
        "         1.94592961e-02,   1.72120375e-02,   7.51650553e-03,\n",
        "         6.72776489e-03,  -6.46861565e+01,   4.84173279e-02,\n",
        "         2.71697918e-03,   4.90605977e-02,   4.16960976e-02,\n",
        "         3.03220786e-02,   3.59123298e-02,   1.18474814e-02,\n",
        "         7.93054484e-03,   6.32684686e-02,   7.02161704e-02,\n",
        "         4.36291273e-02,   5.62618967e-02,   4.85512495e-02,\n",
        "        -5.33658722e+01,   4.34161600e-02,   5.64321735e-02,\n",
        "         1.04011462e-03,   3.34213902e-02,   3.89093526e-02,\n",
        "         1.64642351e-02,   3.20349715e+02,   1.06917572e-02,\n",
        "         3.43307459e-02,   2.86041955e-02,   3.83832702e-03,\n",
        "         1.85766920e-02,   4.25166827e-02,   5.71826961e-02,\n",
        "         6.53871408e-02,   2.59143514e-02,   6.24991071e-04,\n",
        "         5.32655825e-02,   2.02971940e-02,   4.66516742e-02,\n",
        "         2.92243687e+01,   2.39408216e-02,   5.52012972e-02,\n",
        "         1.50581140e-02,   8.04118800e-03,   2.49948881e-02,\n",
        "         9.35914637e-03,   3.84945790e+00,   7.16723930e-02,\n",
        "         1.33133810e-02,   2.71666888e-02,   3.93087775e-02,\n",
        "         7.18313518e-02,   5.17231140e-02,   3.03088344e-02,\n",
        "         6.04351728e-03,   5.86350621e-02,   5.47125020e-02,\n",
        "         6.40538693e-02,   2.32687891e-02,   5.10577120e-02,\n",
        "         1.12141803e+00,   7.60724128e-02,   1.30335969e-02,\n",
        "         3.94832006e-02,   1.15389451e-02,   9.55606004e-04,\n",
        "         5.90470463e-02,   4.89963654e+01,   3.92658307e-02,\n",
        "         7.14345517e-02,   2.18589396e-02,   6.94526382e-02,\n",
        "         5.41047858e-02,   6.67866496e-02,  -1.49431851e+01,\n",
        "         8.99435951e-03,   3.97773423e-02,   4.92181099e-02,\n",
        "         7.08977230e-02,   5.25272518e-02,   7.46394567e-03,\n",
        "        -1.68030154e+01,   6.63070442e-02,   1.16872446e-02,\n",
        "         6.29916425e-02,   5.54303442e-03,   4.13700143e-02,\n",
        "         2.28137523e-02,   5.17593372e+00,   5.14267754e-02,\n",
        "         7.02403884e-02,   3.27595187e-03,   4.46628762e-02,\n",
        "         6.22626525e-02,   5.37219600e-02,  -5.66591266e+01,\n",
        "         1.98274118e-02,   2.95281530e-04,   2.78256196e-02,\n",
        "         5.05835225e-02,   2.75694502e-02,   2.12128403e-02,\n",
        "         4.14296044e-02,   3.56095443e-02,   1.17735647e-02,\n",
        "         8.96728274e-03,   2.41441960e-02,   4.29765107e-02,\n",
        "         5.23903760e-02,   3.27086242e+00,   2.25279048e-02,\n",
        "         1.53389121e-02,   3.33844056e-02,   2.50023152e-02,\n",
        "         4.07622524e-02,   7.16170424e-02,   1.70422582e+01,\n",
        "         1.70797066e-02,   5.49950251e-02,   1.38547574e-02,\n",
        "         2.96471382e-02,   1.67024293e-02,   6.74619092e-02,\n",
        "         1.92736107e+01,   2.52131153e-02,   1.81451662e-02,\n",
        "         2.62471416e-02,   7.00535553e-02,   5.65196859e-02,\n",
        "         2.43409844e-02,  -2.40737759e+01,   1.46410025e-02,\n",
        "         4.40688456e-02,   6.03016201e-02,   6.58211997e-02,\n",
        "         7.21298327e-02,   5.18405959e-02,   1.67403103e+01,\n",
        "         7.39155045e-02,   6.80564880e-02,   4.20960216e-02,\n",
        "         3.63208076e-02,   2.39622691e-02,   4.46143853e-02,\n",
        "         4.30501384e-02]), 'nit': 57, 'funcalls': 234})\n"
       ]
      }
     ],
     "prompt_number": 64
    },
    {
     "cell_type": "code",
     "collapsed": false,
     "input": [
      "plt.plot(retval['lai'])"
     ],
     "language": "python",
     "metadata": {},
     "outputs": [
      {
       "metadata": {},
       "output_type": "pyout",
       "prompt_number": 68,
       "text": [
        "[<matplotlib.lines.Line2D at 0x1357ec10>]"
       ]
      },
      {
       "metadata": {},
       "output_type": "display_data",
       "png": "[encoded data removed]",
       "text": [
        "<matplotlib.figure.Figure at 0x2b1e5e747b10>"
       ]
      }
     ],
     "prompt_number": 68
    },
    {
     "cell_type": "code",
     "collapsed": false,
     "input": [],
     "language": "python",
     "metadata": {},
     "outputs": [],
     "prompt_number": 65
    }
   ],
   "metadata": {}
  }
 ]
}