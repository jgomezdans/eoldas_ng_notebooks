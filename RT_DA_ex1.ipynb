{
 "metadata": {
  "name": "RT_DA_ex1"
 },
 "nbformat": 3,
 "nbformat_minor": 0,
 "worksheets": [
  {
   "cells": [
    {
     "cell_type": "code",
     "collapsed": false,
     "input": [
      "from lut_tools import *\n",
      "from multivariate_gp import MultivariateEmulator"
     ],
     "language": "python",
     "metadata": {},
     "outputs": [],
     "prompt_number": 17
    },
    {
     "cell_type": "code",
     "collapsed": false,
     "input": [
      "create_surface_functions (\"parameter_trajectories.dat\" )\n",
      "sentinel = Sentinel ( \"parameter_trajectories.dat\" )\n",
      "annual_cloud_mask = sentinel.set_cloudiness ( prop=0.5, window=15 )\n",
      "sentinel.set_revisit ( 5, shift=0, cloudy=True)\n",
      "sentinel.dump_empty_obs ( \"template_file.txt\")\n"
     ],
     "language": "python",
     "metadata": {},
     "outputs": [],
     "prompt_number": 18
    },
    {
     "cell_type": "code",
     "collapsed": false,
     "input": [
      "d = np.loadtxt(\"template_file.txt\")\n",
      "\n"
     ],
     "language": "python",
     "metadata": {},
     "outputs": [],
     "prompt_number": 19
    },
    {
     "cell_type": "code",
     "collapsed": false,
     "input": [
      "print \"Already done, feel free to re-run to get different experiments etc.\"\n",
      "if True:\n",
      "    lambda_max = 2501\n",
      "    lambda_min = 400\n",
      "    b0, b1 = 0.008, 0.02 \n",
      "    bu = np.zeros ( ( 2101 ) )\n",
      "    bu = b0 + ((b1-b0)/(lambda_max-lambda_min)) * \\\n",
      "                (np.arange(400, 2501) - lambda_min)\n",
      "    sentinel_bands_min = np.array([433, 457.5, 542.5, 650, 697.5, 732.5, 773, 784.5, 855, 935, 1565, 2100])\n",
      "    sentinel_bands_max = np.array([453, 522.5, 577.5, 680, 712.5, 747.5, 793, 899.5, 875, 955, 1655,2280] )\n",
      "    wv = np.arange(400, 2501)\n",
      "    bandpass = np.zeros((sentinel_bands_min.shape[0], 2101), dtype=np.bool)\n",
      "    for i in xrange ( sentinel_bands_min.shape[0] ):\n",
      "        bandpass[i, :] = np.logical_and ( wv >= sentinel_bands_min[i], wv <= sentinel_bands_max[i] )\n",
      "    complete_params = [ 1.5, -999, 0, 0, 0.03, 1./66., -999, 45., 0, 1., -999., 0.01, -999, -999, -999, 2]\n",
      "    params = np.loadtxt(\"parameter_trajectories.dat\")\n",
      "    fp = open (\"brf_obs.txt\", 'w' )\n",
      "    for l in xrange( d.shape[0] ):\n",
      "        this_doy = d[l,0]\n",
      "        vza, sza, vaa, saa = d[l, [2, 4, 3,5]]\n",
      "        raa = vaa-saa\n",
      "        geom, par_dict, brf = lut(200,bands=None,vza=vza,sza=sza,raa=raa)\n",
      "        train_paramsoot, keys = unpack ( par_dict )\n",
      "        emulator = MultivariateEmulator( X=brf, y=train_paramsoot )\n",
      "        emulator.dump_emulator( \"emulator_%08.4Gx%08.4Gx%08.4G.npz\" % ( vza, sza, raa ) )\n",
      "        sel_row = params[:,0] == this_doy\n",
      "        xlai, xkab,psoil = params[sel_row, [3,4, 11]]\n",
      "        lai = -2*np.log(xlai)\n",
      "        kab = -100.*np.log(xkab)\n",
      "        true_params = 1*complete_params\n",
      "        true_params[1] = kab\n",
      "        true_params[6] = lai\n",
      "        true_params[10] = psoil\n",
      "        true_params[12] = vza\n",
      "        true_params[13] = sza\n",
      "        true_params[14] = raa\n",
      "        rho = run_prosail ( *true_params)\n",
      "        rho_n = np.random.randn( 2101 )*bu\n",
      "        obs_rho = rho.dot(bandpass.T)/(bandpass.sum(axis=1))\n",
      "        #print this_doy, vza, sza, raa, str(obs_rho).replace(\"[\",\"\").replace(\"]\",\"\")\n",
      "        fp.write (\"%d %f %f %f %s\\n\" % ( this_doy, vza, sza, raa, \\\n",
      "            str(obs_rho).replace(\"[\",\"\").replace(\"]\",\"\") ))\n",
      "    fp.close()\n",
      "    "
     ],
     "language": "python",
     "metadata": {},
     "outputs": [
      {
       "output_type": "stream",
       "stream": "stdout",
       "text": [
        "Already done, feel free to re-run to get different experiments etc.\n",
        "Decomposing the input dataset into basis functions..."
       ]
      },
      {
       "output_type": "stream",
       "stream": "stdout",
       "text": [
        " Done!\n",
        " ====> Using 8 basis functions\n",
        "\tFitting GP for basis function 0\n",
        "\tFitting GP for basis function 1"
       ]
      },
      {
       "output_type": "stream",
       "stream": "stdout",
       "text": [
        "\n",
        "\tFitting GP for basis function 2"
       ]
      },
      {
       "output_type": "stream",
       "stream": "stdout",
       "text": [
        "\n",
        "\tFitting GP for basis function 3"
       ]
      },
      {
       "output_type": "stream",
       "stream": "stdout",
       "text": [
        "\n",
        "\tFitting GP for basis function 4"
       ]
      },
      {
       "output_type": "stream",
       "stream": "stdout",
       "text": [
        "\n",
        "\tFitting GP for basis function 5"
       ]
      },
      {
       "output_type": "stream",
       "stream": "stdout",
       "text": [
        "\n",
        "\tFitting GP for basis function 6"
       ]
      },
      {
       "output_type": "stream",
       "stream": "stdout",
       "text": [
        "\n",
        "\tFitting GP for basis function 7"
       ]
      },
      {
       "output_type": "stream",
       "stream": "stdout",
       "text": [
        "\n",
        "Decomposing the input dataset into basis functions..."
       ]
      },
      {
       "output_type": "stream",
       "stream": "stdout",
       "text": [
        " Done!\n",
        " ====> Using 8 basis functions\n",
        "\tFitting GP for basis function 0\n",
        "\tFitting GP for basis function 1"
       ]
      },
      {
       "output_type": "stream",
       "stream": "stdout",
       "text": [
        "\n",
        "\tFitting GP for basis function 2"
       ]
      },
      {
       "output_type": "stream",
       "stream": "stdout",
       "text": [
        "\n",
        "\tFitting GP for basis function 3"
       ]
      },
      {
       "output_type": "stream",
       "stream": "stdout",
       "text": [
        "\n",
        "\tFitting GP for basis function 4"
       ]
      },
      {
       "output_type": "stream",
       "stream": "stdout",
       "text": [
        "\n",
        "\tFitting GP for basis function 5"
       ]
      },
      {
       "output_type": "stream",
       "stream": "stdout",
       "text": [
        "\n",
        "\tFitting GP for basis function 6"
       ]
      },
      {
       "output_type": "stream",
       "stream": "stdout",
       "text": [
        "\n",
        "\tFitting GP for basis function 7"
       ]
      },
      {
       "output_type": "stream",
       "stream": "stdout",
       "text": [
        "\n",
        "Decomposing the input dataset into basis functions..."
       ]
      },
      {
       "output_type": "stream",
       "stream": "stdout",
       "text": [
        " Done!\n",
        " ====> Using 8 basis functions\n",
        "\tFitting GP for basis function 0\n",
        "\tFitting GP for basis function 1"
       ]
      },
      {
       "output_type": "stream",
       "stream": "stdout",
       "text": [
        "\n",
        "\tFitting GP for basis function 2"
       ]
      },
      {
       "output_type": "stream",
       "stream": "stdout",
       "text": [
        "\n",
        "\tFitting GP for basis function 3"
       ]
      },
      {
       "output_type": "stream",
       "stream": "stdout",
       "text": [
        "\n",
        "\tFitting GP for basis function 4"
       ]
      },
      {
       "output_type": "stream",
       "stream": "stdout",
       "text": [
        "\n",
        "\tFitting GP for basis function 5"
       ]
      },
      {
       "output_type": "stream",
       "stream": "stdout",
       "text": [
        "\n",
        "\tFitting GP for basis function 6"
       ]
      },
      {
       "output_type": "stream",
       "stream": "stdout",
       "text": [
        "\n",
        "\tFitting GP for basis function 7"
       ]
      },
      {
       "output_type": "stream",
       "stream": "stdout",
       "text": [
        "\n",
        "Decomposing the input dataset into basis functions..."
       ]
      },
      {
       "output_type": "stream",
       "stream": "stdout",
       "text": [
        " Done!\n",
        " ====> Using 8 basis functions\n",
        "\tFitting GP for basis function 0\n",
        "\tFitting GP for basis function 1"
       ]
      },
      {
       "output_type": "stream",
       "stream": "stdout",
       "text": [
        "\n",
        "\tFitting GP for basis function 2"
       ]
      },
      {
       "output_type": "stream",
       "stream": "stdout",
       "text": [
        "\n",
        "\tFitting GP for basis function 3"
       ]
      },
      {
       "output_type": "stream",
       "stream": "stdout",
       "text": [
        "\n",
        "\tFitting GP for basis function 4"
       ]
      },
      {
       "output_type": "stream",
       "stream": "stdout",
       "text": [
        "\n",
        "\tFitting GP for basis function 5"
       ]
      },
      {
       "output_type": "stream",
       "stream": "stdout",
       "text": [
        "\n",
        "\tFitting GP for basis function 6"
       ]
      },
      {
       "output_type": "stream",
       "stream": "stdout",
       "text": [
        "\n",
        "\tFitting GP for basis function 7"
       ]
      },
      {
       "output_type": "stream",
       "stream": "stdout",
       "text": [
        "\n",
        "Decomposing the input dataset into basis functions..."
       ]
      },
      {
       "output_type": "stream",
       "stream": "stdout",
       "text": [
        " Done!\n",
        " ====> Using 8 basis functions\n",
        "\tFitting GP for basis function 0\n",
        "\tFitting GP for basis function 1"
       ]
      },
      {
       "output_type": "stream",
       "stream": "stdout",
       "text": [
        "\n",
        "\tFitting GP for basis function 2"
       ]
      },
      {
       "output_type": "stream",
       "stream": "stdout",
       "text": [
        "\n",
        "\tFitting GP for basis function 3"
       ]
      },
      {
       "output_type": "stream",
       "stream": "stdout",
       "text": [
        "\n",
        "\tFitting GP for basis function 4"
       ]
      },
      {
       "output_type": "stream",
       "stream": "stdout",
       "text": [
        "\n",
        "\tFitting GP for basis function 5"
       ]
      },
      {
       "output_type": "stream",
       "stream": "stdout",
       "text": [
        "\n",
        "\tFitting GP for basis function 6"
       ]
      },
      {
       "output_type": "stream",
       "stream": "stdout",
       "text": [
        "\n",
        "\tFitting GP for basis function 7"
       ]
      },
      {
       "output_type": "stream",
       "stream": "stdout",
       "text": [
        "\n",
        "Decomposing the input dataset into basis functions..."
       ]
      },
      {
       "output_type": "stream",
       "stream": "stdout",
       "text": [
        " Done!\n",
        " ====> Using 8 basis functions\n",
        "\tFitting GP for basis function 0\n",
        "\tFitting GP for basis function 1"
       ]
      },
      {
       "output_type": "stream",
       "stream": "stdout",
       "text": [
        "\n",
        "\tFitting GP for basis function 2"
       ]
      },
      {
       "output_type": "stream",
       "stream": "stdout",
       "text": [
        "\n",
        "\tFitting GP for basis function 3"
       ]
      },
      {
       "output_type": "stream",
       "stream": "stdout",
       "text": [
        "\n",
        "\tFitting GP for basis function 4"
       ]
      },
      {
       "output_type": "stream",
       "stream": "stdout",
       "text": [
        "\n",
        "\tFitting GP for basis function 5"
       ]
      },
      {
       "output_type": "stream",
       "stream": "stdout",
       "text": [
        "\n",
        "\tFitting GP for basis function 6"
       ]
      },
      {
       "output_type": "stream",
       "stream": "stdout",
       "text": [
        "\n",
        "\tFitting GP for basis function 7"
       ]
      },
      {
       "output_type": "stream",
       "stream": "stdout",
       "text": [
        "\n",
        "Decomposing the input dataset into basis functions..."
       ]
      },
      {
       "output_type": "stream",
       "stream": "stdout",
       "text": [
        " Done!\n",
        " ====> Using 8 basis functions\n",
        "\tFitting GP for basis function 0\n",
        "\tFitting GP for basis function 1"
       ]
      },
      {
       "output_type": "stream",
       "stream": "stdout",
       "text": [
        "\n",
        "\tFitting GP for basis function 2"
       ]
      },
      {
       "output_type": "stream",
       "stream": "stdout",
       "text": [
        "\n",
        "\tFitting GP for basis function 3"
       ]
      },
      {
       "output_type": "stream",
       "stream": "stdout",
       "text": [
        "\n",
        "\tFitting GP for basis function 4"
       ]
      },
      {
       "output_type": "stream",
       "stream": "stdout",
       "text": [
        "\n",
        "\tFitting GP for basis function 5"
       ]
      },
      {
       "output_type": "stream",
       "stream": "stdout",
       "text": [
        "\n",
        "\tFitting GP for basis function 6"
       ]
      },
      {
       "output_type": "stream",
       "stream": "stdout",
       "text": [
        "\n",
        "\tFitting GP for basis function 7"
       ]
      },
      {
       "output_type": "stream",
       "stream": "stdout",
       "text": [
        "\n",
        "Decomposing the input dataset into basis functions..."
       ]
      },
      {
       "output_type": "stream",
       "stream": "stdout",
       "text": [
        " Done!\n",
        " ====> Using 8 basis functions\n",
        "\tFitting GP for basis function 0\n",
        "\tFitting GP for basis function 1"
       ]
      },
      {
       "output_type": "stream",
       "stream": "stdout",
       "text": [
        "\n",
        "\tFitting GP for basis function 2"
       ]
      },
      {
       "output_type": "stream",
       "stream": "stdout",
       "text": [
        "\n",
        "\tFitting GP for basis function 3"
       ]
      },
      {
       "output_type": "stream",
       "stream": "stdout",
       "text": [
        "\n",
        "\tFitting GP for basis function 4"
       ]
      },
      {
       "output_type": "stream",
       "stream": "stdout",
       "text": [
        "\n",
        "\tFitting GP for basis function 5"
       ]
      },
      {
       "output_type": "stream",
       "stream": "stdout",
       "text": [
        "\n",
        "\tFitting GP for basis function 6"
       ]
      },
      {
       "output_type": "stream",
       "stream": "stdout",
       "text": [
        "\n",
        "\tFitting GP for basis function 7"
       ]
      },
      {
       "output_type": "stream",
       "stream": "stdout",
       "text": [
        "\n",
        "Decomposing the input dataset into basis functions..."
       ]
      },
      {
       "output_type": "stream",
       "stream": "stdout",
       "text": [
        " Done!\n",
        " ====> Using 8 basis functions\n",
        "\tFitting GP for basis function 0\n",
        "\tFitting GP for basis function 1"
       ]
      },
      {
       "output_type": "stream",
       "stream": "stdout",
       "text": [
        "\n",
        "\tFitting GP for basis function 2"
       ]
      },
      {
       "output_type": "stream",
       "stream": "stdout",
       "text": [
        "\n",
        "\tFitting GP for basis function 3"
       ]
      },
      {
       "output_type": "stream",
       "stream": "stdout",
       "text": [
        "\n",
        "\tFitting GP for basis function 4"
       ]
      },
      {
       "output_type": "stream",
       "stream": "stdout",
       "text": [
        "\n",
        "\tFitting GP for basis function 5"
       ]
      },
      {
       "output_type": "stream",
       "stream": "stdout",
       "text": [
        "\n",
        "\tFitting GP for basis function 6"
       ]
      },
      {
       "output_type": "stream",
       "stream": "stdout",
       "text": [
        "\n",
        "\tFitting GP for basis function 7"
       ]
      },
      {
       "output_type": "stream",
       "stream": "stdout",
       "text": [
        "\n",
        "Decomposing the input dataset into basis functions..."
       ]
      },
      {
       "output_type": "stream",
       "stream": "stdout",
       "text": [
        " Done!\n",
        " ====> Using 8 basis functions\n",
        "\tFitting GP for basis function 0\n",
        "\tFitting GP for basis function 1"
       ]
      },
      {
       "output_type": "stream",
       "stream": "stdout",
       "text": [
        "\n",
        "\tFitting GP for basis function 2"
       ]
      },
      {
       "output_type": "stream",
       "stream": "stdout",
       "text": [
        "\n",
        "\tFitting GP for basis function 3"
       ]
      },
      {
       "output_type": "stream",
       "stream": "stdout",
       "text": [
        "\n",
        "\tFitting GP for basis function 4"
       ]
      },
      {
       "output_type": "stream",
       "stream": "stdout",
       "text": [
        "\n",
        "\tFitting GP for basis function 5"
       ]
      },
      {
       "output_type": "stream",
       "stream": "stdout",
       "text": [
        "\n",
        "\tFitting GP for basis function 6"
       ]
      },
      {
       "output_type": "stream",
       "stream": "stdout",
       "text": [
        "\n",
        "\tFitting GP for basis function 7"
       ]
      },
      {
       "output_type": "stream",
       "stream": "stdout",
       "text": [
        "\n",
        "Decomposing the input dataset into basis functions..."
       ]
      },
      {
       "output_type": "stream",
       "stream": "stdout",
       "text": [
        " Done!\n",
        " ====> Using 9 basis functions\n",
        "\tFitting GP for basis function 0\n",
        "\tFitting GP for basis function 1"
       ]
      },
      {
       "output_type": "stream",
       "stream": "stdout",
       "text": [
        "\n",
        "\tFitting GP for basis function 2"
       ]
      },
      {
       "output_type": "stream",
       "stream": "stdout",
       "text": [
        "\n",
        "\tFitting GP for basis function 3"
       ]
      },
      {
       "output_type": "stream",
       "stream": "stdout",
       "text": [
        "\n",
        "\tFitting GP for basis function 4"
       ]
      },
      {
       "output_type": "stream",
       "stream": "stdout",
       "text": [
        "\n",
        "\tFitting GP for basis function 5"
       ]
      },
      {
       "output_type": "stream",
       "stream": "stdout",
       "text": [
        "\n",
        "\tFitting GP for basis function 6"
       ]
      },
      {
       "output_type": "stream",
       "stream": "stdout",
       "text": [
        "\n",
        "\tFitting GP for basis function 7"
       ]
      },
      {
       "output_type": "stream",
       "stream": "stdout",
       "text": [
        "\n",
        "\tFitting GP for basis function 8"
       ]
      },
      {
       "output_type": "stream",
       "stream": "stdout",
       "text": [
        "\n",
        "Decomposing the input dataset into basis functions..."
       ]
      },
      {
       "output_type": "stream",
       "stream": "stdout",
       "text": [
        " Done!\n",
        " ====> Using 8 basis functions\n",
        "\tFitting GP for basis function 0\n",
        "\tFitting GP for basis function 1"
       ]
      },
      {
       "output_type": "stream",
       "stream": "stdout",
       "text": [
        "\n",
        "\tFitting GP for basis function 2"
       ]
      },
      {
       "output_type": "stream",
       "stream": "stdout",
       "text": [
        "\n",
        "\tFitting GP for basis function 3"
       ]
      },
      {
       "output_type": "stream",
       "stream": "stdout",
       "text": [
        "\n",
        "\tFitting GP for basis function 4"
       ]
      },
      {
       "output_type": "stream",
       "stream": "stdout",
       "text": [
        "\n",
        "\tFitting GP for basis function 5"
       ]
      },
      {
       "output_type": "stream",
       "stream": "stdout",
       "text": [
        "\n",
        "\tFitting GP for basis function 6"
       ]
      },
      {
       "output_type": "stream",
       "stream": "stdout",
       "text": [
        "\n",
        "\tFitting GP for basis function 7"
       ]
      },
      {
       "output_type": "stream",
       "stream": "stdout",
       "text": [
        "\n",
        "Decomposing the input dataset into basis functions..."
       ]
      },
      {
       "output_type": "stream",
       "stream": "stdout",
       "text": [
        " Done!\n",
        " ====> Using 8 basis functions\n",
        "\tFitting GP for basis function 0\n",
        "\tFitting GP for basis function 1"
       ]
      },
      {
       "output_type": "stream",
       "stream": "stdout",
       "text": [
        "\n",
        "\tFitting GP for basis function 2"
       ]
      },
      {
       "output_type": "stream",
       "stream": "stdout",
       "text": [
        "\n",
        "\tFitting GP for basis function 3"
       ]
      },
      {
       "output_type": "stream",
       "stream": "stdout",
       "text": [
        "\n",
        "\tFitting GP for basis function 4"
       ]
      },
      {
       "output_type": "stream",
       "stream": "stdout",
       "text": [
        "\n",
        "\tFitting GP for basis function 5"
       ]
      },
      {
       "output_type": "stream",
       "stream": "stdout",
       "text": [
        "\n",
        "\tFitting GP for basis function 6"
       ]
      },
      {
       "output_type": "stream",
       "stream": "stdout",
       "text": [
        "\n",
        "\tFitting GP for basis function 7"
       ]
      },
      {
       "output_type": "stream",
       "stream": "stdout",
       "text": [
        "\n",
        "Decomposing the input dataset into basis functions..."
       ]
      },
      {
       "output_type": "stream",
       "stream": "stdout",
       "text": [
        " Done!\n",
        " ====> Using 8 basis functions\n",
        "\tFitting GP for basis function 0\n",
        "\tFitting GP for basis function 1"
       ]
      },
      {
       "output_type": "stream",
       "stream": "stdout",
       "text": [
        "\n",
        "\tFitting GP for basis function 2"
       ]
      },
      {
       "output_type": "stream",
       "stream": "stdout",
       "text": [
        "\n",
        "\tFitting GP for basis function 3"
       ]
      },
      {
       "output_type": "stream",
       "stream": "stdout",
       "text": [
        "\n",
        "\tFitting GP for basis function 4"
       ]
      },
      {
       "output_type": "stream",
       "stream": "stdout",
       "text": [
        "\n",
        "\tFitting GP for basis function 5"
       ]
      },
      {
       "output_type": "stream",
       "stream": "stdout",
       "text": [
        "\n",
        "\tFitting GP for basis function 6"
       ]
      },
      {
       "output_type": "stream",
       "stream": "stdout",
       "text": [
        "\n",
        "\tFitting GP for basis function 7"
       ]
      },
      {
       "output_type": "stream",
       "stream": "stdout",
       "text": [
        "\n",
        "Decomposing the input dataset into basis functions..."
       ]
      },
      {
       "output_type": "stream",
       "stream": "stdout",
       "text": [
        " Done!\n",
        " ====> Using 8 basis functions\n",
        "\tFitting GP for basis function 0\n",
        "\tFitting GP for basis function 1"
       ]
      },
      {
       "output_type": "stream",
       "stream": "stdout",
       "text": [
        "\n",
        "\tFitting GP for basis function 2"
       ]
      },
      {
       "output_type": "stream",
       "stream": "stdout",
       "text": [
        "\n",
        "\tFitting GP for basis function 3"
       ]
      },
      {
       "output_type": "stream",
       "stream": "stdout",
       "text": [
        "\n",
        "\tFitting GP for basis function 4"
       ]
      },
      {
       "output_type": "stream",
       "stream": "stdout",
       "text": [
        "\n",
        "\tFitting GP for basis function 5"
       ]
      },
      {
       "output_type": "stream",
       "stream": "stdout",
       "text": [
        "\n",
        "\tFitting GP for basis function 6"
       ]
      },
      {
       "output_type": "stream",
       "stream": "stdout",
       "text": [
        "\n",
        "\tFitting GP for basis function 7"
       ]
      },
      {
       "output_type": "stream",
       "stream": "stdout",
       "text": [
        "\n",
        "Decomposing the input dataset into basis functions..."
       ]
      },
      {
       "output_type": "stream",
       "stream": "stdout",
       "text": [
        " Done!\n",
        " ====> Using 8 basis functions\n",
        "\tFitting GP for basis function 0\n",
        "\tFitting GP for basis function 1"
       ]
      },
      {
       "output_type": "stream",
       "stream": "stdout",
       "text": [
        "\n",
        "\tFitting GP for basis function 2"
       ]
      },
      {
       "output_type": "stream",
       "stream": "stdout",
       "text": [
        "\n",
        "\tFitting GP for basis function 3"
       ]
      },
      {
       "output_type": "stream",
       "stream": "stdout",
       "text": [
        "\n",
        "\tFitting GP for basis function 4"
       ]
      },
      {
       "output_type": "stream",
       "stream": "stdout",
       "text": [
        "\n",
        "\tFitting GP for basis function 5"
       ]
      },
      {
       "output_type": "stream",
       "stream": "stdout",
       "text": [
        "\n",
        "\tFitting GP for basis function 6"
       ]
      },
      {
       "output_type": "stream",
       "stream": "stdout",
       "text": [
        "\n",
        "\tFitting GP for basis function 7"
       ]
      },
      {
       "output_type": "stream",
       "stream": "stdout",
       "text": [
        "\n",
        "Decomposing the input dataset into basis functions..."
       ]
      },
      {
       "output_type": "stream",
       "stream": "stdout",
       "text": [
        " Done!\n",
        " ====> Using 8 basis functions\n",
        "\tFitting GP for basis function 0\n",
        "\tFitting GP for basis function 1"
       ]
      },
      {
       "output_type": "stream",
       "stream": "stdout",
       "text": [
        "\n",
        "\tFitting GP for basis function 2"
       ]
      },
      {
       "output_type": "stream",
       "stream": "stdout",
       "text": [
        "\n",
        "\tFitting GP for basis function 3"
       ]
      },
      {
       "output_type": "stream",
       "stream": "stdout",
       "text": [
        "\n",
        "\tFitting GP for basis function 4"
       ]
      },
      {
       "output_type": "stream",
       "stream": "stdout",
       "text": [
        "\n",
        "\tFitting GP for basis function 5"
       ]
      },
      {
       "output_type": "stream",
       "stream": "stdout",
       "text": [
        "\n",
        "\tFitting GP for basis function 6"
       ]
      },
      {
       "output_type": "stream",
       "stream": "stdout",
       "text": [
        "\n",
        "\tFitting GP for basis function 7"
       ]
      },
      {
       "output_type": "stream",
       "stream": "stdout",
       "text": [
        "\n",
        "Decomposing the input dataset into basis functions..."
       ]
      },
      {
       "output_type": "stream",
       "stream": "stdout",
       "text": [
        " Done!\n",
        " ====> Using 9 basis functions\n",
        "\tFitting GP for basis function 0\n",
        "\tFitting GP for basis function 1"
       ]
      },
      {
       "output_type": "stream",
       "stream": "stdout",
       "text": [
        "\n",
        "\tFitting GP for basis function 2"
       ]
      },
      {
       "output_type": "stream",
       "stream": "stdout",
       "text": [
        "\n",
        "\tFitting GP for basis function 3"
       ]
      },
      {
       "output_type": "stream",
       "stream": "stdout",
       "text": [
        "\n",
        "\tFitting GP for basis function 4"
       ]
      },
      {
       "output_type": "stream",
       "stream": "stdout",
       "text": [
        "\n",
        "\tFitting GP for basis function 5"
       ]
      },
      {
       "output_type": "stream",
       "stream": "stdout",
       "text": [
        "\n",
        "\tFitting GP for basis function 6"
       ]
      },
      {
       "output_type": "stream",
       "stream": "stdout",
       "text": [
        "\n",
        "\tFitting GP for basis function 7"
       ]
      },
      {
       "output_type": "stream",
       "stream": "stdout",
       "text": [
        "\n",
        "\tFitting GP for basis function 8"
       ]
      },
      {
       "output_type": "stream",
       "stream": "stdout",
       "text": [
        "\n",
        "Decomposing the input dataset into basis functions..."
       ]
      },
      {
       "output_type": "stream",
       "stream": "stdout",
       "text": [
        " Done!\n",
        " ====> Using 8 basis functions\n",
        "\tFitting GP for basis function 0\n",
        "\tFitting GP for basis function 1"
       ]
      },
      {
       "output_type": "stream",
       "stream": "stdout",
       "text": [
        "\n",
        "\tFitting GP for basis function 2"
       ]
      },
      {
       "output_type": "stream",
       "stream": "stdout",
       "text": [
        "\n",
        "\tFitting GP for basis function 3"
       ]
      },
      {
       "output_type": "stream",
       "stream": "stdout",
       "text": [
        "\n",
        "\tFitting GP for basis function 4"
       ]
      },
      {
       "output_type": "stream",
       "stream": "stdout",
       "text": [
        "\n",
        "\tFitting GP for basis function 5"
       ]
      },
      {
       "output_type": "stream",
       "stream": "stdout",
       "text": [
        "\n",
        "\tFitting GP for basis function 6"
       ]
      },
      {
       "output_type": "stream",
       "stream": "stdout",
       "text": [
        "\n",
        "\tFitting GP for basis function 7"
       ]
      },
      {
       "output_type": "stream",
       "stream": "stdout",
       "text": [
        "\n",
        "Decomposing the input dataset into basis functions..."
       ]
      },
      {
       "output_type": "stream",
       "stream": "stdout",
       "text": [
        " Done!\n",
        " ====> Using 9 basis functions\n",
        "\tFitting GP for basis function 0\n",
        "\tFitting GP for basis function 1"
       ]
      },
      {
       "output_type": "stream",
       "stream": "stdout",
       "text": [
        "\n",
        "\tFitting GP for basis function 2"
       ]
      },
      {
       "output_type": "stream",
       "stream": "stdout",
       "text": [
        "\n",
        "\tFitting GP for basis function 3"
       ]
      },
      {
       "output_type": "stream",
       "stream": "stdout",
       "text": [
        "\n",
        "\tFitting GP for basis function 4"
       ]
      },
      {
       "output_type": "stream",
       "stream": "stdout",
       "text": [
        "\n",
        "\tFitting GP for basis function 5"
       ]
      },
      {
       "output_type": "stream",
       "stream": "stdout",
       "text": [
        "\n",
        "\tFitting GP for basis function 6"
       ]
      },
      {
       "output_type": "stream",
       "stream": "stdout",
       "text": [
        "\n",
        "\tFitting GP for basis function 7"
       ]
      },
      {
       "output_type": "stream",
       "stream": "stdout",
       "text": [
        "\n",
        "\tFitting GP for basis function 8"
       ]
      },
      {
       "output_type": "stream",
       "stream": "stdout",
       "text": [
        "\n",
        "Decomposing the input dataset into basis functions..."
       ]
      },
      {
       "output_type": "stream",
       "stream": "stdout",
       "text": [
        " Done!\n",
        " ====> Using 8 basis functions\n",
        "\tFitting GP for basis function 0\n",
        "\tFitting GP for basis function 1"
       ]
      },
      {
       "output_type": "stream",
       "stream": "stderr",
       "text": [
        "GaussianProcess.py:41: RuntimeWarning: overflow encountered in exp\n",
        "  exp_theta = np.exp ( self.theta )\n",
        "GaussianProcess.py:47: RuntimeWarning: invalid value encountered in multiply\n",
        "  np.tile( self.inputs[:, d], (self.n, 1)).T))**2\n",
        "GaussianProcess.py:50: RuntimeWarning: invalid value encountered in multiply\n",
        "  exp_theta[self.D+1]*np.eye ( self.n )\n"
       ]
      },
      {
       "output_type": "stream",
       "stream": "stdout",
       "text": [
        "\n",
        "\tFitting GP for basis function 2"
       ]
      },
      {
       "output_type": "stream",
       "stream": "stdout",
       "text": [
        "\n",
        "\tFitting GP for basis function 3"
       ]
      },
      {
       "output_type": "stream",
       "stream": "stdout",
       "text": [
        "\n",
        "\tFitting GP for basis function 4"
       ]
      },
      {
       "output_type": "stream",
       "stream": "stdout",
       "text": [
        "\n",
        "\tFitting GP for basis function 5"
       ]
      },
      {
       "output_type": "stream",
       "stream": "stdout",
       "text": [
        "\n",
        "\tFitting GP for basis function 6"
       ]
      },
      {
       "output_type": "stream",
       "stream": "stdout",
       "text": [
        "\n",
        "\tFitting GP for basis function 7"
       ]
      },
      {
       "output_type": "stream",
       "stream": "stdout",
       "text": [
        "\n",
        "Decomposing the input dataset into basis functions..."
       ]
      },
      {
       "output_type": "stream",
       "stream": "stdout",
       "text": [
        " Done!\n",
        " ====> Using 9 basis functions\n",
        "\tFitting GP for basis function 0\n",
        "\tFitting GP for basis function 1"
       ]
      },
      {
       "output_type": "stream",
       "stream": "stdout",
       "text": [
        "\n",
        "\tFitting GP for basis function 2"
       ]
      },
      {
       "output_type": "stream",
       "stream": "stdout",
       "text": [
        "\n",
        "\tFitting GP for basis function 3"
       ]
      },
      {
       "output_type": "stream",
       "stream": "stdout",
       "text": [
        "\n",
        "\tFitting GP for basis function 4"
       ]
      },
      {
       "output_type": "stream",
       "stream": "stdout",
       "text": [
        "\n",
        "\tFitting GP for basis function 5"
       ]
      },
      {
       "output_type": "stream",
       "stream": "stdout",
       "text": [
        "\n",
        "\tFitting GP for basis function 6"
       ]
      },
      {
       "output_type": "stream",
       "stream": "stdout",
       "text": [
        "\n",
        "\tFitting GP for basis function 7"
       ]
      },
      {
       "output_type": "stream",
       "stream": "stdout",
       "text": [
        "\n",
        "\tFitting GP for basis function 8"
       ]
      },
      {
       "output_type": "stream",
       "stream": "stdout",
       "text": [
        "\n",
        "Decomposing the input dataset into basis functions..."
       ]
      },
      {
       "output_type": "stream",
       "stream": "stdout",
       "text": [
        " Done!\n",
        " ====> Using 8 basis functions\n",
        "\tFitting GP for basis function 0\n",
        "\tFitting GP for basis function 1"
       ]
      },
      {
       "output_type": "stream",
       "stream": "stdout",
       "text": [
        "\n",
        "\tFitting GP for basis function 2"
       ]
      },
      {
       "output_type": "stream",
       "stream": "stdout",
       "text": [
        "\n",
        "\tFitting GP for basis function 3"
       ]
      },
      {
       "output_type": "stream",
       "stream": "stdout",
       "text": [
        "\n",
        "\tFitting GP for basis function 4"
       ]
      },
      {
       "output_type": "stream",
       "stream": "stdout",
       "text": [
        "\n",
        "\tFitting GP for basis function 5"
       ]
      },
      {
       "output_type": "stream",
       "stream": "stdout",
       "text": [
        "\n",
        "\tFitting GP for basis function 6"
       ]
      },
      {
       "output_type": "stream",
       "stream": "stdout",
       "text": [
        "\n",
        "\tFitting GP for basis function 7"
       ]
      },
      {
       "output_type": "stream",
       "stream": "stdout",
       "text": [
        "\n",
        "Decomposing the input dataset into basis functions..."
       ]
      },
      {
       "output_type": "stream",
       "stream": "stdout",
       "text": [
        " Done!\n",
        " ====> Using 8 basis functions\n",
        "\tFitting GP for basis function 0\n",
        "\tFitting GP for basis function 1"
       ]
      },
      {
       "output_type": "stream",
       "stream": "stdout",
       "text": [
        "\n",
        "\tFitting GP for basis function 2"
       ]
      },
      {
       "output_type": "stream",
       "stream": "stdout",
       "text": [
        "\n",
        "\tFitting GP for basis function 3"
       ]
      },
      {
       "output_type": "stream",
       "stream": "stdout",
       "text": [
        "\n",
        "\tFitting GP for basis function 4"
       ]
      },
      {
       "output_type": "stream",
       "stream": "stdout",
       "text": [
        "\n",
        "\tFitting GP for basis function 5"
       ]
      },
      {
       "output_type": "stream",
       "stream": "stdout",
       "text": [
        "\n",
        "\tFitting GP for basis function 6"
       ]
      },
      {
       "output_type": "stream",
       "stream": "stdout",
       "text": [
        "\n",
        "\tFitting GP for basis function 7"
       ]
      },
      {
       "output_type": "stream",
       "stream": "stdout",
       "text": [
        "\n",
        "Decomposing the input dataset into basis functions..."
       ]
      },
      {
       "output_type": "stream",
       "stream": "stdout",
       "text": [
        " Done!\n",
        " ====> Using 8 basis functions\n",
        "\tFitting GP for basis function 0\n",
        "\tFitting GP for basis function 1"
       ]
      },
      {
       "output_type": "stream",
       "stream": "stdout",
       "text": [
        "\n",
        "\tFitting GP for basis function 2"
       ]
      },
      {
       "output_type": "stream",
       "stream": "stdout",
       "text": [
        "\n",
        "\tFitting GP for basis function 3"
       ]
      },
      {
       "output_type": "stream",
       "stream": "stdout",
       "text": [
        "\n",
        "\tFitting GP for basis function 4"
       ]
      },
      {
       "output_type": "stream",
       "stream": "stdout",
       "text": [
        "\n",
        "\tFitting GP for basis function 5"
       ]
      },
      {
       "output_type": "stream",
       "stream": "stdout",
       "text": [
        "\n",
        "\tFitting GP for basis function 6"
       ]
      },
      {
       "output_type": "stream",
       "stream": "stdout",
       "text": [
        "\n",
        "\tFitting GP for basis function 7"
       ]
      },
      {
       "output_type": "stream",
       "stream": "stdout",
       "text": [
        "\n",
        "Decomposing the input dataset into basis functions..."
       ]
      },
      {
       "output_type": "stream",
       "stream": "stdout",
       "text": [
        " Done!\n",
        " ====> Using 8 basis functions\n",
        "\tFitting GP for basis function 0\n",
        "\tFitting GP for basis function 1"
       ]
      },
      {
       "output_type": "stream",
       "stream": "stdout",
       "text": [
        "\n",
        "\tFitting GP for basis function 2"
       ]
      },
      {
       "output_type": "stream",
       "stream": "stdout",
       "text": [
        "\n",
        "\tFitting GP for basis function 3"
       ]
      },
      {
       "output_type": "stream",
       "stream": "stdout",
       "text": [
        "\n",
        "\tFitting GP for basis function 4"
       ]
      },
      {
       "output_type": "stream",
       "stream": "stdout",
       "text": [
        "\n",
        "\tFitting GP for basis function 5"
       ]
      },
      {
       "output_type": "stream",
       "stream": "stdout",
       "text": [
        "\n",
        "\tFitting GP for basis function 6"
       ]
      },
      {
       "output_type": "stream",
       "stream": "stdout",
       "text": [
        "\n",
        "\tFitting GP for basis function 7"
       ]
      },
      {
       "output_type": "stream",
       "stream": "stdout",
       "text": [
        "\n",
        "Decomposing the input dataset into basis functions..."
       ]
      },
      {
       "output_type": "stream",
       "stream": "stdout",
       "text": [
        " Done!\n",
        " ====> Using 8 basis functions\n",
        "\tFitting GP for basis function 0\n",
        "\tFitting GP for basis function 1"
       ]
      },
      {
       "output_type": "stream",
       "stream": "stdout",
       "text": [
        "\n",
        "\tFitting GP for basis function 2"
       ]
      },
      {
       "output_type": "stream",
       "stream": "stdout",
       "text": [
        "\n",
        "\tFitting GP for basis function 3"
       ]
      },
      {
       "output_type": "stream",
       "stream": "stdout",
       "text": [
        "\n",
        "\tFitting GP for basis function 4"
       ]
      },
      {
       "output_type": "stream",
       "stream": "stdout",
       "text": [
        "\n",
        "\tFitting GP for basis function 5"
       ]
      },
      {
       "output_type": "stream",
       "stream": "stdout",
       "text": [
        "\n",
        "\tFitting GP for basis function 6"
       ]
      },
      {
       "output_type": "stream",
       "stream": "stdout",
       "text": [
        "\n",
        "\tFitting GP for basis function 7"
       ]
      },
      {
       "output_type": "stream",
       "stream": "stdout",
       "text": [
        "\n",
        "Decomposing the input dataset into basis functions..."
       ]
      },
      {
       "output_type": "stream",
       "stream": "stdout",
       "text": [
        " Done!\n",
        " ====> Using 8 basis functions\n",
        "\tFitting GP for basis function 0\n",
        "\tFitting GP for basis function 1"
       ]
      },
      {
       "output_type": "stream",
       "stream": "stdout",
       "text": [
        "\n",
        "\tFitting GP for basis function 2"
       ]
      },
      {
       "output_type": "stream",
       "stream": "stdout",
       "text": [
        "\n",
        "\tFitting GP for basis function 3"
       ]
      },
      {
       "output_type": "stream",
       "stream": "stdout",
       "text": [
        "\n",
        "\tFitting GP for basis function 4"
       ]
      },
      {
       "output_type": "stream",
       "stream": "stdout",
       "text": [
        "\n",
        "\tFitting GP for basis function 5"
       ]
      },
      {
       "output_type": "stream",
       "stream": "stdout",
       "text": [
        "\n",
        "\tFitting GP for basis function 6"
       ]
      },
      {
       "output_type": "stream",
       "stream": "stdout",
       "text": [
        "\n",
        "\tFitting GP for basis function 7"
       ]
      },
      {
       "output_type": "stream",
       "stream": "stdout",
       "text": [
        "\n",
        "Decomposing the input dataset into basis functions..."
       ]
      },
      {
       "output_type": "stream",
       "stream": "stdout",
       "text": [
        " Done!\n",
        " ====> Using 8 basis functions\n",
        "\tFitting GP for basis function 0\n",
        "\tFitting GP for basis function 1"
       ]
      },
      {
       "output_type": "stream",
       "stream": "stdout",
       "text": [
        "\n",
        "\tFitting GP for basis function 2"
       ]
      },
      {
       "output_type": "stream",
       "stream": "stdout",
       "text": [
        "\n",
        "\tFitting GP for basis function 3"
       ]
      },
      {
       "output_type": "stream",
       "stream": "stdout",
       "text": [
        "\n",
        "\tFitting GP for basis function 4"
       ]
      },
      {
       "output_type": "stream",
       "stream": "stdout",
       "text": [
        "\n",
        "\tFitting GP for basis function 5"
       ]
      },
      {
       "output_type": "stream",
       "stream": "stdout",
       "text": [
        "\n",
        "\tFitting GP for basis function 6"
       ]
      },
      {
       "output_type": "stream",
       "stream": "stdout",
       "text": [
        "\n",
        "\tFitting GP for basis function 7"
       ]
      },
      {
       "output_type": "stream",
       "stream": "stdout",
       "text": [
        "\n",
        "Decomposing the input dataset into basis functions..."
       ]
      },
      {
       "output_type": "stream",
       "stream": "stdout",
       "text": [
        " Done!\n",
        " ====> Using 8 basis functions\n",
        "\tFitting GP for basis function 0\n",
        "\tFitting GP for basis function 1"
       ]
      },
      {
       "output_type": "stream",
       "stream": "stdout",
       "text": [
        "\n",
        "\tFitting GP for basis function 2"
       ]
      },
      {
       "output_type": "stream",
       "stream": "stdout",
       "text": [
        "\n",
        "\tFitting GP for basis function 3"
       ]
      },
      {
       "output_type": "stream",
       "stream": "stdout",
       "text": [
        "\n",
        "\tFitting GP for basis function 4"
       ]
      },
      {
       "output_type": "stream",
       "stream": "stdout",
       "text": [
        "\n",
        "\tFitting GP for basis function 5"
       ]
      },
      {
       "output_type": "stream",
       "stream": "stdout",
       "text": [
        "\n",
        "\tFitting GP for basis function 6"
       ]
      },
      {
       "output_type": "stream",
       "stream": "stdout",
       "text": [
        "\n",
        "\tFitting GP for basis function 7"
       ]
      },
      {
       "output_type": "stream",
       "stream": "stdout",
       "text": [
        "\n",
        "Decomposing the input dataset into basis functions..."
       ]
      },
      {
       "output_type": "stream",
       "stream": "stdout",
       "text": [
        " Done!\n",
        " ====> Using 8 basis functions\n",
        "\tFitting GP for basis function 0\n",
        "\tFitting GP for basis function 1"
       ]
      },
      {
       "output_type": "stream",
       "stream": "stdout",
       "text": [
        "\n",
        "\tFitting GP for basis function 2"
       ]
      },
      {
       "output_type": "stream",
       "stream": "stdout",
       "text": [
        "\n",
        "\tFitting GP for basis function 3"
       ]
      },
      {
       "output_type": "stream",
       "stream": "stdout",
       "text": [
        "\n",
        "\tFitting GP for basis function 4"
       ]
      },
      {
       "output_type": "stream",
       "stream": "stdout",
       "text": [
        "\n",
        "\tFitting GP for basis function 5"
       ]
      },
      {
       "output_type": "stream",
       "stream": "stdout",
       "text": [
        "\n",
        "\tFitting GP for basis function 6"
       ]
      },
      {
       "output_type": "stream",
       "stream": "stdout",
       "text": [
        "\n",
        "\tFitting GP for basis function 7"
       ]
      },
      {
       "output_type": "stream",
       "stream": "stdout",
       "text": [
        "\n",
        "Decomposing the input dataset into basis functions..."
       ]
      },
      {
       "output_type": "stream",
       "stream": "stdout",
       "text": [
        " Done!\n",
        " ====> Using 8 basis functions\n",
        "\tFitting GP for basis function 0\n",
        "\tFitting GP for basis function 1"
       ]
      },
      {
       "output_type": "stream",
       "stream": "stdout",
       "text": [
        "\n",
        "\tFitting GP for basis function 2"
       ]
      },
      {
       "output_type": "stream",
       "stream": "stdout",
       "text": [
        "\n",
        "\tFitting GP for basis function 3"
       ]
      },
      {
       "output_type": "stream",
       "stream": "stdout",
       "text": [
        "\n",
        "\tFitting GP for basis function 4"
       ]
      },
      {
       "output_type": "stream",
       "stream": "stdout",
       "text": [
        "\n",
        "\tFitting GP for basis function 5"
       ]
      },
      {
       "output_type": "stream",
       "stream": "stdout",
       "text": [
        "\n",
        "\tFitting GP for basis function 6"
       ]
      },
      {
       "output_type": "stream",
       "stream": "stdout",
       "text": [
        "\n",
        "\tFitting GP for basis function 7"
       ]
      },
      {
       "output_type": "stream",
       "stream": "stdout",
       "text": [
        "\n",
        "Decomposing the input dataset into basis functions..."
       ]
      },
      {
       "output_type": "stream",
       "stream": "stdout",
       "text": [
        " Done!\n",
        " ====> Using 8 basis functions\n",
        "\tFitting GP for basis function 0\n",
        "\tFitting GP for basis function 1"
       ]
      },
      {
       "output_type": "stream",
       "stream": "stdout",
       "text": [
        "\n",
        "\tFitting GP for basis function 2"
       ]
      },
      {
       "output_type": "stream",
       "stream": "stdout",
       "text": [
        "\n",
        "\tFitting GP for basis function 3"
       ]
      },
      {
       "output_type": "stream",
       "stream": "stdout",
       "text": [
        "\n",
        "\tFitting GP for basis function 4"
       ]
      },
      {
       "output_type": "stream",
       "stream": "stdout",
       "text": [
        "\n",
        "\tFitting GP for basis function 5"
       ]
      },
      {
       "output_type": "stream",
       "stream": "stdout",
       "text": [
        "\n",
        "\tFitting GP for basis function 6"
       ]
      },
      {
       "output_type": "stream",
       "stream": "stdout",
       "text": [
        "\n",
        "\tFitting GP for basis function 7"
       ]
      },
      {
       "output_type": "stream",
       "stream": "stdout",
       "text": [
        "\n",
        "Decomposing the input dataset into basis functions..."
       ]
      },
      {
       "output_type": "stream",
       "stream": "stdout",
       "text": [
        " Done!\n",
        " ====> Using 8 basis functions\n",
        "\tFitting GP for basis function 0\n",
        "\tFitting GP for basis function 1"
       ]
      },
      {
       "output_type": "stream",
       "stream": "stdout",
       "text": [
        "\n",
        "\tFitting GP for basis function 2"
       ]
      },
      {
       "output_type": "stream",
       "stream": "stdout",
       "text": [
        "\n",
        "\tFitting GP for basis function 3"
       ]
      },
      {
       "output_type": "stream",
       "stream": "stdout",
       "text": [
        "\n",
        "\tFitting GP for basis function 4"
       ]
      },
      {
       "output_type": "stream",
       "stream": "stdout",
       "text": [
        "\n",
        "\tFitting GP for basis function 5"
       ]
      },
      {
       "output_type": "stream",
       "stream": "stdout",
       "text": [
        "\n",
        "\tFitting GP for basis function 6"
       ]
      },
      {
       "output_type": "stream",
       "stream": "stdout",
       "text": [
        "\n",
        "\tFitting GP for basis function 7"
       ]
      },
      {
       "output_type": "stream",
       "stream": "stdout",
       "text": [
        "\n",
        "Decomposing the input dataset into basis functions..."
       ]
      },
      {
       "output_type": "stream",
       "stream": "stdout",
       "text": [
        " Done!\n",
        " ====> Using 8 basis functions\n",
        "\tFitting GP for basis function 0\n",
        "\tFitting GP for basis function 1"
       ]
      },
      {
       "output_type": "stream",
       "stream": "stdout",
       "text": [
        "\n",
        "\tFitting GP for basis function 2"
       ]
      },
      {
       "output_type": "stream",
       "stream": "stdout",
       "text": [
        "\n",
        "\tFitting GP for basis function 3"
       ]
      },
      {
       "output_type": "stream",
       "stream": "stdout",
       "text": [
        "\n",
        "\tFitting GP for basis function 4"
       ]
      },
      {
       "output_type": "stream",
       "stream": "stdout",
       "text": [
        "\n",
        "\tFitting GP for basis function 5"
       ]
      },
      {
       "output_type": "stream",
       "stream": "stdout",
       "text": [
        "\n",
        "\tFitting GP for basis function 6"
       ]
      },
      {
       "output_type": "stream",
       "stream": "stdout",
       "text": [
        "\n",
        "\tFitting GP for basis function 7"
       ]
      },
      {
       "output_type": "stream",
       "stream": "stdout",
       "text": [
        "\n",
        "Decomposing the input dataset into basis functions..."
       ]
      },
      {
       "output_type": "stream",
       "stream": "stdout",
       "text": [
        " Done!\n",
        " ====> Using 8 basis functions\n",
        "\tFitting GP for basis function 0\n",
        "\tFitting GP for basis function 1"
       ]
      },
      {
       "output_type": "stream",
       "stream": "stdout",
       "text": [
        "\n",
        "\tFitting GP for basis function 2"
       ]
      },
      {
       "output_type": "stream",
       "stream": "stdout",
       "text": [
        "\n",
        "\tFitting GP for basis function 3"
       ]
      },
      {
       "output_type": "stream",
       "stream": "stdout",
       "text": [
        "\n",
        "\tFitting GP for basis function 4"
       ]
      },
      {
       "output_type": "stream",
       "stream": "stdout",
       "text": [
        "\n",
        "\tFitting GP for basis function 5"
       ]
      },
      {
       "output_type": "stream",
       "stream": "stdout",
       "text": [
        "\n",
        "\tFitting GP for basis function 6"
       ]
      },
      {
       "output_type": "stream",
       "stream": "stdout",
       "text": [
        "\n",
        "\tFitting GP for basis function 7"
       ]
      },
      {
       "output_type": "stream",
       "stream": "stdout",
       "text": [
        "\n",
        "Decomposing the input dataset into basis functions..."
       ]
      },
      {
       "output_type": "stream",
       "stream": "stdout",
       "text": [
        " Done!\n",
        " ====> Using 8 basis functions\n",
        "\tFitting GP for basis function 0\n",
        "\tFitting GP for basis function 1"
       ]
      },
      {
       "output_type": "stream",
       "stream": "stdout",
       "text": [
        "\n",
        "\tFitting GP for basis function 2"
       ]
      },
      {
       "output_type": "stream",
       "stream": "stdout",
       "text": [
        "\n",
        "\tFitting GP for basis function 3"
       ]
      },
      {
       "output_type": "stream",
       "stream": "stdout",
       "text": [
        "\n",
        "\tFitting GP for basis function 4"
       ]
      },
      {
       "output_type": "stream",
       "stream": "stdout",
       "text": [
        "\n",
        "\tFitting GP for basis function 5"
       ]
      },
      {
       "output_type": "stream",
       "stream": "stdout",
       "text": [
        "\n",
        "\tFitting GP for basis function 6"
       ]
      },
      {
       "output_type": "stream",
       "stream": "stdout",
       "text": [
        "\n",
        "\tFitting GP for basis function 7"
       ]
      },
      {
       "output_type": "stream",
       "stream": "stdout",
       "text": [
        "\n",
        "Decomposing the input dataset into basis functions..."
       ]
      },
      {
       "output_type": "stream",
       "stream": "stdout",
       "text": [
        " Done!\n",
        " ====> Using 8 basis functions\n",
        "\tFitting GP for basis function 0\n",
        "\tFitting GP for basis function 1"
       ]
      },
      {
       "output_type": "stream",
       "stream": "stdout",
       "text": [
        "\n",
        "\tFitting GP for basis function 2"
       ]
      },
      {
       "output_type": "stream",
       "stream": "stdout",
       "text": [
        "\n",
        "\tFitting GP for basis function 3"
       ]
      },
      {
       "output_type": "stream",
       "stream": "stdout",
       "text": [
        "\n",
        "\tFitting GP for basis function 4"
       ]
      },
      {
       "output_type": "stream",
       "stream": "stdout",
       "text": [
        "\n",
        "\tFitting GP for basis function 5"
       ]
      },
      {
       "output_type": "stream",
       "stream": "stdout",
       "text": [
        "\n",
        "\tFitting GP for basis function 6"
       ]
      },
      {
       "output_type": "stream",
       "stream": "stdout",
       "text": [
        "\n",
        "\tFitting GP for basis function 7"
       ]
      },
      {
       "output_type": "stream",
       "stream": "stdout",
       "text": [
        "\n",
        "Decomposing the input dataset into basis functions..."
       ]
      },
      {
       "output_type": "stream",
       "stream": "stdout",
       "text": [
        " Done!\n",
        " ====> Using 8 basis functions\n",
        "\tFitting GP for basis function 0\n",
        "\tFitting GP for basis function 1"
       ]
      },
      {
       "output_type": "stream",
       "stream": "stdout",
       "text": [
        "\n",
        "\tFitting GP for basis function 2"
       ]
      },
      {
       "output_type": "stream",
       "stream": "stdout",
       "text": [
        "\n",
        "\tFitting GP for basis function 3"
       ]
      },
      {
       "output_type": "stream",
       "stream": "stdout",
       "text": [
        "\n",
        "\tFitting GP for basis function 4"
       ]
      },
      {
       "output_type": "stream",
       "stream": "stdout",
       "text": [
        "\n",
        "\tFitting GP for basis function 5"
       ]
      },
      {
       "output_type": "stream",
       "stream": "stdout",
       "text": [
        "\n",
        "\tFitting GP for basis function 6"
       ]
      },
      {
       "output_type": "stream",
       "stream": "stdout",
       "text": [
        "\n",
        "\tFitting GP for basis function 7"
       ]
      },
      {
       "output_type": "stream",
       "stream": "stdout",
       "text": [
        "\n",
        "Decomposing the input dataset into basis functions..."
       ]
      },
      {
       "output_type": "stream",
       "stream": "stdout",
       "text": [
        " Done!\n",
        " ====> Using 7 basis functions\n",
        "\tFitting GP for basis function 0\n",
        "\tFitting GP for basis function 1"
       ]
      },
      {
       "output_type": "stream",
       "stream": "stdout",
       "text": [
        "\n",
        "\tFitting GP for basis function 2"
       ]
      },
      {
       "output_type": "stream",
       "stream": "stdout",
       "text": [
        "\n",
        "\tFitting GP for basis function 3"
       ]
      },
      {
       "output_type": "stream",
       "stream": "stdout",
       "text": [
        "\n",
        "\tFitting GP for basis function 4"
       ]
      },
      {
       "output_type": "stream",
       "stream": "stdout",
       "text": [
        "\n",
        "\tFitting GP for basis function 5"
       ]
      },
      {
       "output_type": "stream",
       "stream": "stdout",
       "text": [
        "\n",
        "\tFitting GP for basis function 6"
       ]
      },
      {
       "output_type": "stream",
       "stream": "stdout",
       "text": [
        "\n"
       ]
      }
     ],
     "prompt_number": 20
    },
    {
     "cell_type": "code",
     "collapsed": false,
     "input": [
      "mv_em = MultivariateEmulator(dump=\"emulator_0001.987x00026.72x000213.9.npz\")"
     ],
     "language": "python",
     "metadata": {},
     "outputs": [
      {
       "output_type": "stream",
       "stream": "stdout",
       "text": [
        "Decomposing the input dataset into basis functions... "
       ]
      },
      {
       "output_type": "stream",
       "stream": "stdout",
       "text": [
        "Done!\n",
        " ====> Using 9 basis functions\n"
       ]
      }
     ],
     "prompt_number": 5
    },
    {
     "cell_type": "code",
     "collapsed": false,
     "input": [
      "import sys\n",
      "sys.path.append(\"..\")\n",
      "from eoldas_ng.operators import *\n",
      "# Define the problem.\n",
      "# 0. Default parameters\n",
      "default_names = [ 'n', 'xcab', 'xcar', 'cbrown', 'xcw', 'xcm', 'xlai', 'lidfa','lidfb','rsoil', 'psoil', 'hspot','xala' ]\n",
      "defaults = [ 1.5, np.exp(-40./100.), 0, 0, np.exp(-0.03*50.), np.exp(-50./66.), 2.,  45., 0, 1., 1.5, 0.01, 45. ]\n",
      "# 1. Parameter names & ordering. Same as the ordering provided by pack/unpack funcs in lut_tools\n",
      "parameter_names = [ 'bsoil', 'cbrown', 'hspot', 'n', 'psoil', 'xala', 'xcab', \\\n",
      "        'xcar', 'xcm', 'xcw', 'xlai' ]\n",
      "# 2. Define what's to be done with each parameter\n",
      "states = [ FIXED, CONSTANT, FIXED, FIXED, VARIABLE, FIXED, VARIABLE, FIXED, FIXED, CONSTANT, VARIABLE ]\n",
      "# 3. Define the state configuration and maybe splice some default values?\n",
      "state_config = OrderedDict()\n",
      "default_values = OrderedDict()\n",
      "for i,k in enumerate ( parameter_names ):\n",
      "    state_config[k] = states[i]\n",
      "    default_values[k] = defaults[i]\n",
      "\n",
      "    \n",
      "\n",
      "state_grid = np.arange(1, 366)\n",
      "the_model = TemporalSmoother ( state_grid, gamma=5e3 )\n"
     ],
     "language": "python",
     "metadata": {},
     "outputs": [],
     "prompt_number": 6
    },
    {
     "cell_type": "code",
     "collapsed": false,
     "input": [
      "# Define the prior\n",
      "mu_prior = OrderedDict()\n",
      "inv_cov_prior = OrderedDict()\n",
      "for i,k in enumerate ( parameter_names ):\n",
      "    mu_prior[k] = np.atleast_2d(np.array(defaults[i]))\n",
      "    inv_cov_prior[k] = np.atleast_2d(np.array(1.)) # Variance of unity\n",
      "the_prior = Prior ( mu_prior, inv_cov_prior ) # Uninformative prior"
     ],
     "language": "python",
     "metadata": {},
     "outputs": [],
     "prompt_number": 14
    },
    {
     "cell_type": "code",
     "collapsed": false,
     "input": [
      "lambda_max = 2501\n",
      "lambda_min = 400\n",
      "b0, b1 = 0.008, 0.02 \n",
      "bux = np.zeros ( ( 2101 ) )\n",
      "bux = b0 + ((b1-b0)/(lambda_max-lambda_min)) * \\\n",
      "               (np.arange(400, 2501) - lambda_min)\n",
      "sentinel_bands_min = np.array([433, 457.5, 542.5, 650, 697.5, 732.5, 773, 784.5, 855, 935, 1565, 2100])\n",
      "sentinel_bands_max = np.array([453, 522.5, 577.5, 680, 712.5, 747.5, 793, 899.5, 875, 955, 1655,2280] )\n",
      "wv = np.arange(400, 2501)\n",
      "bandpass = np.zeros((sentinel_bands_min.shape[0], 2101), dtype=np.bool)\n",
      "bu = np.zeros ( sentinel_bands_min.shape[0] )\n",
      "for i in xrange ( sentinel_bands_min.shape[0] ):\n",
      "    bandpass[i, :] = np.logical_and ( wv >= sentinel_bands_min[i], wv <= sentinel_bands_max[i] )\n",
      "    bu[i] = bux[bandpass[i, :]].mean()\n",
      "import glob\n",
      "files = glob.glob (\"*.npz\")\n",
      "emulators = {}\n",
      "for f in files:\n",
      "    emulators[f] = MultivariateEmulator( dump = f )\n",
      "observations = np.loadtxt( \"brf_obs_clean.txt\" )\n",
      "the_observations =  ObservationOperatorGP ( state_grid, observations, emulators, default_values, bu, bandpass )"
     ],
     "language": "python",
     "metadata": {},
     "outputs": [
      {
       "output_type": "stream",
       "stream": "stdout",
       "text": [
        "Decomposing the input dataset into basis functions... "
       ]
      },
      {
       "output_type": "stream",
       "stream": "stdout",
       "text": [
        "Done!\n",
        " ====> Using 8 basis functions\n",
        "Decomposing the input dataset into basis functions..."
       ]
      },
      {
       "output_type": "stream",
       "stream": "stdout",
       "text": [
        " Done!\n",
        " ====> Using 8 basis functions\n",
        "Decomposing the input dataset into basis functions..."
       ]
      },
      {
       "output_type": "stream",
       "stream": "stdout",
       "text": [
        " Done!\n",
        " ====> Using 8 basis functions\n",
        "Decomposing the input dataset into basis functions..."
       ]
      },
      {
       "output_type": "stream",
       "stream": "stdout",
       "text": [
        " Done!\n",
        " ====> Using 8 basis functions\n",
        "Decomposing the input dataset into basis functions..."
       ]
      },
      {
       "output_type": "stream",
       "stream": "stdout",
       "text": [
        " Done!\n",
        " ====> Using 9 basis functions\n",
        "Decomposing the input dataset into basis functions..."
       ]
      },
      {
       "output_type": "stream",
       "stream": "stdout",
       "text": [
        " Done!\n",
        " ====> Using 8 basis functions\n",
        "Decomposing the input dataset into basis functions..."
       ]
      },
      {
       "output_type": "stream",
       "stream": "stdout",
       "text": [
        " Done!\n",
        " ====> Using 8 basis functions\n",
        "Decomposing the input dataset into basis functions..."
       ]
      },
      {
       "output_type": "stream",
       "stream": "stdout",
       "text": [
        " Done!\n",
        " ====> Using 8 basis functions\n",
        "Decomposing the input dataset into basis functions..."
       ]
      },
      {
       "output_type": "stream",
       "stream": "stdout",
       "text": [
        " Done!\n",
        " ====> Using 8 basis functions\n",
        "Decomposing the input dataset into basis functions..."
       ]
      },
      {
       "output_type": "stream",
       "stream": "stdout",
       "text": [
        " Done!\n",
        " ====> Using 8 basis functions\n",
        "Decomposing the input dataset into basis functions..."
       ]
      },
      {
       "output_type": "stream",
       "stream": "stdout",
       "text": [
        " Done!\n",
        " ====> Using 8 basis functions\n",
        "Decomposing the input dataset into basis functions..."
       ]
      },
      {
       "output_type": "stream",
       "stream": "stdout",
       "text": [
        " Done!\n",
        " ====> Using 8 basis functions\n",
        "Decomposing the input dataset into basis functions..."
       ]
      },
      {
       "output_type": "stream",
       "stream": "stdout",
       "text": [
        " Done!\n",
        " ====> Using 9 basis functions\n",
        "Decomposing the input dataset into basis functions..."
       ]
      },
      {
       "output_type": "stream",
       "stream": "stdout",
       "text": [
        " Done!\n",
        " ====> Using 8 basis functions\n",
        "Decomposing the input dataset into basis functions..."
       ]
      },
      {
       "output_type": "stream",
       "stream": "stdout",
       "text": [
        " Done!\n",
        " ====> Using 8 basis functions\n",
        "Decomposing the input dataset into basis functions..."
       ]
      },
      {
       "output_type": "stream",
       "stream": "stdout",
       "text": [
        " Done!\n",
        " ====> Using 8 basis functions\n",
        "Decomposing the input dataset into basis functions..."
       ]
      },
      {
       "output_type": "stream",
       "stream": "stdout",
       "text": [
        " Done!\n",
        " ====> Using 8 basis functions\n",
        "Decomposing the input dataset into basis functions..."
       ]
      },
      {
       "output_type": "stream",
       "stream": "stdout",
       "text": [
        " Done!\n",
        " ====> Using 8 basis functions\n",
        "Decomposing the input dataset into basis functions..."
       ]
      },
      {
       "output_type": "stream",
       "stream": "stdout",
       "text": [
        " Done!\n",
        " ====> Using 8 basis functions\n",
        "Decomposing the input dataset into basis functions..."
       ]
      },
      {
       "output_type": "stream",
       "stream": "stdout",
       "text": [
        " Done!\n",
        " ====> Using 9 basis functions\n",
        "Decomposing the input dataset into basis functions..."
       ]
      },
      {
       "output_type": "stream",
       "stream": "stdout",
       "text": [
        " Done!\n",
        " ====> Using 8 basis functions\n",
        "Decomposing the input dataset into basis functions..."
       ]
      },
      {
       "output_type": "stream",
       "stream": "stdout",
       "text": [
        " Done!\n",
        " ====> Using 9 basis functions\n",
        "Decomposing the input dataset into basis functions..."
       ]
      },
      {
       "output_type": "stream",
       "stream": "stdout",
       "text": [
        " Done!\n",
        " ====> Using 8 basis functions\n",
        "Decomposing the input dataset into basis functions..."
       ]
      },
      {
       "output_type": "stream",
       "stream": "stdout",
       "text": [
        " Done!\n",
        " ====> Using 8 basis functions\n",
        "Decomposing the input dataset into basis functions..."
       ]
      },
      {
       "output_type": "stream",
       "stream": "stdout",
       "text": [
        " Done!\n",
        " ====> Using 8 basis functions\n",
        "Decomposing the input dataset into basis functions..."
       ]
      },
      {
       "output_type": "stream",
       "stream": "stdout",
       "text": [
        " Done!\n",
        " ====> Using 8 basis functions\n",
        "Decomposing the input dataset into basis functions..."
       ]
      },
      {
       "output_type": "stream",
       "stream": "stdout",
       "text": [
        " Done!\n",
        " ====> Using 8 basis functions\n",
        "Decomposing the input dataset into basis functions..."
       ]
      },
      {
       "output_type": "stream",
       "stream": "stdout",
       "text": [
        " Done!\n",
        " ====> Using 8 basis functions\n",
        "Decomposing the input dataset into basis functions..."
       ]
      },
      {
       "output_type": "stream",
       "stream": "stdout",
       "text": [
        " Done!\n",
        " ====> Using 8 basis functions\n",
        "Decomposing the input dataset into basis functions..."
       ]
      },
      {
       "output_type": "stream",
       "stream": "stdout",
       "text": [
        " Done!\n",
        " ====> Using 8 basis functions\n",
        "Decomposing the input dataset into basis functions..."
       ]
      },
      {
       "output_type": "stream",
       "stream": "stdout",
       "text": [
        " Done!\n",
        " ====> Using 8 basis functions\n"
       ]
      }
     ],
     "prompt_number": 8
    },
    {
     "cell_type": "code",
     "collapsed": false,
     "input": [
      "the_state = State ( state_config, state_grid, default_values )\n",
      "the_state.add_operator ( 'Prior', the_prior )\n",
      "the_state.add_operator ( 'Regularisation', the_model )\n",
      "the_state.add_operator ( 'Observation', the_observations )"
     ],
     "language": "python",
     "metadata": {},
     "outputs": [],
     "prompt_number": 15
    },
    {
     "cell_type": "code",
     "collapsed": false,
     "input": [
      "# Random initial guesses...\n",
      "x0 = {}\n",
      "for param, typo in state_config.iteritems():\n",
      "    if typo == CONSTANT:\n",
      "        x0[param] = np.random.rand()\n",
      "    elif typo == VARIABLE:\n",
      "        x0[param] = np.random.rand( state_grid.size )\n",
      "the_state.optimize ( x0 )"
     ],
     "language": "python",
     "metadata": {},
     "outputs": [
      {
       "ename": "ValueError",
       "evalue": "matrices are not aligned",
       "output_type": "pyerr",
       "traceback": [
        "\u001b[1;31m---------------------------------------------------------------------------\u001b[0m\n\u001b[1;31mValueError\u001b[0m                                Traceback (most recent call last)",
        "\u001b[1;32m<ipython-input-16-bd8f5882420b>\u001b[0m in \u001b[0;36m<module>\u001b[1;34m()\u001b[0m\n\u001b[0;32m      6\u001b[0m     \u001b[1;32melif\u001b[0m \u001b[0mtypo\u001b[0m \u001b[1;33m==\u001b[0m \u001b[0mVARIABLE\u001b[0m\u001b[1;33m:\u001b[0m\u001b[1;33m\u001b[0m\u001b[0m\n\u001b[0;32m      7\u001b[0m         \u001b[0mx0\u001b[0m\u001b[1;33m[\u001b[0m\u001b[0mparam\u001b[0m\u001b[1;33m]\u001b[0m \u001b[1;33m=\u001b[0m \u001b[0mnp\u001b[0m\u001b[1;33m.\u001b[0m\u001b[0mrandom\u001b[0m\u001b[1;33m.\u001b[0m\u001b[0mrand\u001b[0m\u001b[1;33m(\u001b[0m \u001b[0mstate_grid\u001b[0m\u001b[1;33m.\u001b[0m\u001b[0msize\u001b[0m \u001b[1;33m)\u001b[0m\u001b[1;33m\u001b[0m\u001b[0m\n\u001b[1;32m----> 8\u001b[1;33m \u001b[0mthe_state\u001b[0m\u001b[1;33m.\u001b[0m\u001b[0moptimize\u001b[0m \u001b[1;33m(\u001b[0m \u001b[0mx0\u001b[0m \u001b[1;33m)\u001b[0m\u001b[1;33m\u001b[0m\u001b[0m\n\u001b[0m",
        "\u001b[1;32m/data/raid5/raidflex1/ucfajlg/python/eoldas_ng/eoldas_ng/operators.py\u001b[0m in \u001b[0;36moptimize\u001b[1;34m(self, x0)\u001b[0m\n\u001b[0;32m    109\u001b[0m             \u001b[0mx0\u001b[0m \u001b[1;33m=\u001b[0m \u001b[0mself\u001b[0m\u001b[1;33m.\u001b[0m\u001b[0mpack_from_dict\u001b[0m \u001b[1;33m(\u001b[0m \u001b[0mx0\u001b[0m \u001b[1;33m)\u001b[0m\u001b[1;33m\u001b[0m\u001b[0m\n\u001b[0;32m    110\u001b[0m \u001b[1;33m\u001b[0m\u001b[0m\n\u001b[1;32m--> 111\u001b[1;33m         \u001b[0mretval\u001b[0m \u001b[1;33m=\u001b[0m \u001b[0mscipy\u001b[0m\u001b[1;33m.\u001b[0m\u001b[0moptimize\u001b[0m\u001b[1;33m.\u001b[0m\u001b[0mfmin_l_bfgs_b\u001b[0m\u001b[1;33m(\u001b[0m \u001b[0mself\u001b[0m\u001b[1;33m.\u001b[0m\u001b[0mcost\u001b[0m\u001b[1;33m,\u001b[0m \u001b[0mx0\u001b[0m\u001b[1;33m,\u001b[0m \u001b[0mdisp\u001b[0m\u001b[1;33m=\u001b[0m\u001b[1;36m1\u001b[0m \u001b[1;33m)\u001b[0m\u001b[1;33m\u001b[0m\u001b[0m\n\u001b[0m\u001b[0;32m    112\u001b[0m         \u001b[1;32mreturn\u001b[0m \u001b[0mretval\u001b[0m\u001b[1;33m\u001b[0m\u001b[0m\n\u001b[0;32m    113\u001b[0m \u001b[1;33m\u001b[0m\u001b[0m\n",
        "\u001b[1;32m/opt/epd-7.1-2-rh5-x86_64/lib/python2.7/site-packages/scipy/optimize/lbfgsb.py\u001b[0m in \u001b[0;36mfmin_l_bfgs_b\u001b[1;34m(func, x0, fprime, args, approx_grad, bounds, m, factr, pgtol, epsilon, iprint, maxfun, disp)\u001b[0m\n\u001b[0;32m    194\u001b[0m             \u001b[0mn_function_evals\u001b[0m \u001b[1;33m+=\u001b[0m \u001b[1;36m1\u001b[0m\u001b[1;33m\u001b[0m\u001b[0m\n\u001b[0;32m    195\u001b[0m             \u001b[1;31m# Overwrite f and g:\u001b[0m\u001b[1;33m\u001b[0m\u001b[1;33m\u001b[0m\u001b[0m\n\u001b[1;32m--> 196\u001b[1;33m             \u001b[0mf\u001b[0m\u001b[1;33m,\u001b[0m \u001b[0mg\u001b[0m \u001b[1;33m=\u001b[0m \u001b[0mfunc_and_grad\u001b[0m\u001b[1;33m(\u001b[0m\u001b[0mx\u001b[0m\u001b[1;33m)\u001b[0m\u001b[1;33m\u001b[0m\u001b[0m\n\u001b[0m\u001b[0;32m    197\u001b[0m         \u001b[1;32melif\u001b[0m \u001b[0mtask_str\u001b[0m\u001b[1;33m.\u001b[0m\u001b[0mstartswith\u001b[0m\u001b[1;33m(\u001b[0m\u001b[0masbytes\u001b[0m\u001b[1;33m(\u001b[0m\u001b[1;34m'NEW_X'\u001b[0m\u001b[1;33m)\u001b[0m\u001b[1;33m)\u001b[0m\u001b[1;33m:\u001b[0m\u001b[1;33m\u001b[0m\u001b[0m\n\u001b[0;32m    198\u001b[0m             \u001b[1;31m# new iteration\u001b[0m\u001b[1;33m\u001b[0m\u001b[1;33m\u001b[0m\u001b[0m\n",
        "\u001b[1;32m/opt/epd-7.1-2-rh5-x86_64/lib/python2.7/site-packages/scipy/optimize/lbfgsb.py\u001b[0m in \u001b[0;36mfunc_and_grad\u001b[1;34m(x)\u001b[0m\n\u001b[0;32m    145\u001b[0m     \u001b[1;32melif\u001b[0m \u001b[0mfprime\u001b[0m \u001b[1;32mis\u001b[0m \u001b[0mNone\u001b[0m\u001b[1;33m:\u001b[0m\u001b[1;33m\u001b[0m\u001b[0m\n\u001b[0;32m    146\u001b[0m         \u001b[1;32mdef\u001b[0m \u001b[0mfunc_and_grad\u001b[0m\u001b[1;33m(\u001b[0m\u001b[0mx\u001b[0m\u001b[1;33m)\u001b[0m\u001b[1;33m:\u001b[0m\u001b[1;33m\u001b[0m\u001b[0m\n\u001b[1;32m--> 147\u001b[1;33m             \u001b[0mf\u001b[0m\u001b[1;33m,\u001b[0m \u001b[0mg\u001b[0m \u001b[1;33m=\u001b[0m \u001b[0mfunc\u001b[0m\u001b[1;33m(\u001b[0m\u001b[0mx\u001b[0m\u001b[1;33m,\u001b[0m \u001b[1;33m*\u001b[0m\u001b[0margs\u001b[0m\u001b[1;33m)\u001b[0m\u001b[1;33m\u001b[0m\u001b[0m\n\u001b[0m\u001b[0;32m    148\u001b[0m             \u001b[1;32mreturn\u001b[0m \u001b[0mf\u001b[0m\u001b[1;33m,\u001b[0m \u001b[0mg\u001b[0m\u001b[1;33m\u001b[0m\u001b[0m\n\u001b[0;32m    149\u001b[0m     \u001b[1;32melse\u001b[0m\u001b[1;33m:\u001b[0m\u001b[1;33m\u001b[0m\u001b[0m\n",
        "\u001b[1;32m/data/raid5/raidflex1/ucfajlg/python/eoldas_ng/eoldas_ng/operators.py\u001b[0m in \u001b[0;36mcost\u001b[1;34m(self, x)\u001b[0m\n\u001b[0;32m    118\u001b[0m          \u001b[0maggr_der_cost\u001b[0m \u001b[1;33m=\u001b[0m \u001b[0mx\u001b[0m\u001b[1;33m*\u001b[0m\u001b[1;36m0.0\u001b[0m\u001b[1;33m\u001b[0m\u001b[0m\n\u001b[0;32m    119\u001b[0m          \u001b[1;32mfor\u001b[0m \u001b[0mop_name\u001b[0m\u001b[1;33m,\u001b[0m \u001b[0mthe_op\u001b[0m \u001b[1;32min\u001b[0m \u001b[0mself\u001b[0m\u001b[1;33m.\u001b[0m\u001b[0moperators\u001b[0m\u001b[1;33m.\u001b[0m\u001b[0miteritems\u001b[0m\u001b[1;33m(\u001b[0m\u001b[1;33m)\u001b[0m\u001b[1;33m:\u001b[0m\u001b[1;33m\u001b[0m\u001b[0m\n\u001b[1;32m--> 120\u001b[1;33m              \u001b[0mcost\u001b[0m\u001b[1;33m,\u001b[0m \u001b[0mder_cost\u001b[0m \u001b[1;33m=\u001b[0m \u001b[0mthe_op\u001b[0m\u001b[1;33m.\u001b[0m\u001b[0mder_cost\u001b[0m \u001b[1;33m(\u001b[0m \u001b[0mx_dict\u001b[0m\u001b[1;33m,\u001b[0m \u001b[0mself\u001b[0m\u001b[1;33m.\u001b[0m\u001b[0mstate_config\u001b[0m \u001b[1;33m)\u001b[0m\u001b[1;33m\u001b[0m\u001b[0m\n\u001b[0m\u001b[0;32m    121\u001b[0m              \u001b[0maggr_cost\u001b[0m \u001b[1;33m=\u001b[0m \u001b[0maggr_cost\u001b[0m \u001b[1;33m+\u001b[0m \u001b[0mcost\u001b[0m\u001b[1;33m\u001b[0m\u001b[0m\n\u001b[0;32m    122\u001b[0m              \u001b[0maggr_der_cost\u001b[0m \u001b[1;33m=\u001b[0m \u001b[0maggr_der_cost\u001b[0m \u001b[1;33m+\u001b[0m \u001b[0mder_cost\u001b[0m\u001b[1;33m\u001b[0m\u001b[0m\n",
        "\u001b[1;32m/data/raid5/raidflex1/ucfajlg/python/eoldas_ng/eoldas_ng/operators.py\u001b[0m in \u001b[0;36mder_cost\u001b[1;34m(self, x_dict, state_config)\u001b[0m\n\u001b[0;32m    174\u001b[0m                     \u001b[0msigma\u001b[0m \u001b[1;33m=\u001b[0m \u001b[0mself\u001b[0m\u001b[1;33m.\u001b[0m\u001b[0minv_cov\u001b[0m\u001b[1;33m[\u001b[0m\u001b[0mparam\u001b[0m\u001b[1;33m]\u001b[0m\u001b[1;33m\u001b[0m\u001b[0m\n\u001b[0;32m    175\u001b[0m                     \u001b[0mself\u001b[0m\u001b[1;33m.\u001b[0m\u001b[0minv_cov\u001b[0m\u001b[1;33m[\u001b[0m\u001b[0mparam\u001b[0m\u001b[1;33m]\u001b[0m \u001b[1;33m=\u001b[0m \u001b[0mnp\u001b[0m\u001b[1;33m.\u001b[0m\u001b[0mdiag\u001b[0m\u001b[1;33m(\u001b[0m \u001b[0mnp\u001b[0m\u001b[1;33m.\u001b[0m\u001b[0mones\u001b[0m\u001b[1;33m(\u001b[0m\u001b[0mn_elems\u001b[0m\u001b[1;33m)\u001b[0m\u001b[1;33m*\u001b[0m\u001b[0msigma\u001b[0m \u001b[1;33m)\u001b[0m\u001b[1;33m\u001b[0m\u001b[0m\n\u001b[1;32m--> 176\u001b[1;33m                 \u001b[0mcost_m\u001b[0m \u001b[1;33m=\u001b[0m \u001b[1;33m(\u001b[0m \u001b[0mx_dict\u001b[0m\u001b[1;33m[\u001b[0m\u001b[0mparam\u001b[0m\u001b[1;33m]\u001b[0m \u001b[1;33m-\u001b[0m \u001b[0mself\u001b[0m\u001b[1;33m.\u001b[0m\u001b[0mmu\u001b[0m\u001b[1;33m[\u001b[0m\u001b[0mparam\u001b[0m\u001b[1;33m]\u001b[0m\u001b[1;33m)\u001b[0m\u001b[1;33m.\u001b[0m\u001b[0mdot\u001b[0m \u001b[1;33m(\u001b[0m \u001b[0mself\u001b[0m\u001b[1;33m.\u001b[0m\u001b[0minv_cov\u001b[0m\u001b[1;33m[\u001b[0m\u001b[0mparam\u001b[0m\u001b[1;33m]\u001b[0m \u001b[1;33m)\u001b[0m\u001b[1;33m\u001b[0m\u001b[0m\n\u001b[0m\u001b[0;32m    177\u001b[0m                 \u001b[0mcost\u001b[0m \u001b[1;33m=\u001b[0m \u001b[0mcost\u001b[0m \u001b[1;33m+\u001b[0m \u001b[1;36m0.5\u001b[0m\u001b[1;33m*\u001b[0m\u001b[1;33m(\u001b[0m\u001b[0mcost_m\u001b[0m\u001b[1;33m*\u001b[0m\u001b[1;33m(\u001b[0m\u001b[0mx_dict\u001b[0m\u001b[1;33m[\u001b[0m\u001b[0mparam\u001b[0m\u001b[1;33m]\u001b[0m \u001b[1;33m-\u001b[0m \u001b[0mself\u001b[0m\u001b[1;33m.\u001b[0m\u001b[0mmu\u001b[0m\u001b[1;33m[\u001b[0m\u001b[0mparam\u001b[0m\u001b[1;33m]\u001b[0m\u001b[1;33m)\u001b[0m\u001b[1;33m)\u001b[0m\u001b[1;33m.\u001b[0m\u001b[0msum\u001b[0m\u001b[1;33m(\u001b[0m\u001b[1;33m)\u001b[0m\u001b[1;33m\u001b[0m\u001b[0m\n\u001b[0;32m    178\u001b[0m                 \u001b[0mder_cost\u001b[0m\u001b[1;33m[\u001b[0m\u001b[0mi\u001b[0m\u001b[1;33m:\u001b[0m\u001b[1;33m(\u001b[0m\u001b[0mi\u001b[0m\u001b[1;33m+\u001b[0m\u001b[0mn_elems\u001b[0m\u001b[1;33m)\u001b[0m\u001b[1;33m]\u001b[0m \u001b[1;33m=\u001b[0m \u001b[0mcost_m\u001b[0m\u001b[1;33m\u001b[0m\u001b[0m\n",
        "\u001b[1;31mValueError\u001b[0m: matrices are not aligned"
       ]
      }
     ],
     "prompt_number": 16
    },
    {
     "cell_type": "code",
     "collapsed": false,
     "input": [
      "%"
     ],
     "language": "python",
     "metadata": {},
     "outputs": []
    },
    {
     "cell_type": "code",
     "collapsed": false,
     "input": [],
     "language": "python",
     "metadata": {},
     "outputs": []
    }
   ],
   "metadata": {}
  }
 ]
}